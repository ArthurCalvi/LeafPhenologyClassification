{
 "cells": [
  {
   "cell_type": "code",
   "execution_count": null,
   "metadata": {},
   "outputs": [],
   "source": [
    "import geopandas as gpd \n",
    "\n",
    "bdforet = gpd.read_parquet(\"/Users/arthurcalvi/Repo/Disturbance-Attribution-Dataset-Joining/data/processed_datasets/BDFORET_EPSG2154_FR.parquet\")\n"
   ]
  },
  {
   "cell_type": "code",
   "execution_count": null,
   "metadata": {},
   "outputs": [],
   "source": [
    "bdforet"
   ]
  },
  {
   "cell_type": "code",
   "execution_count": null,
   "metadata": {},
   "outputs": [],
   "source": [
    "bdforet.CODE_TFV.unique()"
   ]
  },
  {
   "cell_type": "code",
   "execution_count": null,
   "metadata": {},
   "outputs": [],
   "source": [
    "bdforet.TFV.unique()"
   ]
  },
  {
   "cell_type": "markdown",
   "metadata": {},
   "source": [
    "# Keeping only pure forests. "
   ]
  },
  {
   "cell_type": "code",
   "execution_count": null,
   "metadata": {},
   "outputs": [],
   "source": [
    "# Assuming bdforet is your GeoDataFrame\n",
    "filtered_bdforet = bdforet[bdforet['CODE_TFV'].str.startswith(('FF2', 'FF1'))]\n",
    "#print percentage of rows that have been filtered out\n",
    "print(\"Percentage of rows that have been filtered out: \", (1 - len(filtered_bdforet)/len(bdforet))*100)"
   ]
  },
  {
   "cell_type": "code",
   "execution_count": null,
   "metadata": {},
   "outputs": [],
   "source": [
    "filtered_bdforet.ESSENCE.unique()"
   ]
  },
  {
   "cell_type": "code",
   "execution_count": null,
   "metadata": {},
   "outputs": [],
   "source": [
    "species = gpd.read_file('/Users/arthurcalvi/Data/species/france_species.shp')"
   ]
  },
  {
   "cell_type": "code",
   "execution_count": null,
   "metadata": {},
   "outputs": [],
   "source": [
    "species.specie_en.unique()"
   ]
  },
  {
   "cell_type": "code",
   "execution_count": null,
   "metadata": {},
   "outputs": [],
   "source": [
    "species.genus_en.unique()"
   ]
  },
  {
   "cell_type": "code",
   "execution_count": null,
   "metadata": {},
   "outputs": [],
   "source": [
    "species.phen_en.unique()"
   ]
  },
  {
   "cell_type": "markdown",
   "metadata": {},
   "source": [
    "# Convertin to en names"
   ]
  },
  {
   "cell_type": "code",
   "execution_count": null,
   "metadata": {},
   "outputs": [],
   "source": [
    "import pandas as pd\n",
    "species_mapping = {\n",
    "    'Pin maritime': {\n",
    "        'specie_en': 'maritime pine',\n",
    "        'genus_en': 'pine',\n",
    "        'phen_en': 'evergreen'\n",
    "    },\n",
    "    'Feuillus': {\n",
    "        'specie_en': None,\n",
    "        'genus_en': None,\n",
    "        'phen_en': 'deciduous'\n",
    "    },\n",
    "    'Pins mélangés': {\n",
    "        'specie_en': None,\n",
    "        'genus_en': 'pine',\n",
    "        'phen_en': 'evergreen'\n",
    "    },\n",
    "    'Conifères': {\n",
    "        'specie_en': None,\n",
    "        'genus_en': None,\n",
    "        'phen_en': 'evergreen'\n",
    "    },\n",
    "    'Sapin, épicéa': {\n",
    "        'specie_en': 'silver fir',  # Assuming \"Sapin\" refers to \"silver fir\"\n",
    "        'genus_en': 'fir',\n",
    "        'phen_en': 'evergreen'\n",
    "    },\n",
    "    'Douglas': {\n",
    "        'specie_en': 'douglas fir',\n",
    "        'genus_en': 'douglas',\n",
    "        'phen_en': 'evergreen'\n",
    "    },\n",
    "    'Pin sylvestre': {\n",
    "        'specie_en': 'scots pine',\n",
    "        'genus_en': 'pine',\n",
    "        'phen_en': 'evergreen'\n",
    "    },\n",
    "    'Châtaignier': {\n",
    "        'specie_en': 'sweet chestnut',\n",
    "        'genus_en': 'chestnut',\n",
    "        'phen_en': 'deciduous'\n",
    "    },\n",
    "    'Chênes décidus': {\n",
    "        'specie_en': 'pedunculate oak',  # Assuming \"Chênes décidus\" refers to \"pedunculate oak\"\n",
    "        'genus_en': 'oak',\n",
    "        'phen_en': 'deciduous'\n",
    "    },\n",
    "    'Pin laricio, pin noir': {\n",
    "        'specie_en': 'black pine',\n",
    "        'genus_en': 'pine',\n",
    "        'phen_en': 'evergreen'\n",
    "    },\n",
    "    'Mélèze': {\n",
    "        'specie_en': 'european larch',\n",
    "        'genus_en': 'larch',\n",
    "        'phen_en': 'deciduous'\n",
    "    },\n",
    "    'Pin autre': {\n",
    "        'specie_en': None,\n",
    "        'genus_en': 'pine',\n",
    "        'phen_en': 'evergreen'\n",
    "    },\n",
    "    'Hêtre': {\n",
    "        'specie_en': 'commun beech',\n",
    "        'genus_en': 'beech',\n",
    "        'phen_en': 'deciduous'\n",
    "    },\n",
    "    'Robinier': {\n",
    "        'specie_en': 'black locust',\n",
    "        'genus_en': 'locusts',\n",
    "        'phen_en': 'deciduous'\n",
    "    },\n",
    "    'Ch�nes d�cidus': {\n",
    "        'specie_en': 'pedunculate oak',  # Assuming this is a typo for \"Chênes décidus\"\n",
    "        'genus_en': 'oak',\n",
    "        'phen_en': 'deciduous'\n",
    "    },\n",
    "    'Ch�nes sempervirents': {\n",
    "        'specie_en': 'holm oak',  # Assuming this is a typo for \"Chênes sempervirents\"\n",
    "        'genus_en': 'oak',\n",
    "        'phen_en': 'evergreen'\n",
    "    },\n",
    "    'H�tre': {\n",
    "        'specie_en': 'commun beech',  # Assuming this is a typo for \"Hêtre\"\n",
    "        'genus_en': 'beech',\n",
    "        'phen_en': 'deciduous'\n",
    "    },\n",
    "    'Conif�res': {\n",
    "        'specie_en': None,  # Assuming this is a typo for \"Conifères\"\n",
    "        'genus_en': None,\n",
    "        'phen_en': 'evergreen'\n",
    "    },\n",
    "    \"Pin d'Alep\": {\n",
    "        'specie_en': 'aleppo pine',\n",
    "        'genus_en': 'pine',\n",
    "        'phen_en': 'evergreen'\n",
    "    },\n",
    "    'Pin � crochets, pin cembro': {\n",
    "        'specie_en': None,  # Assuming this is a typo for \"Pin à crochets, pin cembro\"\n",
    "        'genus_en': 'pine',\n",
    "        'phen_en': 'evergreen'\n",
    "    },\n",
    "    'M�l�ze': {\n",
    "        'specie_en': 'european larch',  # Assuming this is a typo for \"Mélèze\"\n",
    "        'genus_en': 'larch',\n",
    "        'phen_en': 'deciduous'\n",
    "    },\n",
    "    'Pins m�lang�s': {\n",
    "        'specie_en': None,  # Assuming this is a typo for \"Pins mélangés\"\n",
    "        'genus_en': 'pine',\n",
    "        'phen_en': 'evergreen'\n",
    "    },\n",
    "    'Sapin, �pic�a': {\n",
    "        'specie_en': 'silver fir',  # Assuming this is a typo for \"Sapin, épicéa\"\n",
    "        'genus_en': 'fir',\n",
    "        'phen_en': 'evergreen'\n",
    "    },\n",
    "    'Ch�taignier': {\n",
    "        'specie_en': 'sweet chestnut',  # Assuming this is a typo for \"Châtaignier\"\n",
    "        'genus_en': 'chestnut',\n",
    "        'phen_en': 'deciduous'\n",
    "    },\n",
    "    'Chênes sempervirents': {\n",
    "        'specie_en': 'holm oak',\n",
    "        'genus_en': 'oak',\n",
    "        'phen_en': 'evergreen'\n",
    "    },\n",
    "    'Pin à crochets, pin cembro': {\n",
    "        'specie_en': None,\n",
    "        'genus_en': 'pine',\n",
    "        'phen_en': 'evergreen'\n",
    "    },\n",
    "    'ChÃ¢taignier': {\n",
    "        'specie_en': 'sweet chestnut',  # Assuming this is a typo for \"Châtaignier\"\n",
    "        'genus_en': 'chestnut',\n",
    "        'phen_en': 'deciduous'\n",
    "    },\n",
    "    'ChÃªnes dÃ©cidus': {\n",
    "        'specie_en': 'pedunculate oak',  # Assuming this is a typo for \"Chênes décidus\"\n",
    "        'genus_en': 'oak',\n",
    "        'phen_en': 'deciduous'\n",
    "    },\n",
    "    'HÃªtre': {\n",
    "        'specie_en': 'commun beech',  # Assuming this is a typo for \"Hêtre\"\n",
    "        'genus_en': 'beech',\n",
    "        'phen_en': 'deciduous'\n",
    "    },\n",
    "    'ConifÃ¨res': {\n",
    "        'specie_en': None,  # Assuming this is a typo for \"Conifères\"\n",
    "        'genus_en': None,\n",
    "        'phen_en': 'evergreen'\n",
    "    },\n",
    "    'Pins mÃ©langÃ©s': {\n",
    "        'specie_en': None,  # Assuming this is a typo for \"Pins mélangés\"\n",
    "        'genus_en': 'pine',\n",
    "        'phen_en': 'evergreen'\n",
    "    },\n",
    "    'Sapin, Ã©picÃ©a': {\n",
    "        'specie_en': 'silver fir',  # Assuming this is a typo for \"Sapin, épicéa\"\n",
    "        'genus_en': 'fir',\n",
    "        'phen_en': 'evergreen'\n",
    "    },\n",
    "    'MÃ©lÃ¨ze': {\n",
    "        'specie_en': 'european larch',  # Assuming this is a typo for \"Mélèze\"\n",
    "        'genus_en': 'larch',\n",
    "        'phen_en': 'deciduous'\n",
    "    },\n",
    "    'ChÃªnes sempervirents': {\n",
    "        'specie_en': 'holm oak',  # Assuming this is a typo for \"Chênes sempervirents\"\n",
    "        'genus_en': 'oak',\n",
    "        'phen_en': 'evergreen'\n",
    "    },\n",
    "    'Pin Ã\\xa0 crochets, pin cembro': {\n",
    "        'specie_en': None,  # Assuming this is a typo for \"Pin à crochets, pin cembro\"\n",
    "        'genus_en': 'pine',\n",
    "        'phen_en': 'evergreen'\n",
    "    },\n",
    "}\n",
    "\n",
    "# Function to map each French species name to the corresponding English names and phenology\n",
    "def map_species(species_name: str):\n",
    "    mapping = species_mapping.get(species_name, {'specie_en': None, 'genus_en': None, 'phen_en': None})\n",
    "    return pd.Series([mapping['specie_en'], mapping['genus_en'], mapping['phen_en']], index=['specie_en', 'genus_en', 'phen_en'])\n",
    "\n",
    "# Apply the mapping to create the new columns in filtered_bdforet\n",
    "filtered_bdforet[['specie_en', 'genus_en', 'phen_en']] = filtered_bdforet['ESSENCE'].apply(map_species)\n"
   ]
  },
  {
   "cell_type": "code",
   "execution_count": null,
   "metadata": {},
   "outputs": [],
   "source": [
    "final_bdforet = filtered_bdforet.drop(columns=['ESSENCE', 'CODE_TFV', 'TFV', 'TFV_G11', 'ID_num'])"
   ]
  },
  {
   "cell_type": "code",
   "execution_count": null,
   "metadata": {},
   "outputs": [],
   "source": [
    "final_bdforet.geometry = final_bdforet.geometry.simplify(10)"
   ]
  },
  {
   "cell_type": "code",
   "execution_count": null,
   "metadata": {},
   "outputs": [],
   "source": []
  },
  {
   "cell_type": "markdown",
   "metadata": {},
   "source": [
    "# Adding the sampling year"
   ]
  },
  {
   "cell_type": "code",
   "execution_count": null,
   "metadata": {},
   "outputs": [],
   "source": [
    "import pandas as pd\n",
    "bdforet_year = pd.read_csv('/Users/arthurcalvi/Data/Disturbances_maps/BDForet/Année_reference_BDForet.csv', sep=';')\n",
    "dep = gpd.read_file('/Users/arthurcalvi/Data/Disturbances_maps/BDForet/contour-des-departements.geojson')"
   ]
  },
  {
   "cell_type": "code",
   "execution_count": null,
   "metadata": {},
   "outputs": [],
   "source": [
    "dep"
   ]
  },
  {
   "cell_type": "code",
   "execution_count": null,
   "metadata": {},
   "outputs": [],
   "source": [
    "bdforet_year"
   ]
  },
  {
   "cell_type": "code",
   "execution_count": null,
   "metadata": {},
   "outputs": [],
   "source": [
    "# Merge final_bdforet with dep on the department code to add the 'N dep' column\n",
    "# Assuming final_bdforet already has a geometry column and we just need to match the department\n",
    "# merged_df = gpd.sjoin(final_bdforet, dep.to_crs(final_bdforet.crs), how='left', op='within')\n",
    "\n",
    "# Merge the intermediate result with bdforet_year to add the 'year' column\n",
    "final_bdforet_with_year = merged_df.merge(bdforet_year, left_on='code', right_on='N° Dep', how='left')\n",
    "\n",
    "# Drop any unnecessary columns that might have been added during the merge\n",
    "final_bdforet_with_year = final_bdforet_with_year.drop(columns=['code', 'N° Dep'])\n",
    "\n",
    "# The final dataframe now has the 'year' column added\n"
   ]
  },
  {
   "cell_type": "code",
   "execution_count": null,
   "metadata": {},
   "outputs": [],
   "source": [
    "# Compute the 'year' column as the maximum of the two specified columns\n",
    "final_bdforet_with_year['year'] = final_bdforet_with_year[\n",
    "    ['Année de référence (PVA)', 'Année de référence de la mise à jour (PVA)']\n",
    "].max(axis=1)\n",
    "\n",
    "final_bdforet_with_year = final_bdforet_with_year.drop(columns=['Année de référence (PVA)', 'Année de référence de la mise à jour (PVA)', 'Nom département', 'nom', 'index_right', 'Unnamed: 4'])"
   ]
  },
  {
   "cell_type": "code",
   "execution_count": null,
   "metadata": {},
   "outputs": [],
   "source": [
    "final_bdforet_with_year.to_parquet('/Users/arthurcalvi/Data/Disturbances_maps/BDForet/bdforet_10_EN_year.parquet')"
   ]
  }
 ],
 "metadata": {
  "kernelspec": {
   "display_name": "Kayrros-default",
   "language": "python",
   "name": "python3"
  },
  "language_info": {
   "codemirror_mode": {
    "name": "ipython",
    "version": 3
   },
   "file_extension": ".py",
   "mimetype": "text/x-python",
   "name": "python",
   "nbconvert_exporter": "python",
   "pygments_lexer": "ipython3",
   "version": "3.9.6"
  }
 },
 "nbformat": 4,
 "nbformat_minor": 2
}
