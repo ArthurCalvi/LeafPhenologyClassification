{
 "cells": [
  {
   "cell_type": "code",
   "execution_count": 6,
   "metadata": {},
   "outputs": [
    {
     "name": "stderr",
     "output_type": "stream",
     "text": [
      "/var/folders/1c/h8t9_vd53gsgz_wm9kswm8wm0000gp/T/ipykernel_5440/1627111195.py:21: SettingWithCopyWarning: \n",
      "A value is trying to be set on a copy of a slice from a DataFrame\n",
      "\n",
      "See the caveats in the documentation: https://pandas.pydata.org/pandas-docs/stable/user_guide/indexing.html#returning-a-view-versus-a-copy\n",
      "  X_train.replace([np.inf, -np.inf], np.nan, inplace=True)\n",
      "/var/folders/1c/h8t9_vd53gsgz_wm9kswm8wm0000gp/T/ipykernel_5440/1627111195.py:22: SettingWithCopyWarning: \n",
      "A value is trying to be set on a copy of a slice from a DataFrame\n",
      "\n",
      "See the caveats in the documentation: https://pandas.pydata.org/pandas-docs/stable/user_guide/indexing.html#returning-a-view-versus-a-copy\n",
      "  X_val.replace([np.inf, -np.inf], np.nan, inplace=True)\n",
      "/var/folders/1c/h8t9_vd53gsgz_wm9kswm8wm0000gp/T/ipykernel_5440/1627111195.py:25: SettingWithCopyWarning: \n",
      "A value is trying to be set on a copy of a slice from a DataFrame.\n",
      "Try using .loc[row_indexer,col_indexer] = value instead\n",
      "\n",
      "See the caveats in the documentation: https://pandas.pydata.org/pandas-docs/stable/user_guide/indexing.html#returning-a-view-versus-a-copy\n",
      "  X_train.fillna(X_train.mean(), inplace=True)\n",
      "/var/folders/1c/h8t9_vd53gsgz_wm9kswm8wm0000gp/T/ipykernel_5440/1627111195.py:25: SettingWithCopyWarning: \n",
      "A value is trying to be set on a copy of a slice from a DataFrame.\n",
      "Try using .loc[row_indexer,col_indexer] = value instead\n",
      "\n",
      "See the caveats in the documentation: https://pandas.pydata.org/pandas-docs/stable/user_guide/indexing.html#returning-a-view-versus-a-copy\n",
      "  X_train.fillna(X_train.mean(), inplace=True)\n",
      "/var/folders/1c/h8t9_vd53gsgz_wm9kswm8wm0000gp/T/ipykernel_5440/1627111195.py:25: SettingWithCopyWarning: \n",
      "A value is trying to be set on a copy of a slice from a DataFrame.\n",
      "Try using .loc[row_indexer,col_indexer] = value instead\n",
      "\n",
      "See the caveats in the documentation: https://pandas.pydata.org/pandas-docs/stable/user_guide/indexing.html#returning-a-view-versus-a-copy\n",
      "  X_train.fillna(X_train.mean(), inplace=True)\n",
      "/var/folders/1c/h8t9_vd53gsgz_wm9kswm8wm0000gp/T/ipykernel_5440/1627111195.py:25: SettingWithCopyWarning: \n",
      "A value is trying to be set on a copy of a slice from a DataFrame.\n",
      "Try using .loc[row_indexer,col_indexer] = value instead\n",
      "\n",
      "See the caveats in the documentation: https://pandas.pydata.org/pandas-docs/stable/user_guide/indexing.html#returning-a-view-versus-a-copy\n",
      "  X_train.fillna(X_train.mean(), inplace=True)\n",
      "/var/folders/1c/h8t9_vd53gsgz_wm9kswm8wm0000gp/T/ipykernel_5440/1627111195.py:25: SettingWithCopyWarning: \n",
      "A value is trying to be set on a copy of a slice from a DataFrame.\n",
      "Try using .loc[row_indexer,col_indexer] = value instead\n",
      "\n",
      "See the caveats in the documentation: https://pandas.pydata.org/pandas-docs/stable/user_guide/indexing.html#returning-a-view-versus-a-copy\n",
      "  X_train.fillna(X_train.mean(), inplace=True)\n",
      "/var/folders/1c/h8t9_vd53gsgz_wm9kswm8wm0000gp/T/ipykernel_5440/1627111195.py:25: SettingWithCopyWarning: \n",
      "A value is trying to be set on a copy of a slice from a DataFrame.\n",
      "Try using .loc[row_indexer,col_indexer] = value instead\n",
      "\n",
      "See the caveats in the documentation: https://pandas.pydata.org/pandas-docs/stable/user_guide/indexing.html#returning-a-view-versus-a-copy\n",
      "  X_train.fillna(X_train.mean(), inplace=True)\n",
      "/var/folders/1c/h8t9_vd53gsgz_wm9kswm8wm0000gp/T/ipykernel_5440/1627111195.py:25: SettingWithCopyWarning: \n",
      "A value is trying to be set on a copy of a slice from a DataFrame.\n",
      "Try using .loc[row_indexer,col_indexer] = value instead\n",
      "\n",
      "See the caveats in the documentation: https://pandas.pydata.org/pandas-docs/stable/user_guide/indexing.html#returning-a-view-versus-a-copy\n",
      "  X_train.fillna(X_train.mean(), inplace=True)\n",
      "/var/folders/1c/h8t9_vd53gsgz_wm9kswm8wm0000gp/T/ipykernel_5440/1627111195.py:25: SettingWithCopyWarning: \n",
      "A value is trying to be set on a copy of a slice from a DataFrame.\n",
      "Try using .loc[row_indexer,col_indexer] = value instead\n",
      "\n",
      "See the caveats in the documentation: https://pandas.pydata.org/pandas-docs/stable/user_guide/indexing.html#returning-a-view-versus-a-copy\n",
      "  X_train.fillna(X_train.mean(), inplace=True)\n",
      "/var/folders/1c/h8t9_vd53gsgz_wm9kswm8wm0000gp/T/ipykernel_5440/1627111195.py:25: SettingWithCopyWarning: \n",
      "A value is trying to be set on a copy of a slice from a DataFrame.\n",
      "Try using .loc[row_indexer,col_indexer] = value instead\n",
      "\n",
      "See the caveats in the documentation: https://pandas.pydata.org/pandas-docs/stable/user_guide/indexing.html#returning-a-view-versus-a-copy\n",
      "  X_train.fillna(X_train.mean(), inplace=True)\n",
      "/var/folders/1c/h8t9_vd53gsgz_wm9kswm8wm0000gp/T/ipykernel_5440/1627111195.py:25: SettingWithCopyWarning: \n",
      "A value is trying to be set on a copy of a slice from a DataFrame.\n",
      "Try using .loc[row_indexer,col_indexer] = value instead\n",
      "\n",
      "See the caveats in the documentation: https://pandas.pydata.org/pandas-docs/stable/user_guide/indexing.html#returning-a-view-versus-a-copy\n",
      "  X_train.fillna(X_train.mean(), inplace=True)\n",
      "/var/folders/1c/h8t9_vd53gsgz_wm9kswm8wm0000gp/T/ipykernel_5440/1627111195.py:25: SettingWithCopyWarning: \n",
      "A value is trying to be set on a copy of a slice from a DataFrame.\n",
      "Try using .loc[row_indexer,col_indexer] = value instead\n",
      "\n",
      "See the caveats in the documentation: https://pandas.pydata.org/pandas-docs/stable/user_guide/indexing.html#returning-a-view-versus-a-copy\n",
      "  X_train.fillna(X_train.mean(), inplace=True)\n",
      "/var/folders/1c/h8t9_vd53gsgz_wm9kswm8wm0000gp/T/ipykernel_5440/1627111195.py:26: SettingWithCopyWarning: \n",
      "A value is trying to be set on a copy of a slice from a DataFrame.\n",
      "Try using .loc[row_indexer,col_indexer] = value instead\n",
      "\n",
      "See the caveats in the documentation: https://pandas.pydata.org/pandas-docs/stable/user_guide/indexing.html#returning-a-view-versus-a-copy\n",
      "  X_val.fillna(X_val.mean(), inplace=True)\n",
      "/var/folders/1c/h8t9_vd53gsgz_wm9kswm8wm0000gp/T/ipykernel_5440/1627111195.py:26: SettingWithCopyWarning: \n",
      "A value is trying to be set on a copy of a slice from a DataFrame.\n",
      "Try using .loc[row_indexer,col_indexer] = value instead\n",
      "\n",
      "See the caveats in the documentation: https://pandas.pydata.org/pandas-docs/stable/user_guide/indexing.html#returning-a-view-versus-a-copy\n",
      "  X_val.fillna(X_val.mean(), inplace=True)\n",
      "/var/folders/1c/h8t9_vd53gsgz_wm9kswm8wm0000gp/T/ipykernel_5440/1627111195.py:26: SettingWithCopyWarning: \n",
      "A value is trying to be set on a copy of a slice from a DataFrame.\n",
      "Try using .loc[row_indexer,col_indexer] = value instead\n",
      "\n",
      "See the caveats in the documentation: https://pandas.pydata.org/pandas-docs/stable/user_guide/indexing.html#returning-a-view-versus-a-copy\n",
      "  X_val.fillna(X_val.mean(), inplace=True)\n",
      "/var/folders/1c/h8t9_vd53gsgz_wm9kswm8wm0000gp/T/ipykernel_5440/1627111195.py:26: SettingWithCopyWarning: \n",
      "A value is trying to be set on a copy of a slice from a DataFrame.\n",
      "Try using .loc[row_indexer,col_indexer] = value instead\n",
      "\n",
      "See the caveats in the documentation: https://pandas.pydata.org/pandas-docs/stable/user_guide/indexing.html#returning-a-view-versus-a-copy\n",
      "  X_val.fillna(X_val.mean(), inplace=True)\n",
      "/var/folders/1c/h8t9_vd53gsgz_wm9kswm8wm0000gp/T/ipykernel_5440/1627111195.py:26: SettingWithCopyWarning: \n",
      "A value is trying to be set on a copy of a slice from a DataFrame.\n",
      "Try using .loc[row_indexer,col_indexer] = value instead\n",
      "\n",
      "See the caveats in the documentation: https://pandas.pydata.org/pandas-docs/stable/user_guide/indexing.html#returning-a-view-versus-a-copy\n",
      "  X_val.fillna(X_val.mean(), inplace=True)\n",
      "/var/folders/1c/h8t9_vd53gsgz_wm9kswm8wm0000gp/T/ipykernel_5440/1627111195.py:26: SettingWithCopyWarning: \n",
      "A value is trying to be set on a copy of a slice from a DataFrame.\n",
      "Try using .loc[row_indexer,col_indexer] = value instead\n",
      "\n",
      "See the caveats in the documentation: https://pandas.pydata.org/pandas-docs/stable/user_guide/indexing.html#returning-a-view-versus-a-copy\n",
      "  X_val.fillna(X_val.mean(), inplace=True)\n",
      "/var/folders/1c/h8t9_vd53gsgz_wm9kswm8wm0000gp/T/ipykernel_5440/1627111195.py:26: SettingWithCopyWarning: \n",
      "A value is trying to be set on a copy of a slice from a DataFrame.\n",
      "Try using .loc[row_indexer,col_indexer] = value instead\n",
      "\n",
      "See the caveats in the documentation: https://pandas.pydata.org/pandas-docs/stable/user_guide/indexing.html#returning-a-view-versus-a-copy\n",
      "  X_val.fillna(X_val.mean(), inplace=True)\n",
      "/var/folders/1c/h8t9_vd53gsgz_wm9kswm8wm0000gp/T/ipykernel_5440/1627111195.py:26: SettingWithCopyWarning: \n",
      "A value is trying to be set on a copy of a slice from a DataFrame.\n",
      "Try using .loc[row_indexer,col_indexer] = value instead\n",
      "\n",
      "See the caveats in the documentation: https://pandas.pydata.org/pandas-docs/stable/user_guide/indexing.html#returning-a-view-versus-a-copy\n",
      "  X_val.fillna(X_val.mean(), inplace=True)\n",
      "/var/folders/1c/h8t9_vd53gsgz_wm9kswm8wm0000gp/T/ipykernel_5440/1627111195.py:26: SettingWithCopyWarning: \n",
      "A value is trying to be set on a copy of a slice from a DataFrame.\n",
      "Try using .loc[row_indexer,col_indexer] = value instead\n",
      "\n",
      "See the caveats in the documentation: https://pandas.pydata.org/pandas-docs/stable/user_guide/indexing.html#returning-a-view-versus-a-copy\n",
      "  X_val.fillna(X_val.mean(), inplace=True)\n",
      "/var/folders/1c/h8t9_vd53gsgz_wm9kswm8wm0000gp/T/ipykernel_5440/1627111195.py:26: SettingWithCopyWarning: \n",
      "A value is trying to be set on a copy of a slice from a DataFrame.\n",
      "Try using .loc[row_indexer,col_indexer] = value instead\n",
      "\n",
      "See the caveats in the documentation: https://pandas.pydata.org/pandas-docs/stable/user_guide/indexing.html#returning-a-view-versus-a-copy\n",
      "  X_val.fillna(X_val.mean(), inplace=True)\n",
      "/var/folders/1c/h8t9_vd53gsgz_wm9kswm8wm0000gp/T/ipykernel_5440/1627111195.py:26: SettingWithCopyWarning: \n",
      "A value is trying to be set on a copy of a slice from a DataFrame.\n",
      "Try using .loc[row_indexer,col_indexer] = value instead\n",
      "\n",
      "See the caveats in the documentation: https://pandas.pydata.org/pandas-docs/stable/user_guide/indexing.html#returning-a-view-versus-a-copy\n",
      "  X_val.fillna(X_val.mean(), inplace=True)\n"
     ]
    },
    {
     "name": "stdout",
     "output_type": "stream",
     "text": [
      "Model saved.\n",
      "{'Accuracy': 0.9550844832708585, 'Kappa': 0.9091602510918838, 'True Positives': 0.4247394071948267, 'True Negatives': 0.5303450760760318, 'False Positives': 0.018985821475754915, 'False Negatives': 0.0259296952533866}\n",
      "                             GRECO Region  Accuracy     Kappa  True Positives  \\\n",
      "0         Ouest-Bretagne_et_Nord-Cotentin  0.491667  0.000000        0.000000   \n",
      "1                  Massif_vosgien_central  0.471698 -0.016903        0.025157   \n",
      "2                        Piémont_pyrénéen  0.663265  0.322652        0.188776   \n",
      "3          Côtes_et_plateaux_de_la_Manche  0.994538  0.000000        0.000000   \n",
      "4                        Préalpes_du_Nord  0.993389  0.000000        0.993389   \n",
      "5                           Terres_rouges  0.995580  0.989671        0.307964   \n",
      "6   Châtaigneraie_du_Centre_et_de_l'Ouest  0.998695  0.484200        0.998080   \n",
      "7                       Corse_occidentale  0.997410  0.123801        0.997225   \n",
      "8                               Garrigues  0.758102  0.318454        0.107777   \n",
      "9                        Ardenne_primaire  0.972750  0.000000        0.000000   \n",
      "10                Premier_plateau_du_Jura  0.928702  0.298843        0.911639   \n",
      "\n",
      "    True Negatives  False Positives  False Negatives  \n",
      "0         0.491667         0.508333         0.000000  \n",
      "1         0.446541         0.496855         0.031447  \n",
      "2         0.474490         0.306122         0.030612  \n",
      "3         0.994538         0.005462         0.000000  \n",
      "4         0.000000         0.000000         0.006611  \n",
      "5         0.687616         0.003777         0.000643  \n",
      "6         0.000614         0.000768         0.000538  \n",
      "7         0.000185         0.001702         0.000888  \n",
      "8         0.650325         0.088503         0.153395  \n",
      "9         0.972750         0.027250         0.000000  \n",
      "10        0.017063         0.005484         0.065814  \n",
      "Validation metrics breakdown per GRECO region saved.\n",
      "    Tile  Accuracy     Kappa  True Positives  True Negatives  False Positives  \\\n",
      "0      0  0.388158  0.000000        0.000000        0.388158         0.611842   \n",
      "1     25  0.471698 -0.016903        0.025157        0.446541         0.496855   \n",
      "2     71  0.455696  0.001176        0.354430        0.101266         0.468354   \n",
      "3     13  0.999730  0.000000        0.000000        0.999730         0.000270   \n",
      "4     56  0.993389  0.000000        0.993389        0.000000         0.000000   \n",
      "5      6  0.550459  0.000000        0.000000        0.550459         0.449541   \n",
      "6     40  0.995186  0.000000        0.000000        0.995186         0.004814   \n",
      "7     54  0.998695  0.484200        0.998080        0.000614         0.000768   \n",
      "8     83  0.993705  0.149298        0.993143        0.000562         0.005171   \n",
      "9     41  0.997539 -0.000641        0.997539        0.000000         0.000379   \n",
      "10    12  0.992028  0.000000        0.000000        0.992028         0.007972   \n",
      "11    65  0.803419  0.362473        0.076923        0.726496         0.196581   \n",
      "12     2  0.585859  0.000000        0.000000        0.585859         0.414141   \n",
      "13    79  0.758102  0.318454        0.107777        0.650325         0.088503   \n",
      "14    17  0.964860  0.000000        0.000000        0.964860         0.035140   \n",
      "15    42  0.993532  0.000000        0.000000        0.993532         0.006468   \n",
      "16    80  0.999228  0.000000        0.999228        0.000000         0.000000   \n",
      "17    18  0.984689  0.000000        0.000000        0.984689         0.015311   \n",
      "18    35  0.928702  0.298843        0.911639        0.017063         0.005484   \n",
      "\n",
      "    False Negatives  \n",
      "0          0.000000  \n",
      "1          0.031447  \n",
      "2          0.075949  \n",
      "3          0.000000  \n",
      "4          0.006611  \n",
      "5          0.000000  \n",
      "6          0.000000  \n",
      "7          0.000538  \n",
      "8          0.001124  \n",
      "9          0.002083  \n",
      "10         0.000000  \n",
      "11         0.000000  \n",
      "12         0.000000  \n",
      "13         0.153395  \n",
      "14         0.000000  \n",
      "15         0.000000  \n",
      "16         0.000772  \n",
      "17         0.000000  \n",
      "18         0.065814  \n",
      "Validation metrics breakdown per tile saved.\n"
     ]
    },
    {
     "data": {
      "image/png": "[encoded data removed]",
      "text/plain": [
       "<Figure size 1200x600 with 1 Axes>"
      ]
     },
     "metadata": {},
     "output_type": "display_data"
    }
   ],
   "source": [
    "import pandas as pd\n",
    "import numpy as np\n",
    "from sklearn.ensemble import RandomForestClassifier\n",
    "from utils import compute_metrics\n",
    "import matplotlib.pyplot as plt\n",
    "import joblib \n",
    "import os\n",
    "\n",
    "# Load the training and validation datasets\n",
    "train_data = pd.read_csv('train_data.csv')\n",
    "val_data = pd.read_csv('val_data.csv')\n",
    "\n",
    "# Define features and target\n",
    "features = ['amplitude_red', 'phase_red', 'offset_red', 'amplitude_crswir', 'phase_crswir', 'offset_crswir', 'amplitude_rcc', 'phase_rcc', 'offset_rcc', 'elevation', 'aspect']\n",
    "X_train = train_data[features]\n",
    "y_train = train_data['phen']\n",
    "X_val = val_data[features]\n",
    "y_val = val_data['phen']\n",
    "\n",
    "# Replace infinity values with NaNs\n",
    "X_train.replace([np.inf, -np.inf], np.nan, inplace=True)\n",
    "X_val.replace([np.inf, -np.inf], np.nan, inplace=True)\n",
    "\n",
    "# Replace NaNs with the mean of each column\n",
    "X_train.fillna(X_train.mean(), inplace=True)\n",
    "X_val.fillna(X_val.mean(), inplace=True)\n",
    "\n",
    "# Train Random Forest classifier\n",
    "rf = RandomForestClassifier(n_estimators=100, random_state=42, n_jobs=-1, max_depth=None)\n",
    "rf.fit(X_train, y_train)\n",
    "\n",
    "#save model\n",
    "os.makedirs('models', exist_ok=True)\n",
    "joblib.dump(rf, 'models/exp2_rf_model_features-all.pkl')\n",
    "print(\"Model saved.\")\n",
    "\n",
    "# Predict on validation set\n",
    "val_data['predicted_phen'] = rf.predict(X_val)\n",
    "\n",
    "# Compute overall metrics\n",
    "metrics = compute_metrics(val_data['phen'], val_data['predicted_phen'])\n",
    "print(metrics)\n",
    "\n",
    "# Compute breakdown per GRECO region\n",
    "metrics_per_greco = []\n",
    "\n",
    "for greco_region in val_data['greco_region'].unique():\n",
    "    region_data = val_data[val_data['greco_region'] == greco_region]\n",
    "    y_val_region = region_data['phen']\n",
    "    y_pred_region = region_data['predicted_phen']\n",
    "    \n",
    "    metrics = compute_metrics(y_val_region, y_pred_region)\n",
    "    \n",
    "    metrics_per_greco.append({\n",
    "        'GRECO Region': greco_region,\n",
    "        **metrics\n",
    "    })\n",
    "\n",
    "metrics_df = pd.DataFrame(metrics_per_greco)\n",
    "print(metrics_df)\n",
    "\n",
    "# Save metrics breakdown to CSV\n",
    "os.makedirs('results', exist_ok=True)\n",
    "metrics_df.to_csv('results/exp2_validation_metrics_per_greco_region.csv', index=False)\n",
    "\n",
    "print(\"Validation metrics breakdown per GRECO region saved.\")\n",
    "\n",
    "#save per tile\n",
    "metrics_per_tile = []\n",
    "for tile in val_data['tile_id'].unique():\n",
    "    tile_data = val_data[val_data['tile_id'] == tile]\n",
    "    y_val_tile = tile_data['phen']\n",
    "    y_pred_tile = tile_data['predicted_phen']\n",
    "    \n",
    "    metrics = compute_metrics(y_val_tile, y_pred_tile)\n",
    "    \n",
    "    metrics_per_tile.append({\n",
    "        'Tile': tile,\n",
    "        **metrics\n",
    "    })\n",
    "\n",
    "metrics_df = pd.DataFrame(metrics_per_tile)\n",
    "print(metrics_df)\n",
    "\n",
    "# Save metrics breakdown to CSV\n",
    "metrics_df.to_csv('results/exp2_validation_metrics_per_tile.csv', index=False)\n",
    "\n",
    "print(\"Validation metrics breakdown per tile saved.\")\n",
    "\n",
    "# Plot feature importance\n",
    "feature_importances = rf.feature_importances_\n",
    "importance_df = pd.DataFrame({'Feature': features, 'Importance': feature_importances})\n",
    "importance_df = importance_df.sort_values(by='Importance', ascending=False)\n",
    "\n",
    "plt.figure(figsize=(12, 6))\n",
    "plt.barh(importance_df['Feature'], importance_df['Importance'], color='skyblue')\n",
    "plt.xlabel('Feature Importance')\n",
    "plt.title('Feature Importance from Random Forest Classifier')\n",
    "plt.gca().invert_yaxis()\n",
    "plt.grid(True, linestyle='--', linewidth=0.5)\n",
    "\n",
    "# Save the feature importance plot\n",
    "os.makedirs('images', exist_ok=True)\n",
    "plt.savefig('images/exp2_feature_importance.png', dpi=300)\n",
    "plt.show()\n"
   ]
  },
  {
   "cell_type": "code",
   "execution_count": 9,
   "metadata": {},
   "outputs": [
    {
     "data": {
      "text/plain": [
       "<bound method BaseForest.decision_path of RandomForestClassifier(n_jobs=-1, random_state=42)>"
      ]
     },
     "execution_count": 9,
     "metadata": {},
     "output_type": "execute_result"
    }
   ],
   "source": [
    "rf.decision_path"
   ]
  },
  {
   "cell_type": "code",
   "execution_count": 3,
   "metadata": {},
   "outputs": [
    {
     "name": "stderr",
     "output_type": "stream",
     "text": [
      "  0%|          | 0/80 [00:00<?, ?it/s]"
     ]
    },
    {
     "name": "stdout",
     "output_type": "stream",
     "text": [
      "Processing tile_0_20180101_20221231_Ouest-Bretagne_et_Nord-Cotentin_training\n"
     ]
    },
    {
     "name": "stderr",
     "output_type": "stream",
     "text": [
      "  4%|▍         | 3/80 [00:01<00:32,  2.36it/s]"
     ]
    },
    {
     "name": "stdout",
     "output_type": "stream",
     "text": [
      "Processing tile_25_20200102_20241230_Massif_vosgien_central_training\n"
     ]
    },
    {
     "name": "stderr",
     "output_type": "stream",
     "text": [
      "  5%|▌         | 4/80 [00:02<00:44,  1.71it/s]"
     ]
    },
    {
     "name": "stdout",
     "output_type": "stream",
     "text": [
      "Processing tile_71_20190102_20231231_Piémont_pyrénéen_validation\n"
     ]
    },
    {
     "name": "stderr",
     "output_type": "stream",
     "text": [
      "  8%|▊         | 6/80 [00:03<00:42,  1.73it/s]"
     ]
    },
    {
     "name": "stdout",
     "output_type": "stream",
     "text": [
      "Processing tile_13_20200102_20241230_Côtes_et_plateaux_de_la_Manche_validation\n"
     ]
    },
    {
     "name": "stderr",
     "output_type": "stream",
     "text": [
      " 10%|█         | 8/80 [00:04<00:39,  1.81it/s]"
     ]
    },
    {
     "name": "stdout",
     "output_type": "stream",
     "text": [
      "Processing tile_56_20200102_20241230_Préalpes_du_Nord_training\n"
     ]
    },
    {
     "name": "stderr",
     "output_type": "stream",
     "text": [
      " 11%|█▏        | 9/80 [00:05<00:47,  1.49it/s]"
     ]
    },
    {
     "name": "stdout",
     "output_type": "stream",
     "text": [
      "Processing tile_6_20200102_20241230_Ouest-Bretagne_et_Nord-Cotentin_validation\n"
     ]
    },
    {
     "name": "stderr",
     "output_type": "stream",
     "text": [
      " 15%|█▌        | 12/80 [00:06<00:34,  1.99it/s]"
     ]
    },
    {
     "name": "stdout",
     "output_type": "stream",
     "text": [
      "Processing tile_40_20200102_20241230_Terres_rouges_training\n"
     ]
    },
    {
     "name": "stderr",
     "output_type": "stream",
     "text": [
      " 20%|██        | 16/80 [00:07<00:24,  2.58it/s]"
     ]
    },
    {
     "name": "stdout",
     "output_type": "stream",
     "text": [
      "Processing tile_54_20200102_20241230_Châtaigneraie_du_Centre_et_de_l'Ouest_validation\n"
     ]
    },
    {
     "name": "stderr",
     "output_type": "stream",
     "text": [
      " 30%|███       | 24/80 [00:08<00:13,  4.21it/s]"
     ]
    },
    {
     "name": "stdout",
     "output_type": "stream",
     "text": [
      "Processing tile_83_20200102_20241230_Corse_occidentale_training\n"
     ]
    },
    {
     "name": "stderr",
     "output_type": "stream",
     "text": [
      " 32%|███▎      | 26/80 [00:09<00:15,  3.43it/s]"
     ]
    },
    {
     "name": "stdout",
     "output_type": "stream",
     "text": [
      "Processing tile_41_20200102_20241230_Terres_rouges_training\n"
     ]
    },
    {
     "name": "stderr",
     "output_type": "stream",
     "text": [
      " 39%|███▉      | 31/80 [00:10<00:12,  3.78it/s]"
     ]
    },
    {
     "name": "stdout",
     "output_type": "stream",
     "text": [
      "Processing tile_12_20200102_20241230_Côtes_et_plateaux_de_la_Manche_validation\n"
     ]
    },
    {
     "name": "stderr",
     "output_type": "stream",
     "text": [
      " 52%|█████▎    | 42/80 [00:11<00:06,  6.13it/s]"
     ]
    },
    {
     "name": "stdout",
     "output_type": "stream",
     "text": [
      "Processing tile_65_20200102_20241230_Piémont_pyrénéen_training\n"
     ]
    },
    {
     "name": "stderr",
     "output_type": "stream",
     "text": [
      " 65%|██████▌   | 52/80 [00:12<00:03,  7.21it/s]"
     ]
    },
    {
     "name": "stdout",
     "output_type": "stream",
     "text": [
      "Processing tile_2_20200102_20241230_Ouest-Bretagne_et_Nord-Cotentin_training\n"
     ]
    },
    {
     "name": "stderr",
     "output_type": "stream",
     "text": [
      " 66%|██████▋   | 53/80 [00:13<00:05,  5.37it/s]"
     ]
    },
    {
     "name": "stdout",
     "output_type": "stream",
     "text": [
      "Processing tile_79_20200102_20241230_Garrigues_validation\n"
     ]
    },
    {
     "name": "stderr",
     "output_type": "stream",
     "text": [
      " 75%|███████▌  | 60/80 [00:14<00:03,  5.81it/s]"
     ]
    },
    {
     "name": "stdout",
     "output_type": "stream",
     "text": [
      "Processing tile_17_20200102_20241230_Ardenne_primaire_training\n"
     ]
    },
    {
     "name": "stderr",
     "output_type": "stream",
     "text": [
      " 80%|████████  | 64/80 [00:15<00:02,  5.38it/s]"
     ]
    },
    {
     "name": "stdout",
     "output_type": "stream",
     "text": [
      "Processing tile_42_20200102_20241230_Terres_rouges_training\n"
     ]
    },
    {
     "name": "stderr",
     "output_type": "stream",
     "text": [
      " 86%|████████▋ | 69/80 [00:17<00:02,  4.62it/s]"
     ]
    },
    {
     "name": "stdout",
     "output_type": "stream",
     "text": [
      "Processing tile_80_20200102_20241230_Corse_occidentale_training\n"
     ]
    },
    {
     "name": "stderr",
     "output_type": "stream",
     "text": [
      " 94%|█████████▍| 75/80 [00:18<00:01,  4.95it/s]"
     ]
    },
    {
     "name": "stdout",
     "output_type": "stream",
     "text": [
      "Processing tile_18_20200102_20241230_Ardenne_primaire_training\n"
     ]
    },
    {
     "name": "stderr",
     "output_type": "stream",
     "text": [
      " 98%|█████████▊| 78/80 [00:19<00:00,  4.47it/s]"
     ]
    },
    {
     "name": "stdout",
     "output_type": "stream",
     "text": [
      "Processing tile_35_20200102_20241230_Premier_plateau_du_Jura_training\n"
     ]
    },
    {
     "name": "stderr",
     "output_type": "stream",
     "text": [
      "100%|██████████| 80/80 [00:19<00:00,  4.04it/s]\n"
     ]
    }
   ],
   "source": [
    "import pandas as pd\n",
    "val_data = pd.read_csv('val_data.csv')\n",
    "from utils import mapping_real_greco\n",
    "val_data['greco_region'] = val_data['greco_region'].map(mapping_real_greco)\n",
    "\n",
    "#load model \n",
    "rf = joblib.load('models/exp2_rf_model_features-all.pkl')\n",
    "\n",
    "features = ['amplitude_red', 'phase_red', 'offset_red', 'amplitude_crswir', 'phase_crswir', 'offset_crswir', 'amplitude_rcc', 'phase_rcc', 'offset_rcc', 'elevation', 'aspect']\n",
    "directory = '/Users/arthurcalvi/Data/species/validation/tiles'\n",
    "\n",
    "# Load the data and preprocess it\n",
    "from tqdm import tqdm \n",
    "from datetime import datetime \n",
    "from utils import load_folder, calculate_slope_with_dates\n",
    "import rasterio \n",
    "import os\n",
    "def load_data_from_tile_inf(path: str) -> dict:\n",
    "    tile_id = os.path.basename(path).split('_')[1]\n",
    "    dates = [datetime.strptime(filename.split('_')[0], '%Y-%m-%d') for filename in os.listdir(os.path.join(path, 'rgb'))]\n",
    "    dates.sort()\n",
    "    rgb = load_folder(os.path.join(path, 'rgb'))\n",
    "    chm = rasterio.open(os.path.join(path, 'tree_map', 'CHM2020.tif')).read(1)\n",
    "    forest_mask = (chm > 250).astype(bool)\n",
    "    slope_map = calculate_slope_with_dates(rgb[:, 0], dates, len(rgb[:, 0]) / 2, len(rgb[:, 0])) / 100\n",
    "    weights = (1 - abs(slope_map.ravel())).clip(0, 1)\n",
    "\n",
    "    path_features = os.path.join(path, 'features')\n",
    "    r_APO = rasterio.open(os.path.join(path_features, 'r_APO.tif')).read()\n",
    "    amplitude_map_r, phase_map_r, offset_map_r = r_APO[0], r_APO[1], r_APO[2]\n",
    "    crswir_APO = rasterio.open(os.path.join(path_features, 'crswir_APO.tif')).read()\n",
    "    amplitude_map_crswir, phase_map_crswir, offset_map_crswir = crswir_APO[0], crswir_APO[1], crswir_APO[2]\n",
    "    rcc_APO = rasterio.open(os.path.join(path_features, 'rcc_APO.tif')).read()\n",
    "    amplitude_map_rcc, phase_map_rcc, offset_map_rcc = rcc_APO[0], rcc_APO[1], rcc_APO[2]\n",
    "    dem = rasterio.open(os.path.join(path_features, 'elevation_aspect.tif')).read()\n",
    "    elevation, aspect = dem[0], dem[1]\n",
    "\n",
    "    features_ = {\n",
    "        'amplitude_red': amplitude_map_r.ravel(),\n",
    "        'phase_red': phase_map_r.ravel(),\n",
    "        'offset_red': offset_map_r.ravel(),\n",
    "        'amplitude_crswir': amplitude_map_crswir.ravel(),\n",
    "        'phase_crswir': phase_map_crswir.ravel(),\n",
    "        'offset_crswir': offset_map_crswir.ravel(),\n",
    "        'amplitude_rcc': amplitude_map_rcc.ravel(),\n",
    "        'phase_rcc': phase_map_rcc.ravel(),\n",
    "        'offset_rcc': offset_map_rcc.ravel(),\n",
    "        'elevation': elevation.ravel(),\n",
    "        'aspect': aspect.ravel(),\n",
    "        'tile_id': np.array([tile_id] * aspect.size)  # Add tile_id to the features\n",
    "    }\n",
    "\n",
    "\n",
    "    return features_, forest_mask, amplitude_map_crswir.shape \n",
    "\n",
    "for folder in tqdm(os.listdir(directory)):\n",
    "    path = os.path.join(directory, folder)\n",
    "    \n",
    "    if folder.__contains__('.DS_Store') or folder.__contains__('.txt'):\n",
    "        continue\n",
    "    tile_id = int(os.path.basename(path).split('_')[1])\n",
    "    if tile_id not in val_data['tile_id'].unique():\n",
    "        continue\n",
    "    try:\n",
    "        print(f\"Processing {folder}\")\n",
    "        features_, forest_mask, shape = load_data_from_tile_inf(path)\n",
    "        features_ = pd.DataFrame(features_)[features]\n",
    "\n",
    "        #preprocess data\n",
    "        features_.replace([np.inf, -np.inf], np.nan, inplace=True)\n",
    "        features_.fillna(features_.mean(), inplace=True)\n",
    "\n",
    "        results = rf.predict(features_)\n",
    "        results[ forest_mask.ravel() == False ] = 0\n",
    "\n",
    "        # Save the results to a GeoTIFF file\n",
    "        ref = rasterio.open(os.path.join(path, 'tree_map', 'CHM2020.tif'))\n",
    "        profile = ref.profile\n",
    "\n",
    "        path_results = os.path.join(directory, folder, 'results')\n",
    "        os.makedirs(path_results, exist_ok=True)\n",
    "        path_file = os.path.join(path_results, f'exp2_rf_features-all.tif')\n",
    "        profile.update(dtype=rasterio.uint8, count=1, compress='lzw', nodata=0)\n",
    "        with rasterio.open(path_file, 'w', **profile) as dst:\n",
    "            dst.write(results.reshape(shape), 1)\n",
    "\n",
    "    except Exception as e:\n",
    "        print(f\"Error processing {folder}: {e}\")\n",
    "        continue\n"
   ]
  }
 ],
 "metadata": {
  "kernelspec": {
   "display_name": "Kayrros-default",
   "language": "python",
   "name": "python3"
  },
  "language_info": {
   "codemirror_mode": {
    "name": "ipython",
    "version": 3
   },
   "file_extension": ".py",
   "mimetype": "text/x-python",
   "name": "python",
   "nbconvert_exporter": "python",
   "pygments_lexer": "ipython3",
   "version": "3.9.6"
  }
 },
 "nbformat": 4,
 "nbformat_minor": 2
}
