{
 "cells": [
  {
   "cell_type": "code",
   "execution_count": null,
   "metadata": {},
   "outputs": [],
   "source": [
    "from thefuzz import process\n",
    "import geopandas as gpd \n",
    "\n",
    "# Load BDforet\n",
    "bdforet = gpd.read_parquet('/Users/arthurcalvi/Repo/Disturbance-Attribution-Dataset-Joining/data/processed_datasets/BDFORET_EPSG2154_FR_simplified10.parquet')\n",
    "\n",
    "tree_phenology = {\n",
    "    'Pin maritime': 'Evergreen',\n",
    "    'NC': 'Unknown',\n",
    "    'Mixte': 'Mixed',\n",
    "    'Feuillus': 'Deciduous',\n",
    "    'Pins mélangés': 'Mixed',\n",
    "    'NR': 'Unknown',\n",
    "    'Conifères': 'Evergreen',\n",
    "    'Sapin, épicéa': 'Evergreen',\n",
    "    'Peuplier': 'Deciduous',\n",
    "    'Douglas': 'Evergreen',\n",
    "    'Pin sylvestre': 'Evergreen',\n",
    "    'Châtaignier': 'Deciduous',\n",
    "    'Chênes décidus': 'Deciduous',\n",
    "    'Pin laricio, pin noir': 'Evergreen',\n",
    "    'Mélèze': 'Deciduous',\n",
    "    'Pin autre': 'Evergreen',\n",
    "    'Hêtre': 'Deciduous',\n",
    "    'Robinier': 'Deciduous',\n",
    "    'Chênes sempervirents': 'Evergreen',\n",
    "    'Pin d\\'Alep': 'Evergreen',\n",
    "    'Pin à crochets, pin cembro': 'Evergreen',\n",
    "    'Pins mélangés': 'Mixed',\n",
    "    'Sapin, épicéa': 'Evergreen',\n",
    "    'Châtaignier': 'Deciduous',\n",
    "    'Chênes sempervirents': 'Evergreen',\n",
    "    'Pin à crochets, pin cembro': 'Evergreen',\n",
    "    'Hêtre': 'Deciduous',\n",
    "    'Conifères': 'Evergreen',\n",
    "    'Pin maritime': 'Evergreen',\n",
    "    'Mélèze': 'Deciduous',\n",
    "    'Chênes sempervirents': 'Evergreen'\n",
    "}\n",
    "\n",
    "# Function to map species to phenology using fuzzy matching\n",
    "def get_phenology(specie: str) -> str:\n",
    "    match = process.extractOne(specie, tree_phenology.keys(), scorer=process.fuzz.ratio)\n",
    "    if match and match[1] > 50:  # Adjust the threshold as needed\n",
    "        return tree_phenology[match[0]].lower()\n",
    "    else:\n",
    "        print(f'No match found for {specie}')\n",
    "        return 'Unknown'\n",
    "\n",
    "# Create the new phenology column\n",
    "bdforet['phen_en'] = bdforet['ESSENCE'].apply(get_phenology)\n",
    "bdforet = bdforet[(bdforet.phen_en != 'unknown') & (bdforet.phenology != 'mixed')]"
   ]
  },
  {
   "cell_type": "code",
   "execution_count": null,
   "metadata": {},
   "outputs": [],
   "source": []
  }
 ],
 "metadata": {
  "kernelspec": {
   "display_name": "Kayrros-default",
   "language": "python",
   "name": "python3"
  },
  "language_info": {
   "codemirror_mode": {
    "name": "ipython",
    "version": 3
   },
   "file_extension": ".py",
   "mimetype": "text/x-python",
   "name": "python",
   "nbconvert_exporter": "python",
   "pygments_lexer": "ipython3",
   "version": "3.9.6"
  }
 },
 "nbformat": 4,
 "nbformat_minor": 2
}
