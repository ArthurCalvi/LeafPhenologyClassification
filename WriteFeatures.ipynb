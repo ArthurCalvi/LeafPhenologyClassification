{
 "cells": [
  {
   "cell_type": "markdown",
   "metadata": {},
   "source": [
    "# Get Features \n",
    "\n",
    "For each folder\n"
   ]
  },
  {
   "cell_type": "code",
   "execution_count": null,
   "metadata": {},
   "outputs": [],
   "source": [
    "dir_ = '/Users/arthurcalvi/Data/species/validation/tiles'\n",
    "\n",
    "from utils import load_folder, fit_periodic_function, get_aspect, postprocess_cloud_mask, calculate_slope_with_dates\n",
    "from datetime import datetime\n",
    "import rasterio \n",
    "import os \n",
    "import numpy as np \n",
    "from tqdm import tqdm\n",
    "\n",
    "error_files = []\n",
    "force = True \n",
    "for folder in tqdm(os.listdir(dir_)):\n",
    "    path = os.path.join(dir_, folder)\n",
    "    if os.path.isdir(path):\n",
    "\n",
    "        if os.path.exists(os.path.join(path, 'features')) and not force:\n",
    "            continue\n",
    "        \n",
    "        try : \n",
    "            print(f'Processing {folder}...')\n",
    "            #load data\n",
    "            dates = [datetime.strptime(filename.split('_')[0], '%Y-%m-%d') for filename in os.listdir(os.path.join(path, 'rgb'))]\n",
    "            dates.sort() \n",
    "            rgb = load_folder(os.path.join(path, 'rgb'))\n",
    "            crswir = load_folder(os.path.join(path, 'crswir'))\n",
    "            qa = load_folder(os.path.join(path, 'qa'))\n",
    "\n",
    "            dir_dem = os.path.join(path, 'dl_lc', 'dem.tif')\n",
    "            dem = rasterio.open(dir_dem).read(1)\n",
    "            aspect = get_aspect(dem)\n",
    "\n",
    "            new_qa = []\n",
    "            for frame in tqdm(qa):\n",
    "                frame_ = np.zeros_like(frame)\n",
    "                mask = (frame == 1) | (frame == 3) | (frame == 6)| (frame == 8) | (frame == 9) | (frame == 10) | (frame == 11)\n",
    "                frame_[mask] = 1\n",
    "                #apply postprocess cloud mask\n",
    "                frame_ = postprocess_cloud_mask(frame_, 5, 25)\n",
    "                new_qa.append(frame_)\n",
    "\n",
    "            qa_mask = np.array(new_qa)\n",
    "            expanded_mask = 1 - qa_mask\n",
    "\n",
    "            #do not take into account disturbed dates \n",
    "            from utils import calculate_slope_with_dates\n",
    "            K = 6\n",
    "            slopes = []\n",
    "            for i in tqdm(range(rgb.shape[0])):\n",
    "                slope = calculate_slope_with_dates(rgb[:, 0], dates, i, K ) \n",
    "                slopes.append(slope)\n",
    "\n",
    "            slopes = np.array(slopes)\n",
    "\n",
    "            #apply this to a 3d array \n",
    "            zero_mask = np.zeros_like(expanded_mask[0], dtype=int)\n",
    "            for i in range(12, len(dates)):\n",
    "                zero_mask[ abs(slopes[i]) > 10 ] = 1\n",
    "                expanded_mask[i, zero_mask.astype(bool)] = 0.001\n",
    "\n",
    "            #compute features \n",
    "            amplitude_map_r, phase_map_r, offset_map_r = fit_periodic_function(rgb[:, 0, :, :], expanded_mask, dates)\n",
    "            amplitude_map_crswir, phase_map_crswir, offset_map_crswir = fit_periodic_function(crswir, expanded_mask, dates)\n",
    "\n",
    "            rcc = rgb[:, 0, :, :] / (rgb[:, 0, :, :] + rgb[:, 1, :, :] + rgb[:, 2, :, :])\n",
    "            amplitude_map_rcc, phase_map_rcc, offset_map_rcc = fit_periodic_function(rcc, expanded_mask, dates)\n",
    "\n",
    "            #write features with rasterio in 3 different .tif files in a new folder called 'features' \n",
    "            #write dem and aspect \n",
    "            folder_path = os.path.join(path, 'features')\n",
    "            os.makedirs(folder_path, exist_ok=True)\n",
    "\n",
    "            with rasterio.open(dir_dem) as src:\n",
    "                profile = src.profile\n",
    "                profile.update(count=2, dtype=aspect.dtype)\n",
    "                with rasterio.open(os.path.join(folder_path, 'elevation_aspect.tif'), 'w', **profile) as dst:\n",
    "                    dst.write(np.stack([dem, aspect], axis=0))\n",
    "\n",
    "            #write features of r channel \n",
    "            with rasterio.open(dir_dem) as src:\n",
    "                profile = src.profile\n",
    "                profile.update(count=3, dtype=amplitude_map_r.dtype)\n",
    "                with rasterio.open(os.path.join(folder_path, 'r_APO.tif'), 'w', **profile) as dst:\n",
    "                    dst.write(np.stack([amplitude_map_r, phase_map_r, offset_map_r], axis=0))\n",
    "\n",
    "            #write features of crswir channel\n",
    "            with rasterio.open(dir_dem) as src:\n",
    "                profile = src.profile\n",
    "                profile.update(count=3, dtype=amplitude_map_crswir.dtype)\n",
    "                with rasterio.open(os.path.join(folder_path, 'crswir_APO.tif'), 'w', **profile) as dst:\n",
    "                    dst.write(np.stack([amplitude_map_crswir, phase_map_crswir, offset_map_crswir], axis=0))\n",
    "\n",
    "            #write features of rcc channel\n",
    "            with rasterio.open(dir_dem) as src:\n",
    "                profile = src.profile\n",
    "                profile.update(count=3, dtype=amplitude_map_rcc.dtype)\n",
    "                with rasterio.open(os.path.join(folder_path, 'rcc_APO.tif'), 'w', **profile) as dst:\n",
    "                    dst.write(np.stack([amplitude_map_rcc, phase_map_rcc, offset_map_rcc], axis=0))\n",
    "\n",
    "        except Exception as e:\n",
    "            print(f'Error processing {folder} : {e}')\n",
    "            error_files.append(folder)\n",
    "            continue\n"
   ]
  },
  {
   "cell_type": "markdown",
   "metadata": {},
   "source": [
    "# Ablation study "
   ]
  },
  {
   "cell_type": "code",
   "execution_count": 10,
   "metadata": {},
   "outputs": [
    {
     "name": "stderr",
     "output_type": "stream",
     "text": [
      "  0%|          | 0/80 [00:00<?, ?it/s]"
     ]
    },
    {
     "name": "stdout",
     "output_type": "stream",
     "text": [
      "Processing tile_81_20200102_20241230_Corse_occidentale_training...\n"
     ]
    },
    {
     "name": "stderr",
     "output_type": "stream",
     "text": [
      "/var/folders/1c/h8t9_vd53gsgz_wm9kswm8wm0000gp/T/ipykernel_8570/617591763.py:74: UserWarning: Possible precision loss converting image of type float64 to uint8 as required by rank filters. Convert manually using skimage.util.img_as_ubyte to silence this warning.\n",
      "  frame_ = postprocess_cloud_mask(frame_, 5, 25)\n",
      "100%|██████████| 47/47 [00:06<00:00,  6.90it/s]\n",
      "100%|██████████| 47/47 [00:00<00:00, 64.35it/s]\n"
     ]
    },
    {
     "name": "stdout",
     "output_type": "stream",
     "text": [
      "Resampling time series...\n",
      "Resampling time series...\n",
      "Computing features for R_resampled_no_weights...\n",
      "Resampling time series...\n",
      "Resampling time series...\n",
      "Computing features for CRSWIR_resampled_no_weights...\n",
      "Resampling time series...\n",
      "Resampling time series...\n",
      "Computing features for RCC_resampled_no_weights...\n",
      "Computing features for R_no_resample_no_weights...\n",
      "Computing features for CRSWIR_no_resample_no_weights...\n",
      "Computing features for RCC_no_resample_no_weights...\n",
      "Computing features for R_no_resample_cloud_weights...\n",
      "Computing features for CRSWIR_no_resample_cloud_weights...\n",
      "Computing features for RCC_no_resample_cloud_weights...\n",
      "Computing features for R_no_resample_cloud_disturbance_weights...\n",
      "Computing features for CRSWIR_no_resample_cloud_disturbance_weights...\n",
      "Computing features for RCC_no_resample_cloud_disturbance_weights...\n"
     ]
    },
    {
     "name": "stderr",
     "output_type": "stream",
     "text": [
      "  1%|▏         | 1/80 [02:12<2:53:50, 132.03s/it]"
     ]
    },
    {
     "name": "stdout",
     "output_type": "stream",
     "text": [
      "Processing tile_24_20200102_20241230_Massif_vosgien_central_training...\n"
     ]
    },
    {
     "name": "stderr",
     "output_type": "stream",
     "text": [
      "/var/folders/1c/h8t9_vd53gsgz_wm9kswm8wm0000gp/T/ipykernel_8570/617591763.py:74: UserWarning: Possible precision loss converting image of type float64 to uint8 as required by rank filters. Convert manually using skimage.util.img_as_ubyte to silence this warning.\n",
      "  frame_ = postprocess_cloud_mask(frame_, 5, 25)\n",
      "100%|██████████| 45/45 [00:06<00:00,  7.08it/s]\n",
      "100%|██████████| 45/45 [00:00<00:00, 76.96it/s]\n"
     ]
    },
    {
     "name": "stdout",
     "output_type": "stream",
     "text": [
      "Resampling time series...\n",
      "Resampling time series...\n",
      "Computing features for R_resampled_no_weights...\n",
      "Resampling time series...\n",
      "Resampling time series...\n",
      "Computing features for CRSWIR_resampled_no_weights...\n",
      "Resampling time series...\n",
      "Resampling time series...\n",
      "Computing features for RCC_resampled_no_weights...\n",
      "Computing features for R_no_resample_no_weights...\n",
      "Computing features for CRSWIR_no_resample_no_weights...\n",
      "Computing features for RCC_no_resample_no_weights...\n",
      "Computing features for R_no_resample_cloud_weights...\n",
      "Computing features for CRSWIR_no_resample_cloud_weights...\n",
      "Computing features for RCC_no_resample_cloud_weights...\n",
      "Computing features for R_no_resample_cloud_disturbance_weights...\n",
      "Computing features for CRSWIR_no_resample_cloud_disturbance_weights...\n",
      "Computing features for RCC_no_resample_cloud_disturbance_weights...\n"
     ]
    },
    {
     "name": "stderr",
     "output_type": "stream",
     "text": [
      "  2%|▎         | 2/80 [04:30<2:56:49, 136.01s/it]"
     ]
    },
    {
     "name": "stdout",
     "output_type": "stream",
     "text": [
      "Processing tile_0_20180101_20221231_Ouest-Bretagne_et_Nord-Cotentin_training...\n"
     ]
    },
    {
     "name": "stderr",
     "output_type": "stream",
     "text": [
      "/var/folders/1c/h8t9_vd53gsgz_wm9kswm8wm0000gp/T/ipykernel_8570/617591763.py:74: UserWarning: Possible precision loss converting image of type float64 to uint8 as required by rank filters. Convert manually using skimage.util.img_as_ubyte to silence this warning.\n",
      "  frame_ = postprocess_cloud_mask(frame_, 5, 25)\n",
      "100%|██████████| 56/56 [00:07<00:00,  7.06it/s]\n",
      "100%|██████████| 56/56 [00:00<00:00, 82.30it/s]\n"
     ]
    },
    {
     "name": "stdout",
     "output_type": "stream",
     "text": [
      "Resampling time series...\n",
      "Resampling time series...\n",
      "Computing features for R_resampled_no_weights...\n",
      "Resampling time series...\n",
      "Resampling time series...\n",
      "Computing features for CRSWIR_resampled_no_weights...\n",
      "Resampling time series...\n",
      "Resampling time series...\n",
      "Computing features for RCC_resampled_no_weights...\n",
      "Computing features for R_no_resample_no_weights...\n",
      "Computing features for CRSWIR_no_resample_no_weights...\n",
      "Computing features for RCC_no_resample_no_weights...\n",
      "Computing features for R_no_resample_cloud_weights...\n",
      "Computing features for CRSWIR_no_resample_cloud_weights...\n",
      "Computing features for RCC_no_resample_cloud_weights...\n",
      "Computing features for R_no_resample_cloud_disturbance_weights...\n",
      "Computing features for CRSWIR_no_resample_cloud_disturbance_weights...\n",
      "Computing features for RCC_no_resample_cloud_disturbance_weights...\n"
     ]
    },
    {
     "name": "stderr",
     "output_type": "stream",
     "text": [
      "  4%|▍         | 3/80 [06:45<2:53:47, 135.42s/it]"
     ]
    },
    {
     "name": "stdout",
     "output_type": "stream",
     "text": [
      "Processing tile_25_20200102_20241230_Massif_vosgien_central_training...\n"
     ]
    },
    {
     "name": "stderr",
     "output_type": "stream",
     "text": [
      "/var/folders/1c/h8t9_vd53gsgz_wm9kswm8wm0000gp/T/ipykernel_8570/617591763.py:74: UserWarning: Possible precision loss converting image of type float64 to uint8 as required by rank filters. Convert manually using skimage.util.img_as_ubyte to silence this warning.\n",
      "  frame_ = postprocess_cloud_mask(frame_, 5, 25)\n",
      "100%|██████████| 33/33 [00:04<00:00,  7.07it/s]\n",
      "100%|██████████| 33/33 [00:00<00:00, 99.65it/s]\n"
     ]
    },
    {
     "name": "stdout",
     "output_type": "stream",
     "text": [
      "Resampling time series...\n",
      "Resampling time series...\n",
      "Computing features for R_resampled_no_weights...\n",
      "Resampling time series...\n",
      "Resampling time series...\n",
      "Computing features for CRSWIR_resampled_no_weights...\n",
      "Resampling time series...\n",
      "Resampling time series...\n",
      "Computing features for RCC_resampled_no_weights...\n",
      "Computing features for R_no_resample_no_weights...\n",
      "Computing features for CRSWIR_no_resample_no_weights...\n",
      "Computing features for RCC_no_resample_no_weights...\n",
      "Computing features for R_no_resample_cloud_weights...\n",
      "Computing features for CRSWIR_no_resample_cloud_weights...\n",
      "Computing features for RCC_no_resample_cloud_weights...\n",
      "Computing features for R_no_resample_cloud_disturbance_weights...\n",
      "Computing features for CRSWIR_no_resample_cloud_disturbance_weights...\n",
      "Computing features for RCC_no_resample_cloud_disturbance_weights...\n"
     ]
    },
    {
     "name": "stderr",
     "output_type": "stream",
     "text": [
      "  5%|▌         | 4/80 [08:52<2:47:28, 132.22s/it]"
     ]
    },
    {
     "name": "stdout",
     "output_type": "stream",
     "text": [
      "Processing tile_33_20200102_20241230_Premier_plateau_du_Jura_training...\n"
     ]
    },
    {
     "name": "stderr",
     "output_type": "stream",
     "text": [
      "/var/folders/1c/h8t9_vd53gsgz_wm9kswm8wm0000gp/T/ipykernel_8570/617591763.py:74: UserWarning: Possible precision loss converting image of type float64 to uint8 as required by rank filters. Convert manually using skimage.util.img_as_ubyte to silence this warning.\n",
      "  frame_ = postprocess_cloud_mask(frame_, 5, 25)\n",
      "100%|██████████| 34/34 [00:00<00:00, 35.77it/s]\n",
      "100%|██████████| 34/34 [00:00<00:00, 616.63it/s]\n"
     ]
    },
    {
     "name": "stdout",
     "output_type": "stream",
     "text": [
      "Resampling time series...\n",
      "Resampling time series...\n",
      "Computing features for R_resampled_no_weights...\n",
      "Resampling time series...\n",
      "Resampling time series...\n",
      "Computing features for CRSWIR_resampled_no_weights...\n",
      "Resampling time series...\n",
      "Resampling time series...\n",
      "Computing features for RCC_resampled_no_weights...\n",
      "Computing features for R_no_resample_no_weights...\n",
      "Computing features for CRSWIR_no_resample_no_weights...\n",
      "Computing features for RCC_no_resample_no_weights...\n",
      "Computing features for R_no_resample_cloud_weights...\n",
      "Computing features for CRSWIR_no_resample_cloud_weights...\n",
      "Computing features for RCC_no_resample_cloud_weights...\n",
      "Computing features for R_no_resample_cloud_disturbance_weights...\n",
      "Computing features for CRSWIR_no_resample_cloud_disturbance_weights...\n",
      "Computing features for RCC_no_resample_cloud_disturbance_weights...\n"
     ]
    },
    {
     "name": "stderr",
     "output_type": "stream",
     "text": [
      "  6%|▋         | 5/80 [09:18<1:57:18, 93.84s/it] "
     ]
    },
    {
     "name": "stdout",
     "output_type": "stream",
     "text": [
      "Processing tile_71_20190102_20231231_Piémont_pyrénéen_validation...\n"
     ]
    },
    {
     "name": "stderr",
     "output_type": "stream",
     "text": [
      "/var/folders/1c/h8t9_vd53gsgz_wm9kswm8wm0000gp/T/ipykernel_8570/617591763.py:74: UserWarning: Possible precision loss converting image of type float64 to uint8 as required by rank filters. Convert manually using skimage.util.img_as_ubyte to silence this warning.\n",
      "  frame_ = postprocess_cloud_mask(frame_, 5, 25)\n",
      "100%|██████████| 54/54 [00:06<00:00,  7.99it/s]\n",
      "100%|██████████| 54/54 [00:00<00:00, 89.21it/s]\n"
     ]
    },
    {
     "name": "stdout",
     "output_type": "stream",
     "text": [
      "Resampling time series...\n",
      "Resampling time series...\n",
      "Computing features for R_resampled_no_weights...\n",
      "Resampling time series...\n",
      "Resampling time series...\n",
      "Computing features for CRSWIR_resampled_no_weights...\n",
      "Resampling time series...\n",
      "Resampling time series...\n",
      "Computing features for RCC_resampled_no_weights...\n",
      "Computing features for R_no_resample_no_weights...\n",
      "Computing features for CRSWIR_no_resample_no_weights...\n",
      "Computing features for RCC_no_resample_no_weights...\n",
      "Computing features for R_no_resample_cloud_weights...\n",
      "Computing features for CRSWIR_no_resample_cloud_weights...\n",
      "Computing features for RCC_no_resample_cloud_weights...\n",
      "Computing features for R_no_resample_cloud_disturbance_weights...\n",
      "Computing features for CRSWIR_no_resample_cloud_disturbance_weights...\n",
      "Computing features for RCC_no_resample_cloud_disturbance_weights...\n"
     ]
    },
    {
     "name": "stderr",
     "output_type": "stream",
     "text": [
      "  8%|▊         | 6/80 [11:18<2:06:40, 102.71s/it]"
     ]
    },
    {
     "name": "stdout",
     "output_type": "stream",
     "text": [
      "Processing tile_27_20200102_20241230_Massif_vosgien_central_training...\n"
     ]
    },
    {
     "name": "stderr",
     "output_type": "stream",
     "text": [
      "/var/folders/1c/h8t9_vd53gsgz_wm9kswm8wm0000gp/T/ipykernel_8570/617591763.py:74: UserWarning: Possible precision loss converting image of type float64 to uint8 as required by rank filters. Convert manually using skimage.util.img_as_ubyte to silence this warning.\n",
      "  frame_ = postprocess_cloud_mask(frame_, 5, 25)\n",
      "100%|██████████| 41/41 [00:05<00:00,  7.04it/s]\n",
      "100%|██████████| 41/41 [00:00<00:00, 93.79it/s]\n"
     ]
    },
    {
     "name": "stdout",
     "output_type": "stream",
     "text": [
      "Resampling time series...\n",
      "Resampling time series...\n",
      "Computing features for R_resampled_no_weights...\n",
      "Resampling time series...\n",
      "Resampling time series...\n",
      "Computing features for CRSWIR_resampled_no_weights...\n",
      "Resampling time series...\n",
      "Resampling time series...\n",
      "Computing features for RCC_resampled_no_weights...\n",
      "Computing features for R_no_resample_no_weights...\n",
      "Computing features for CRSWIR_no_resample_no_weights...\n",
      "Computing features for RCC_no_resample_no_weights...\n",
      "Computing features for R_no_resample_cloud_weights...\n",
      "Computing features for CRSWIR_no_resample_cloud_weights...\n",
      "Computing features for RCC_no_resample_cloud_weights...\n",
      "Computing features for R_no_resample_cloud_disturbance_weights...\n",
      "Computing features for CRSWIR_no_resample_cloud_disturbance_weights...\n",
      "Computing features for RCC_no_resample_cloud_disturbance_weights...\n"
     ]
    },
    {
     "name": "stderr",
     "output_type": "stream",
     "text": [
      "  9%|▉         | 7/80 [13:27<2:15:16, 111.18s/it]"
     ]
    },
    {
     "name": "stdout",
     "output_type": "stream",
     "text": [
      "Processing tile_13_20200102_20241230_Côtes_et_plateaux_de_la_Manche_validation...\n"
     ]
    },
    {
     "name": "stderr",
     "output_type": "stream",
     "text": [
      "/var/folders/1c/h8t9_vd53gsgz_wm9kswm8wm0000gp/T/ipykernel_8570/617591763.py:74: UserWarning: Possible precision loss converting image of type float64 to uint8 as required by rank filters. Convert manually using skimage.util.img_as_ubyte to silence this warning.\n",
      "  frame_ = postprocess_cloud_mask(frame_, 5, 25)\n",
      "100%|██████████| 41/41 [00:05<00:00,  7.35it/s]\n",
      "100%|██████████| 41/41 [00:00<00:00, 99.85it/s]\n"
     ]
    },
    {
     "name": "stdout",
     "output_type": "stream",
     "text": [
      "Resampling time series...\n",
      "Resampling time series...\n",
      "Computing features for R_resampled_no_weights...\n",
      "Resampling time series...\n",
      "Resampling time series...\n",
      "Computing features for CRSWIR_resampled_no_weights...\n",
      "Resampling time series...\n",
      "Resampling time series...\n",
      "Computing features for RCC_resampled_no_weights...\n",
      "Computing features for R_no_resample_no_weights...\n",
      "Computing features for CRSWIR_no_resample_no_weights...\n",
      "Computing features for RCC_no_resample_no_weights...\n",
      "Computing features for R_no_resample_cloud_weights...\n",
      "Computing features for CRSWIR_no_resample_cloud_weights...\n",
      "Computing features for RCC_no_resample_cloud_weights...\n",
      "Computing features for R_no_resample_cloud_disturbance_weights...\n",
      "Computing features for CRSWIR_no_resample_cloud_disturbance_weights...\n",
      "Computing features for RCC_no_resample_cloud_disturbance_weights...\n"
     ]
    },
    {
     "name": "stderr",
     "output_type": "stream",
     "text": [
      " 10%|█         | 8/80 [15:23<2:15:31, 112.93s/it]"
     ]
    },
    {
     "name": "stdout",
     "output_type": "stream",
     "text": [
      "Processing tile_56_20200102_20241230_Préalpes_du_Nord_training...\n"
     ]
    },
    {
     "name": "stderr",
     "output_type": "stream",
     "text": [
      "/var/folders/1c/h8t9_vd53gsgz_wm9kswm8wm0000gp/T/ipykernel_8570/617591763.py:74: UserWarning: Possible precision loss converting image of type float64 to uint8 as required by rank filters. Convert manually using skimage.util.img_as_ubyte to silence this warning.\n",
      "  frame_ = postprocess_cloud_mask(frame_, 5, 25)\n",
      "100%|██████████| 42/42 [00:05<00:00,  7.02it/s]\n",
      "100%|██████████| 42/42 [00:00<00:00, 88.81it/s]\n"
     ]
    },
    {
     "name": "stdout",
     "output_type": "stream",
     "text": [
      "Resampling time series...\n",
      "Resampling time series...\n",
      "Computing features for R_resampled_no_weights...\n",
      "Resampling time series...\n",
      "Resampling time series...\n",
      "Computing features for CRSWIR_resampled_no_weights...\n",
      "Resampling time series...\n",
      "Resampling time series...\n",
      "Computing features for RCC_resampled_no_weights...\n",
      "Computing features for R_no_resample_no_weights...\n",
      "Computing features for CRSWIR_no_resample_no_weights...\n",
      "Computing features for RCC_no_resample_no_weights...\n",
      "Computing features for R_no_resample_cloud_weights...\n",
      "Computing features for CRSWIR_no_resample_cloud_weights...\n",
      "Computing features for RCC_no_resample_cloud_weights...\n",
      "Computing features for R_no_resample_cloud_disturbance_weights...\n",
      "Computing features for CRSWIR_no_resample_cloud_disturbance_weights...\n",
      "Computing features for RCC_no_resample_cloud_disturbance_weights...\n"
     ]
    },
    {
     "name": "stderr",
     "output_type": "stream",
     "text": [
      " 11%|█▏        | 9/80 [17:34<2:20:16, 118.54s/it]"
     ]
    },
    {
     "name": "stdout",
     "output_type": "stream",
     "text": [
      "Processing tile_60_20200102_20241230_Préalpes_du_Nord_validation...\n"
     ]
    },
    {
     "name": "stderr",
     "output_type": "stream",
     "text": [
      "/var/folders/1c/h8t9_vd53gsgz_wm9kswm8wm0000gp/T/ipykernel_8570/617591763.py:74: UserWarning: Possible precision loss converting image of type float64 to uint8 as required by rank filters. Convert manually using skimage.util.img_as_ubyte to silence this warning.\n",
      "  frame_ = postprocess_cloud_mask(frame_, 5, 25)\n",
      "100%|██████████| 45/45 [00:06<00:00,  7.03it/s]\n",
      "100%|██████████| 45/45 [00:00<00:00, 88.11it/s]\n"
     ]
    },
    {
     "name": "stdout",
     "output_type": "stream",
     "text": [
      "Resampling time series...\n",
      "Resampling time series...\n",
      "Computing features for R_resampled_no_weights...\n",
      "Resampling time series...\n",
      "Resampling time series...\n",
      "Computing features for CRSWIR_resampled_no_weights...\n",
      "Resampling time series...\n",
      "Resampling time series...\n",
      "Computing features for RCC_resampled_no_weights...\n",
      "Computing features for R_no_resample_no_weights...\n",
      "Computing features for CRSWIR_no_resample_no_weights...\n",
      "Computing features for RCC_no_resample_no_weights...\n",
      "Computing features for R_no_resample_cloud_weights...\n",
      "Computing features for CRSWIR_no_resample_cloud_weights...\n",
      "Computing features for RCC_no_resample_cloud_weights...\n",
      "Computing features for R_no_resample_cloud_disturbance_weights...\n",
      "Computing features for CRSWIR_no_resample_cloud_disturbance_weights...\n",
      "Computing features for RCC_no_resample_cloud_disturbance_weights...\n"
     ]
    },
    {
     "name": "stderr",
     "output_type": "stream",
     "text": [
      " 14%|█▍        | 11/80 [19:47<1:48:06, 94.01s/it]"
     ]
    },
    {
     "name": "stdout",
     "output_type": "stream",
     "text": [
      "Processing tile_6_20200102_20241230_Ouest-Bretagne_et_Nord-Cotentin_validation...\n"
     ]
    },
    {
     "name": "stderr",
     "output_type": "stream",
     "text": [
      "/var/folders/1c/h8t9_vd53gsgz_wm9kswm8wm0000gp/T/ipykernel_8570/617591763.py:74: UserWarning: Possible precision loss converting image of type float64 to uint8 as required by rank filters. Convert manually using skimage.util.img_as_ubyte to silence this warning.\n",
      "  frame_ = postprocess_cloud_mask(frame_, 5, 25)\n",
      "100%|██████████| 40/40 [00:05<00:00,  7.07it/s]\n",
      "100%|██████████| 40/40 [00:00<00:00, 73.94it/s]\n"
     ]
    },
    {
     "name": "stdout",
     "output_type": "stream",
     "text": [
      "Resampling time series...\n",
      "Resampling time series...\n",
      "Computing features for R_resampled_no_weights...\n",
      "Resampling time series...\n",
      "Resampling time series...\n",
      "Computing features for CRSWIR_resampled_no_weights...\n",
      "Resampling time series...\n",
      "Resampling time series...\n",
      "Computing features for RCC_resampled_no_weights...\n",
      "Computing features for R_no_resample_no_weights...\n",
      "Computing features for CRSWIR_no_resample_no_weights...\n",
      "Computing features for RCC_no_resample_no_weights...\n",
      "Computing features for R_no_resample_cloud_weights...\n",
      "Computing features for CRSWIR_no_resample_cloud_weights...\n",
      "Computing features for RCC_no_resample_cloud_weights...\n",
      "Computing features for R_no_resample_cloud_disturbance_weights...\n",
      "Computing features for CRSWIR_no_resample_cloud_disturbance_weights...\n",
      "Computing features for RCC_no_resample_cloud_disturbance_weights...\n"
     ]
    },
    {
     "name": "stderr",
     "output_type": "stream",
     "text": [
      " 15%|█▌        | 12/80 [21:56<1:56:19, 102.64s/it]"
     ]
    },
    {
     "name": "stdout",
     "output_type": "stream",
     "text": [
      "Processing tile_78_20200102_20241230_Garrigues_validation...\n"
     ]
    },
    {
     "name": "stderr",
     "output_type": "stream",
     "text": [
      "/var/folders/1c/h8t9_vd53gsgz_wm9kswm8wm0000gp/T/ipykernel_8570/617591763.py:74: UserWarning: Possible precision loss converting image of type float64 to uint8 as required by rank filters. Convert manually using skimage.util.img_as_ubyte to silence this warning.\n",
      "  frame_ = postprocess_cloud_mask(frame_, 5, 25)\n",
      "100%|██████████| 46/46 [00:05<00:00,  7.95it/s]\n",
      "100%|██████████| 46/46 [00:00<00:00, 99.21it/s]\n"
     ]
    },
    {
     "name": "stdout",
     "output_type": "stream",
     "text": [
      "Resampling time series...\n",
      "Resampling time series...\n",
      "Computing features for R_resampled_no_weights...\n",
      "Resampling time series...\n",
      "Resampling time series...\n",
      "Computing features for CRSWIR_resampled_no_weights...\n",
      "Resampling time series...\n",
      "Resampling time series...\n",
      "Computing features for RCC_resampled_no_weights...\n",
      "Computing features for R_no_resample_no_weights...\n",
      "Computing features for CRSWIR_no_resample_no_weights...\n",
      "Computing features for RCC_no_resample_no_weights...\n",
      "Computing features for R_no_resample_cloud_weights...\n",
      "Computing features for CRSWIR_no_resample_cloud_weights...\n",
      "Computing features for RCC_no_resample_cloud_weights...\n",
      "Computing features for R_no_resample_cloud_disturbance_weights...\n",
      "Computing features for CRSWIR_no_resample_cloud_disturbance_weights...\n",
      "Computing features for RCC_no_resample_cloud_disturbance_weights...\n"
     ]
    },
    {
     "name": "stderr",
     "output_type": "stream",
     "text": [
      " 16%|█▋        | 13/80 [23:53<1:59:07, 106.68s/it]"
     ]
    },
    {
     "name": "stdout",
     "output_type": "stream",
     "text": [
      "Processing tile_85_20200102_20241230_Corse_occidentale_validation...\n"
     ]
    },
    {
     "name": "stderr",
     "output_type": "stream",
     "text": [
      "/var/folders/1c/h8t9_vd53gsgz_wm9kswm8wm0000gp/T/ipykernel_8570/617591763.py:74: UserWarning: Possible precision loss converting image of type float64 to uint8 as required by rank filters. Convert manually using skimage.util.img_as_ubyte to silence this warning.\n",
      "  frame_ = postprocess_cloud_mask(frame_, 5, 25)\n",
      "100%|██████████| 47/47 [00:06<00:00,  7.23it/s]\n",
      "100%|██████████| 47/47 [00:00<00:00, 92.01it/s]\n"
     ]
    },
    {
     "name": "stdout",
     "output_type": "stream",
     "text": [
      "Resampling time series...\n",
      "Resampling time series...\n",
      "Computing features for R_resampled_no_weights...\n",
      "Resampling time series...\n",
      "Resampling time series...\n",
      "Computing features for CRSWIR_resampled_no_weights...\n",
      "Resampling time series...\n",
      "Resampling time series...\n",
      "Computing features for RCC_resampled_no_weights...\n",
      "Computing features for R_no_resample_no_weights...\n",
      "Computing features for CRSWIR_no_resample_no_weights...\n",
      "Computing features for RCC_no_resample_no_weights...\n",
      "Computing features for R_no_resample_cloud_weights...\n",
      "Computing features for CRSWIR_no_resample_cloud_weights...\n",
      "Computing features for RCC_no_resample_cloud_weights...\n",
      "Computing features for R_no_resample_cloud_disturbance_weights...\n",
      "Computing features for CRSWIR_no_resample_cloud_disturbance_weights...\n",
      "Computing features for RCC_no_resample_cloud_disturbance_weights...\n"
     ]
    },
    {
     "name": "stderr",
     "output_type": "stream",
     "text": [
      " 18%|█▊        | 14/80 [26:00<2:03:22, 112.17s/it]"
     ]
    },
    {
     "name": "stdout",
     "output_type": "stream",
     "text": [
      "Processing tile_37_20200102_20241230_Premier_plateau_du_Jura_validation...\n"
     ]
    },
    {
     "name": "stderr",
     "output_type": "stream",
     "text": [
      "/var/folders/1c/h8t9_vd53gsgz_wm9kswm8wm0000gp/T/ipykernel_8570/617591763.py:74: UserWarning: Possible precision loss converting image of type float64 to uint8 as required by rank filters. Convert manually using skimage.util.img_as_ubyte to silence this warning.\n",
      "  frame_ = postprocess_cloud_mask(frame_, 5, 25)\n",
      "100%|██████████| 30/30 [00:04<00:00,  7.06it/s]\n",
      "100%|██████████| 30/30 [00:00<00:00, 106.14it/s]\n"
     ]
    },
    {
     "name": "stdout",
     "output_type": "stream",
     "text": [
      "Resampling time series...\n",
      "Resampling time series...\n",
      "Computing features for R_resampled_no_weights...\n",
      "Resampling time series...\n",
      "Resampling time series...\n",
      "Computing features for CRSWIR_resampled_no_weights...\n",
      "Resampling time series...\n",
      "Resampling time series...\n",
      "Computing features for RCC_resampled_no_weights...\n",
      "Computing features for R_no_resample_no_weights...\n",
      "Computing features for CRSWIR_no_resample_no_weights...\n",
      "Computing features for RCC_no_resample_no_weights...\n",
      "Computing features for R_no_resample_cloud_weights...\n",
      "Computing features for CRSWIR_no_resample_cloud_weights...\n",
      "Computing features for RCC_no_resample_cloud_weights...\n",
      "Computing features for R_no_resample_cloud_disturbance_weights...\n",
      "Computing features for CRSWIR_no_resample_cloud_disturbance_weights...\n",
      "Computing features for RCC_no_resample_cloud_disturbance_weights...\n"
     ]
    },
    {
     "name": "stderr",
     "output_type": "stream",
     "text": [
      " 19%|█▉        | 15/80 [28:12<2:07:26, 117.64s/it]"
     ]
    },
    {
     "name": "stdout",
     "output_type": "stream",
     "text": [
      "Processing tile_40_20200102_20241230_Terres_rouges_training...\n"
     ]
    },
    {
     "name": "stderr",
     "output_type": "stream",
     "text": [
      "/var/folders/1c/h8t9_vd53gsgz_wm9kswm8wm0000gp/T/ipykernel_8570/617591763.py:74: UserWarning: Possible precision loss converting image of type float64 to uint8 as required by rank filters. Convert manually using skimage.util.img_as_ubyte to silence this warning.\n",
      "  frame_ = postprocess_cloud_mask(frame_, 5, 25)\n",
      "100%|██████████| 42/42 [00:05<00:00,  7.42it/s]\n",
      "100%|██████████| 42/42 [00:00<00:00, 77.56it/s]\n"
     ]
    },
    {
     "name": "stdout",
     "output_type": "stream",
     "text": [
      "Resampling time series...\n",
      "Resampling time series...\n",
      "Computing features for R_resampled_no_weights...\n",
      "Resampling time series...\n",
      "Resampling time series...\n",
      "Computing features for CRSWIR_resampled_no_weights...\n",
      "Resampling time series...\n",
      "Resampling time series...\n",
      "Computing features for RCC_resampled_no_weights...\n",
      "Computing features for R_no_resample_no_weights...\n",
      "Computing features for CRSWIR_no_resample_no_weights...\n",
      "Computing features for RCC_no_resample_no_weights...\n",
      "Computing features for R_no_resample_cloud_weights...\n",
      "Computing features for CRSWIR_no_resample_cloud_weights...\n",
      "Computing features for RCC_no_resample_cloud_weights...\n",
      "Computing features for R_no_resample_cloud_disturbance_weights...\n",
      "Computing features for CRSWIR_no_resample_cloud_disturbance_weights...\n",
      "Computing features for RCC_no_resample_cloud_disturbance_weights...\n"
     ]
    },
    {
     "name": "stderr",
     "output_type": "stream",
     "text": [
      " 20%|██        | 16/80 [30:24<2:09:52, 121.77s/it]"
     ]
    },
    {
     "name": "stdout",
     "output_type": "stream",
     "text": [
      "Processing tile_66_20200102_20241230_Piémont_pyrénéen_training...\n"
     ]
    },
    {
     "name": "stderr",
     "output_type": "stream",
     "text": [
      "/var/folders/1c/h8t9_vd53gsgz_wm9kswm8wm0000gp/T/ipykernel_8570/617591763.py:74: UserWarning: Possible precision loss converting image of type float64 to uint8 as required by rank filters. Convert manually using skimage.util.img_as_ubyte to silence this warning.\n",
      "  frame_ = postprocess_cloud_mask(frame_, 5, 25)\n",
      "100%|██████████| 114/114 [00:15<00:00,  7.31it/s]\n",
      "100%|██████████| 114/114 [00:01<00:00, 90.74it/s]\n"
     ]
    },
    {
     "name": "stdout",
     "output_type": "stream",
     "text": [
      "Resampling time series...\n",
      "Resampling time series...\n",
      "Computing features for R_resampled_no_weights...\n",
      "Resampling time series...\n",
      "Resampling time series...\n",
      "Computing features for CRSWIR_resampled_no_weights...\n",
      "Resampling time series...\n",
      "Resampling time series...\n",
      "Computing features for RCC_resampled_no_weights...\n",
      "Computing features for R_no_resample_no_weights...\n",
      "Computing features for CRSWIR_no_resample_no_weights...\n",
      "Computing features for RCC_no_resample_no_weights...\n",
      "Computing features for R_no_resample_cloud_weights...\n",
      "Computing features for CRSWIR_no_resample_cloud_weights...\n",
      "Computing features for RCC_no_resample_cloud_weights...\n",
      "Computing features for R_no_resample_cloud_disturbance_weights...\n",
      "Computing features for CRSWIR_no_resample_cloud_disturbance_weights...\n",
      "Computing features for RCC_no_resample_cloud_disturbance_weights...\n"
     ]
    },
    {
     "name": "stderr",
     "output_type": "stream",
     "text": [
      " 21%|██▏       | 17/80 [32:49<2:15:06, 128.67s/it]"
     ]
    },
    {
     "name": "stdout",
     "output_type": "stream",
     "text": [
      "Processing tile_26_20200102_20241230_Massif_vosgien_central_training...\n"
     ]
    },
    {
     "name": "stderr",
     "output_type": "stream",
     "text": [
      "/var/folders/1c/h8t9_vd53gsgz_wm9kswm8wm0000gp/T/ipykernel_8570/617591763.py:74: UserWarning: Possible precision loss converting image of type float64 to uint8 as required by rank filters. Convert manually using skimage.util.img_as_ubyte to silence this warning.\n",
      "  frame_ = postprocess_cloud_mask(frame_, 5, 25)\n",
      "100%|██████████| 42/42 [00:05<00:00,  7.01it/s]\n",
      "100%|██████████| 42/42 [00:00<00:00, 87.95it/s]\n"
     ]
    },
    {
     "name": "stdout",
     "output_type": "stream",
     "text": [
      "Resampling time series...\n",
      "Resampling time series...\n",
      "Computing features for R_resampled_no_weights...\n",
      "Resampling time series...\n",
      "Resampling time series...\n",
      "Computing features for CRSWIR_resampled_no_weights...\n",
      "Resampling time series...\n",
      "Resampling time series...\n",
      "Computing features for RCC_resampled_no_weights...\n",
      "Computing features for R_no_resample_no_weights...\n",
      "Computing features for CRSWIR_no_resample_no_weights...\n",
      "Computing features for RCC_no_resample_no_weights...\n",
      "Computing features for R_no_resample_cloud_weights...\n",
      "Computing features for CRSWIR_no_resample_cloud_weights...\n",
      "Computing features for RCC_no_resample_cloud_weights...\n",
      "Computing features for R_no_resample_cloud_disturbance_weights...\n",
      "Computing features for CRSWIR_no_resample_cloud_disturbance_weights...\n",
      "Computing features for RCC_no_resample_cloud_disturbance_weights...\n"
     ]
    },
    {
     "name": "stderr",
     "output_type": "stream",
     "text": [
      " 22%|██▎       | 18/80 [35:12<2:17:13, 132.79s/it]"
     ]
    },
    {
     "name": "stdout",
     "output_type": "stream",
     "text": [
      "Processing tile_19_20200102_20241230_Ardenne_primaire_training...\n"
     ]
    },
    {
     "name": "stderr",
     "output_type": "stream",
     "text": [
      "/var/folders/1c/h8t9_vd53gsgz_wm9kswm8wm0000gp/T/ipykernel_8570/617591763.py:74: UserWarning: Possible precision loss converting image of type float64 to uint8 as required by rank filters. Convert manually using skimage.util.img_as_ubyte to silence this warning.\n",
      "  frame_ = postprocess_cloud_mask(frame_, 5, 25)\n",
      "100%|██████████| 43/43 [00:06<00:00,  7.00it/s]\n",
      "100%|██████████| 43/43 [00:00<00:00, 70.00it/s]\n"
     ]
    },
    {
     "name": "stdout",
     "output_type": "stream",
     "text": [
      "Resampling time series...\n",
      "Resampling time series...\n",
      "Computing features for R_resampled_no_weights...\n",
      "Resampling time series...\n",
      "Resampling time series...\n",
      "Computing features for CRSWIR_resampled_no_weights...\n",
      "Resampling time series...\n",
      "Resampling time series...\n",
      "Computing features for RCC_resampled_no_weights...\n",
      "Computing features for R_no_resample_no_weights...\n",
      "Computing features for CRSWIR_no_resample_no_weights...\n",
      "Computing features for RCC_no_resample_no_weights...\n",
      "Computing features for R_no_resample_cloud_weights...\n",
      "Computing features for CRSWIR_no_resample_cloud_weights...\n",
      "Computing features for RCC_no_resample_cloud_weights...\n",
      "Computing features for R_no_resample_cloud_disturbance_weights...\n",
      "Computing features for CRSWIR_no_resample_cloud_disturbance_weights...\n",
      "Computing features for RCC_no_resample_cloud_disturbance_weights...\n"
     ]
    },
    {
     "name": "stderr",
     "output_type": "stream",
     "text": [
      " 24%|██▍       | 19/80 [37:45<2:21:09, 138.84s/it]"
     ]
    },
    {
     "name": "stdout",
     "output_type": "stream",
     "text": [
      "Processing tile_64_20200102_20241230_Piémont_pyrénéen_training...\n"
     ]
    },
    {
     "name": "stderr",
     "output_type": "stream",
     "text": [
      "/var/folders/1c/h8t9_vd53gsgz_wm9kswm8wm0000gp/T/ipykernel_8570/617591763.py:74: UserWarning: Possible precision loss converting image of type float64 to uint8 as required by rank filters. Convert manually using skimage.util.img_as_ubyte to silence this warning.\n",
      "  frame_ = postprocess_cloud_mask(frame_, 5, 25)\n",
      "100%|██████████| 33/33 [00:05<00:00,  6.31it/s]\n",
      "100%|██████████| 33/33 [00:00<00:00, 85.93it/s]\n"
     ]
    },
    {
     "name": "stdout",
     "output_type": "stream",
     "text": [
      "Resampling time series...\n",
      "Resampling time series...\n",
      "Computing features for R_resampled_no_weights...\n",
      "Resampling time series...\n",
      "Resampling time series...\n",
      "Computing features for CRSWIR_resampled_no_weights...\n",
      "Resampling time series...\n",
      "Resampling time series...\n",
      "Computing features for RCC_resampled_no_weights...\n",
      "Computing features for R_no_resample_no_weights...\n",
      "Computing features for CRSWIR_no_resample_no_weights...\n",
      "Computing features for RCC_no_resample_no_weights...\n",
      "Computing features for R_no_resample_cloud_weights...\n",
      "Computing features for CRSWIR_no_resample_cloud_weights...\n",
      "Computing features for RCC_no_resample_cloud_weights...\n",
      "Computing features for R_no_resample_cloud_disturbance_weights...\n",
      "Computing features for CRSWIR_no_resample_cloud_disturbance_weights...\n",
      "Computing features for RCC_no_resample_cloud_disturbance_weights...\n"
     ]
    },
    {
     "name": "stderr",
     "output_type": "stream",
     "text": [
      " 25%|██▌       | 20/80 [1:01:07<8:33:37, 513.62s/it]"
     ]
    },
    {
     "name": "stdout",
     "output_type": "stream",
     "text": [
      "Processing tile_43_20200102_20241230_Terres_rouges_training...\n"
     ]
    },
    {
     "name": "stderr",
     "output_type": "stream",
     "text": [
      "/var/folders/1c/h8t9_vd53gsgz_wm9kswm8wm0000gp/T/ipykernel_8570/617591763.py:74: UserWarning: Possible precision loss converting image of type float64 to uint8 as required by rank filters. Convert manually using skimage.util.img_as_ubyte to silence this warning.\n",
      "  frame_ = postprocess_cloud_mask(frame_, 5, 25)\n",
      "100%|██████████| 39/39 [00:05<00:00,  6.94it/s]\n",
      "100%|██████████| 39/39 [00:00<00:00, 88.51it/s]\n"
     ]
    },
    {
     "name": "stdout",
     "output_type": "stream",
     "text": [
      "Resampling time series...\n",
      "Resampling time series...\n",
      "Computing features for R_resampled_no_weights...\n",
      "Resampling time series...\n",
      "Resampling time series...\n",
      "Computing features for CRSWIR_resampled_no_weights...\n",
      "Resampling time series...\n",
      "Resampling time series...\n",
      "Computing features for RCC_resampled_no_weights...\n",
      "Computing features for R_no_resample_no_weights...\n",
      "Computing features for CRSWIR_no_resample_no_weights...\n",
      "Computing features for RCC_no_resample_no_weights...\n",
      "Computing features for R_no_resample_cloud_weights...\n",
      "Computing features for CRSWIR_no_resample_cloud_weights...\n",
      "Computing features for RCC_no_resample_cloud_weights...\n",
      "Computing features for R_no_resample_cloud_disturbance_weights...\n",
      "Computing features for CRSWIR_no_resample_cloud_disturbance_weights...\n",
      "Computing features for RCC_no_resample_cloud_disturbance_weights...\n"
     ]
    },
    {
     "name": "stderr",
     "output_type": "stream",
     "text": [
      " 26%|██▋       | 21/80 [1:03:17<6:32:38, 399.29s/it]"
     ]
    },
    {
     "name": "stdout",
     "output_type": "stream",
     "text": [
      "Processing tile_87_20200102_20241230_Corse_occidentale_validation...\n"
     ]
    },
    {
     "name": "stderr",
     "output_type": "stream",
     "text": [
      "/var/folders/1c/h8t9_vd53gsgz_wm9kswm8wm0000gp/T/ipykernel_8570/617591763.py:74: UserWarning: Possible precision loss converting image of type float64 to uint8 as required by rank filters. Convert manually using skimage.util.img_as_ubyte to silence this warning.\n",
      "  frame_ = postprocess_cloud_mask(frame_, 5, 25)\n",
      "100%|██████████| 34/34 [00:04<00:00,  7.11it/s]\n",
      "100%|██████████| 34/34 [00:00<00:00, 95.52it/s]\n"
     ]
    },
    {
     "name": "stdout",
     "output_type": "stream",
     "text": [
      "Resampling time series...\n",
      "Resampling time series...\n",
      "Computing features for R_resampled_no_weights...\n",
      "Resampling time series...\n",
      "Resampling time series...\n",
      "Computing features for CRSWIR_resampled_no_weights...\n",
      "Resampling time series...\n",
      "Resampling time series...\n",
      "Computing features for RCC_resampled_no_weights...\n",
      "Computing features for R_no_resample_no_weights...\n",
      "Computing features for CRSWIR_no_resample_no_weights...\n",
      "Computing features for RCC_no_resample_no_weights...\n",
      "Computing features for R_no_resample_cloud_weights...\n",
      "Computing features for CRSWIR_no_resample_cloud_weights...\n",
      "Computing features for RCC_no_resample_cloud_weights...\n",
      "Computing features for R_no_resample_cloud_disturbance_weights...\n",
      "Computing features for CRSWIR_no_resample_cloud_disturbance_weights...\n",
      "Computing features for RCC_no_resample_cloud_disturbance_weights...\n"
     ]
    },
    {
     "name": "stderr",
     "output_type": "stream",
     "text": [
      " 28%|██▊       | 22/80 [1:05:33<5:10:00, 320.70s/it]"
     ]
    },
    {
     "name": "stdout",
     "output_type": "stream",
     "text": [
      "Processing tile_54_20200102_20241230_Châtaigneraie_du_Centre_et_de_l'Ouest_validation...\n"
     ]
    },
    {
     "name": "stderr",
     "output_type": "stream",
     "text": [
      "/var/folders/1c/h8t9_vd53gsgz_wm9kswm8wm0000gp/T/ipykernel_8570/617591763.py:74: UserWarning: Possible precision loss converting image of type float64 to uint8 as required by rank filters. Convert manually using skimage.util.img_as_ubyte to silence this warning.\n",
      "  frame_ = postprocess_cloud_mask(frame_, 5, 25)\n",
      "100%|██████████| 40/40 [00:05<00:00,  7.31it/s]\n",
      "100%|██████████| 40/40 [00:00<00:00, 93.90it/s]\n"
     ]
    },
    {
     "name": "stdout",
     "output_type": "stream",
     "text": [
      "Resampling time series...\n",
      "Resampling time series...\n",
      "Computing features for R_resampled_no_weights...\n",
      "Resampling time series...\n",
      "Resampling time series...\n",
      "Computing features for CRSWIR_resampled_no_weights...\n",
      "Resampling time series...\n",
      "Resampling time series...\n",
      "Computing features for RCC_resampled_no_weights...\n",
      "Computing features for R_no_resample_no_weights...\n",
      "Computing features for CRSWIR_no_resample_no_weights...\n",
      "Computing features for RCC_no_resample_no_weights...\n",
      "Computing features for R_no_resample_cloud_weights...\n",
      "Computing features for CRSWIR_no_resample_cloud_weights...\n",
      "Computing features for RCC_no_resample_cloud_weights...\n",
      "Computing features for R_no_resample_cloud_disturbance_weights...\n",
      "Computing features for CRSWIR_no_resample_cloud_disturbance_weights...\n",
      "Computing features for RCC_no_resample_cloud_disturbance_weights...\n"
     ]
    },
    {
     "name": "stderr",
     "output_type": "stream",
     "text": [
      " 30%|███       | 24/80 [1:07:38<3:08:24, 201.87s/it]"
     ]
    },
    {
     "name": "stdout",
     "output_type": "stream",
     "text": [
      "Processing tile_16_20200102_20241230_Ardenne_primaire_training...\n"
     ]
    },
    {
     "name": "stderr",
     "output_type": "stream",
     "text": [
      "/var/folders/1c/h8t9_vd53gsgz_wm9kswm8wm0000gp/T/ipykernel_8570/617591763.py:74: UserWarning: Possible precision loss converting image of type float64 to uint8 as required by rank filters. Convert manually using skimage.util.img_as_ubyte to silence this warning.\n",
      "  frame_ = postprocess_cloud_mask(frame_, 5, 25)\n",
      "100%|██████████| 43/43 [00:06<00:00,  7.12it/s]\n",
      "100%|██████████| 43/43 [00:00<00:00, 87.42it/s]\n"
     ]
    },
    {
     "name": "stdout",
     "output_type": "stream",
     "text": [
      "Resampling time series...\n",
      "Resampling time series...\n",
      "Computing features for R_resampled_no_weights...\n",
      "Resampling time series...\n",
      "Resampling time series...\n",
      "Computing features for CRSWIR_resampled_no_weights...\n",
      "Resampling time series...\n",
      "Resampling time series...\n",
      "Computing features for RCC_resampled_no_weights...\n",
      "Computing features for R_no_resample_no_weights...\n",
      "Computing features for CRSWIR_no_resample_no_weights...\n",
      "Computing features for RCC_no_resample_no_weights...\n",
      "Computing features for R_no_resample_cloud_weights...\n",
      "Computing features for CRSWIR_no_resample_cloud_weights...\n",
      "Computing features for RCC_no_resample_cloud_weights...\n",
      "Computing features for R_no_resample_cloud_disturbance_weights...\n",
      "Computing features for CRSWIR_no_resample_cloud_disturbance_weights...\n",
      "Computing features for RCC_no_resample_cloud_disturbance_weights...\n"
     ]
    },
    {
     "name": "stderr",
     "output_type": "stream",
     "text": [
      " 31%|███▏      | 25/80 [1:09:45<2:48:15, 183.56s/it]"
     ]
    },
    {
     "name": "stdout",
     "output_type": "stream",
     "text": [
      "Processing tile_83_20200102_20241230_Corse_occidentale_training...\n"
     ]
    },
    {
     "name": "stderr",
     "output_type": "stream",
     "text": [
      "/var/folders/1c/h8t9_vd53gsgz_wm9kswm8wm0000gp/T/ipykernel_8570/617591763.py:74: UserWarning: Possible precision loss converting image of type float64 to uint8 as required by rank filters. Convert manually using skimage.util.img_as_ubyte to silence this warning.\n",
      "  frame_ = postprocess_cloud_mask(frame_, 5, 25)\n",
      "100%|██████████| 48/48 [00:06<00:00,  7.19it/s]\n",
      "100%|██████████| 48/48 [00:00<00:00, 87.73it/s]\n"
     ]
    },
    {
     "name": "stdout",
     "output_type": "stream",
     "text": [
      "Resampling time series...\n",
      "Resampling time series...\n",
      "Computing features for R_resampled_no_weights...\n",
      "Resampling time series...\n",
      "Resampling time series...\n",
      "Computing features for CRSWIR_resampled_no_weights...\n",
      "Resampling time series...\n",
      "Resampling time series...\n",
      "Computing features for RCC_resampled_no_weights...\n",
      "Computing features for R_no_resample_no_weights...\n",
      "Computing features for CRSWIR_no_resample_no_weights...\n",
      "Computing features for RCC_no_resample_no_weights...\n",
      "Computing features for R_no_resample_cloud_weights...\n",
      "Computing features for CRSWIR_no_resample_cloud_weights...\n",
      "Computing features for RCC_no_resample_cloud_weights...\n",
      "Computing features for R_no_resample_cloud_disturbance_weights...\n",
      "Computing features for CRSWIR_no_resample_cloud_disturbance_weights...\n",
      "Computing features for RCC_no_resample_cloud_disturbance_weights...\n"
     ]
    },
    {
     "name": "stderr",
     "output_type": "stream",
     "text": [
      " 32%|███▎      | 26/80 [1:11:53<2:32:01, 168.91s/it]"
     ]
    },
    {
     "name": "stdout",
     "output_type": "stream",
     "text": [
      "Processing tile_53_20200102_20241230_Châtaigneraie_du_Centre_et_de_l'Ouest_validation...\n"
     ]
    },
    {
     "name": "stderr",
     "output_type": "stream",
     "text": [
      "/var/folders/1c/h8t9_vd53gsgz_wm9kswm8wm0000gp/T/ipykernel_8570/617591763.py:74: UserWarning: Possible precision loss converting image of type float64 to uint8 as required by rank filters. Convert manually using skimage.util.img_as_ubyte to silence this warning.\n",
      "  frame_ = postprocess_cloud_mask(frame_, 5, 25)\n",
      "100%|██████████| 40/40 [00:05<00:00,  7.95it/s]\n",
      "100%|██████████| 40/40 [00:00<00:00, 103.60it/s]\n"
     ]
    },
    {
     "name": "stdout",
     "output_type": "stream",
     "text": [
      "Resampling time series...\n",
      "Resampling time series...\n",
      "Computing features for R_resampled_no_weights...\n",
      "Resampling time series...\n",
      "Resampling time series...\n",
      "Computing features for CRSWIR_resampled_no_weights...\n",
      "Resampling time series...\n",
      "Resampling time series...\n",
      "Computing features for RCC_resampled_no_weights...\n",
      "Computing features for R_no_resample_no_weights...\n",
      "Computing features for CRSWIR_no_resample_no_weights...\n",
      "Computing features for RCC_no_resample_no_weights...\n",
      "Computing features for R_no_resample_cloud_weights...\n",
      "Computing features for CRSWIR_no_resample_cloud_weights...\n",
      "Computing features for RCC_no_resample_cloud_weights...\n",
      "Computing features for R_no_resample_cloud_disturbance_weights...\n",
      "Computing features for CRSWIR_no_resample_cloud_disturbance_weights...\n",
      "Computing features for RCC_no_resample_cloud_disturbance_weights...\n"
     ]
    },
    {
     "name": "stderr",
     "output_type": "stream",
     "text": [
      " 34%|███▍      | 27/80 [1:13:50<2:16:47, 154.87s/it]"
     ]
    },
    {
     "name": "stdout",
     "output_type": "stream",
     "text": [
      "Processing tile_14_20200102_20241230_Côtes_et_plateaux_de_la_Manche_validation...\n"
     ]
    },
    {
     "name": "stderr",
     "output_type": "stream",
     "text": [
      "/var/folders/1c/h8t9_vd53gsgz_wm9kswm8wm0000gp/T/ipykernel_8570/617591763.py:74: UserWarning: Possible precision loss converting image of type float64 to uint8 as required by rank filters. Convert manually using skimage.util.img_as_ubyte to silence this warning.\n",
      "  frame_ = postprocess_cloud_mask(frame_, 5, 25)\n",
      "100%|██████████| 39/39 [00:05<00:00,  7.28it/s]\n",
      "100%|██████████| 39/39 [00:00<00:00, 94.42it/s]\n"
     ]
    },
    {
     "name": "stdout",
     "output_type": "stream",
     "text": [
      "Resampling time series...\n",
      "Resampling time series...\n",
      "Computing features for R_resampled_no_weights...\n",
      "Resampling time series...\n",
      "Resampling time series...\n",
      "Computing features for CRSWIR_resampled_no_weights...\n",
      "Resampling time series...\n",
      "Resampling time series...\n",
      "Computing features for RCC_resampled_no_weights...\n",
      "Computing features for R_no_resample_no_weights...\n",
      "Computing features for CRSWIR_no_resample_no_weights...\n",
      "Computing features for RCC_no_resample_no_weights...\n",
      "Computing features for R_no_resample_cloud_weights...\n",
      "Computing features for CRSWIR_no_resample_cloud_weights...\n",
      "Computing features for RCC_no_resample_cloud_weights...\n",
      "Computing features for R_no_resample_cloud_disturbance_weights...\n",
      "Computing features for CRSWIR_no_resample_cloud_disturbance_weights...\n",
      "Computing features for RCC_no_resample_cloud_disturbance_weights...\n"
     ]
    },
    {
     "name": "stderr",
     "output_type": "stream",
     "text": [
      " 35%|███▌      | 28/80 [1:15:45<2:04:24, 143.56s/it]"
     ]
    },
    {
     "name": "stdout",
     "output_type": "stream",
     "text": [
      "Processing tile_34_20200102_20241230_Premier_plateau_du_Jura_training...\n"
     ]
    },
    {
     "name": "stderr",
     "output_type": "stream",
     "text": [
      "/var/folders/1c/h8t9_vd53gsgz_wm9kswm8wm0000gp/T/ipykernel_8570/617591763.py:74: UserWarning: Possible precision loss converting image of type float64 to uint8 as required by rank filters. Convert manually using skimage.util.img_as_ubyte to silence this warning.\n",
      "  frame_ = postprocess_cloud_mask(frame_, 5, 25)\n",
      "100%|██████████| 41/41 [00:05<00:00,  7.23it/s]\n",
      "100%|██████████| 41/41 [00:00<00:00, 91.61it/s]\n"
     ]
    },
    {
     "name": "stdout",
     "output_type": "stream",
     "text": [
      "Resampling time series...\n",
      "Resampling time series...\n",
      "Computing features for R_resampled_no_weights...\n",
      "Resampling time series...\n",
      "Resampling time series...\n",
      "Computing features for CRSWIR_resampled_no_weights...\n",
      "Resampling time series...\n",
      "Resampling time series...\n",
      "Computing features for RCC_resampled_no_weights...\n",
      "Computing features for R_no_resample_no_weights...\n",
      "Computing features for CRSWIR_no_resample_no_weights...\n",
      "Computing features for RCC_no_resample_no_weights...\n",
      "Computing features for R_no_resample_cloud_weights...\n",
      "Computing features for CRSWIR_no_resample_cloud_weights...\n",
      "Computing features for RCC_no_resample_cloud_weights...\n",
      "Computing features for R_no_resample_cloud_disturbance_weights...\n",
      "Computing features for CRSWIR_no_resample_cloud_disturbance_weights...\n",
      "Computing features for RCC_no_resample_cloud_disturbance_weights...\n"
     ]
    },
    {
     "name": "stderr",
     "output_type": "stream",
     "text": [
      " 36%|███▋      | 29/80 [1:17:53<1:58:20, 139.22s/it]"
     ]
    },
    {
     "name": "stdout",
     "output_type": "stream",
     "text": [
      "Processing tile_68_20200102_20241230_Piémont_pyrénéen_validation...\n"
     ]
    },
    {
     "name": "stderr",
     "output_type": "stream",
     "text": [
      "/var/folders/1c/h8t9_vd53gsgz_wm9kswm8wm0000gp/T/ipykernel_8570/617591763.py:74: UserWarning: Possible precision loss converting image of type float64 to uint8 as required by rank filters. Convert manually using skimage.util.img_as_ubyte to silence this warning.\n",
      "  frame_ = postprocess_cloud_mask(frame_, 5, 25)\n",
      "100%|██████████| 43/43 [00:06<00:00,  6.71it/s]\n",
      "100%|██████████| 43/43 [00:00<00:00, 79.02it/s]\n"
     ]
    },
    {
     "name": "stdout",
     "output_type": "stream",
     "text": [
      "Resampling time series...\n",
      "Resampling time series...\n",
      "Computing features for R_resampled_no_weights...\n",
      "Resampling time series...\n",
      "Resampling time series...\n",
      "Computing features for CRSWIR_resampled_no_weights...\n",
      "Resampling time series...\n",
      "Resampling time series...\n",
      "Computing features for RCC_resampled_no_weights...\n",
      "Computing features for R_no_resample_no_weights...\n",
      "Computing features for CRSWIR_no_resample_no_weights...\n",
      "Computing features for RCC_no_resample_no_weights...\n",
      "Computing features for R_no_resample_cloud_weights...\n",
      "Computing features for CRSWIR_no_resample_cloud_weights...\n",
      "Computing features for RCC_no_resample_cloud_weights...\n",
      "Computing features for R_no_resample_cloud_disturbance_weights...\n",
      "Computing features for CRSWIR_no_resample_cloud_disturbance_weights...\n",
      "Computing features for RCC_no_resample_cloud_disturbance_weights...\n"
     ]
    },
    {
     "name": "stderr",
     "output_type": "stream",
     "text": [
      " 38%|███▊      | 30/80 [1:20:02<1:53:32, 136.24s/it]"
     ]
    },
    {
     "name": "stdout",
     "output_type": "stream",
     "text": [
      "Processing tile_41_20200102_20241230_Terres_rouges_training...\n"
     ]
    },
    {
     "name": "stderr",
     "output_type": "stream",
     "text": [
      "/var/folders/1c/h8t9_vd53gsgz_wm9kswm8wm0000gp/T/ipykernel_8570/617591763.py:74: UserWarning: Possible precision loss converting image of type float64 to uint8 as required by rank filters. Convert manually using skimage.util.img_as_ubyte to silence this warning.\n",
      "  frame_ = postprocess_cloud_mask(frame_, 5, 25)\n",
      "100%|██████████| 37/37 [00:05<00:00,  7.06it/s]\n",
      "100%|██████████| 37/37 [00:00<00:00, 93.55it/s]\n"
     ]
    },
    {
     "name": "stdout",
     "output_type": "stream",
     "text": [
      "Resampling time series...\n",
      "Resampling time series...\n",
      "Computing features for R_resampled_no_weights...\n",
      "Resampling time series...\n",
      "Resampling time series...\n",
      "Computing features for CRSWIR_resampled_no_weights...\n",
      "Resampling time series...\n",
      "Resampling time series...\n",
      "Computing features for RCC_resampled_no_weights...\n",
      "Computing features for R_no_resample_no_weights...\n",
      "Computing features for CRSWIR_no_resample_no_weights...\n",
      "Computing features for RCC_no_resample_no_weights...\n",
      "Computing features for R_no_resample_cloud_weights...\n",
      "Computing features for CRSWIR_no_resample_cloud_weights...\n",
      "Computing features for RCC_no_resample_cloud_weights...\n",
      "Computing features for R_no_resample_cloud_disturbance_weights...\n",
      "Computing features for CRSWIR_no_resample_cloud_disturbance_weights...\n",
      "Computing features for RCC_no_resample_cloud_disturbance_weights...\n"
     ]
    },
    {
     "name": "stderr",
     "output_type": "stream",
     "text": [
      " 39%|███▉      | 31/80 [1:22:10<1:49:26, 134.01s/it]"
     ]
    },
    {
     "name": "stdout",
     "output_type": "stream",
     "text": [
      "Processing tile_82_20200102_20241230_Corse_occidentale_training...\n"
     ]
    },
    {
     "name": "stderr",
     "output_type": "stream",
     "text": [
      "/var/folders/1c/h8t9_vd53gsgz_wm9kswm8wm0000gp/T/ipykernel_8570/617591763.py:74: UserWarning: Possible precision loss converting image of type float64 to uint8 as required by rank filters. Convert manually using skimage.util.img_as_ubyte to silence this warning.\n",
      "  frame_ = postprocess_cloud_mask(frame_, 5, 25)\n",
      "100%|██████████| 47/47 [00:06<00:00,  7.22it/s]\n",
      "100%|██████████| 47/47 [00:00<00:00, 75.87it/s]\n"
     ]
    },
    {
     "name": "stdout",
     "output_type": "stream",
     "text": [
      "Resampling time series...\n",
      "Resampling time series...\n",
      "Computing features for R_resampled_no_weights...\n",
      "Resampling time series...\n",
      "Resampling time series...\n",
      "Computing features for CRSWIR_resampled_no_weights...\n",
      "Resampling time series...\n",
      "Resampling time series...\n",
      "Computing features for RCC_resampled_no_weights...\n",
      "Computing features for R_no_resample_no_weights...\n",
      "Computing features for CRSWIR_no_resample_no_weights...\n",
      "Computing features for RCC_no_resample_no_weights...\n",
      "Computing features for R_no_resample_cloud_weights...\n",
      "Computing features for CRSWIR_no_resample_cloud_weights...\n",
      "Computing features for RCC_no_resample_cloud_weights...\n",
      "Computing features for R_no_resample_cloud_disturbance_weights...\n",
      "Computing features for CRSWIR_no_resample_cloud_disturbance_weights...\n",
      "Computing features for RCC_no_resample_cloud_disturbance_weights...\n"
     ]
    },
    {
     "name": "stderr",
     "output_type": "stream",
     "text": [
      " 40%|████      | 32/80 [1:24:21<1:46:16, 132.84s/it]"
     ]
    },
    {
     "name": "stdout",
     "output_type": "stream",
     "text": [
      "Processing tile_29_20200102_20241230_Massif_vosgien_central_validation...\n"
     ]
    },
    {
     "name": "stderr",
     "output_type": "stream",
     "text": [
      "/var/folders/1c/h8t9_vd53gsgz_wm9kswm8wm0000gp/T/ipykernel_8570/617591763.py:74: UserWarning: Possible precision loss converting image of type float64 to uint8 as required by rank filters. Convert manually using skimage.util.img_as_ubyte to silence this warning.\n",
      "  frame_ = postprocess_cloud_mask(frame_, 5, 25)\n",
      "100%|██████████| 41/41 [00:05<00:00,  6.84it/s]\n",
      "100%|██████████| 41/41 [00:00<00:00, 85.66it/s]\n"
     ]
    },
    {
     "name": "stdout",
     "output_type": "stream",
     "text": [
      "Resampling time series...\n",
      "Resampling time series...\n",
      "Computing features for R_resampled_no_weights...\n",
      "Resampling time series...\n",
      "Resampling time series...\n",
      "Computing features for CRSWIR_resampled_no_weights...\n",
      "Resampling time series...\n",
      "Resampling time series...\n",
      "Computing features for RCC_resampled_no_weights...\n",
      "Computing features for R_no_resample_no_weights...\n",
      "Computing features for CRSWIR_no_resample_no_weights...\n",
      "Computing features for RCC_no_resample_no_weights...\n",
      "Computing features for R_no_resample_cloud_weights...\n",
      "Computing features for CRSWIR_no_resample_cloud_weights...\n",
      "Computing features for RCC_no_resample_cloud_weights...\n",
      "Computing features for R_no_resample_cloud_disturbance_weights...\n",
      "Computing features for CRSWIR_no_resample_cloud_disturbance_weights...\n",
      "Computing features for RCC_no_resample_cloud_disturbance_weights...\n"
     ]
    },
    {
     "name": "stderr",
     "output_type": "stream",
     "text": [
      " 41%|████▏     | 33/80 [1:26:37<1:44:53, 133.91s/it]"
     ]
    },
    {
     "name": "stdout",
     "output_type": "stream",
     "text": [
      "Processing tile_48_20200102_20241230_Châtaigneraie_du_Centre_et_de_l'Ouest_training...\n"
     ]
    },
    {
     "name": "stderr",
     "output_type": "stream",
     "text": [
      "/var/folders/1c/h8t9_vd53gsgz_wm9kswm8wm0000gp/T/ipykernel_8570/617591763.py:74: UserWarning: Possible precision loss converting image of type float64 to uint8 as required by rank filters. Convert manually using skimage.util.img_as_ubyte to silence this warning.\n",
      "  frame_ = postprocess_cloud_mask(frame_, 5, 25)\n",
      "100%|██████████| 44/44 [00:05<00:00,  7.97it/s]\n",
      "100%|██████████| 44/44 [00:00<00:00, 101.00it/s]\n"
     ]
    },
    {
     "name": "stdout",
     "output_type": "stream",
     "text": [
      "Resampling time series...\n",
      "Resampling time series...\n",
      "Computing features for R_resampled_no_weights...\n",
      "Resampling time series...\n",
      "Resampling time series...\n",
      "Computing features for CRSWIR_resampled_no_weights...\n",
      "Resampling time series...\n",
      "Resampling time series...\n",
      "Computing features for RCC_resampled_no_weights...\n",
      "Computing features for R_no_resample_no_weights...\n",
      "Computing features for CRSWIR_no_resample_no_weights...\n",
      "Computing features for RCC_no_resample_no_weights...\n",
      "Computing features for R_no_resample_cloud_weights...\n",
      "Computing features for CRSWIR_no_resample_cloud_weights...\n",
      "Computing features for RCC_no_resample_cloud_weights...\n",
      "Computing features for R_no_resample_cloud_disturbance_weights...\n",
      "Computing features for CRSWIR_no_resample_cloud_disturbance_weights...\n",
      "Computing features for RCC_no_resample_cloud_disturbance_weights...\n"
     ]
    },
    {
     "name": "stderr",
     "output_type": "stream",
     "text": [
      " 42%|████▎     | 34/80 [1:28:36<1:39:14, 129.45s/it]"
     ]
    },
    {
     "name": "stdout",
     "output_type": "stream",
     "text": [
      "Processing tile_23_20200102_20241230_Ardenne_primaire_validation...\n"
     ]
    },
    {
     "name": "stderr",
     "output_type": "stream",
     "text": [
      "/var/folders/1c/h8t9_vd53gsgz_wm9kswm8wm0000gp/T/ipykernel_8570/617591763.py:74: UserWarning: Possible precision loss converting image of type float64 to uint8 as required by rank filters. Convert manually using skimage.util.img_as_ubyte to silence this warning.\n",
      "  frame_ = postprocess_cloud_mask(frame_, 5, 25)\n",
      "100%|██████████| 45/45 [00:06<00:00,  7.42it/s]\n",
      "100%|██████████| 45/45 [00:00<00:00, 93.08it/s]\n"
     ]
    },
    {
     "name": "stdout",
     "output_type": "stream",
     "text": [
      "Resampling time series...\n",
      "Resampling time series...\n",
      "Computing features for R_resampled_no_weights...\n",
      "Resampling time series...\n",
      "Resampling time series...\n",
      "Computing features for CRSWIR_resampled_no_weights...\n",
      "Resampling time series...\n",
      "Resampling time series...\n",
      "Computing features for RCC_resampled_no_weights...\n",
      "Computing features for R_no_resample_no_weights...\n",
      "Computing features for CRSWIR_no_resample_no_weights...\n",
      "Computing features for RCC_no_resample_no_weights...\n",
      "Computing features for R_no_resample_cloud_weights...\n",
      "Computing features for CRSWIR_no_resample_cloud_weights...\n",
      "Computing features for RCC_no_resample_cloud_weights...\n",
      "Computing features for R_no_resample_cloud_disturbance_weights...\n",
      "Computing features for CRSWIR_no_resample_cloud_disturbance_weights...\n",
      "Computing features for RCC_no_resample_cloud_disturbance_weights...\n"
     ]
    },
    {
     "name": "stderr",
     "output_type": "stream",
     "text": [
      " 44%|████▍     | 35/80 [1:30:40<1:35:48, 127.75s/it]"
     ]
    },
    {
     "name": "stdout",
     "output_type": "stream",
     "text": [
      "Processing tile_38_20200102_20241230_Premier_plateau_du_Jura_validation...\n"
     ]
    },
    {
     "name": "stderr",
     "output_type": "stream",
     "text": [
      "/var/folders/1c/h8t9_vd53gsgz_wm9kswm8wm0000gp/T/ipykernel_8570/617591763.py:74: UserWarning: Possible precision loss converting image of type float64 to uint8 as required by rank filters. Convert manually using skimage.util.img_as_ubyte to silence this warning.\n",
      "  frame_ = postprocess_cloud_mask(frame_, 5, 25)\n",
      "100%|██████████| 37/37 [00:04<00:00,  8.92it/s]\n",
      "100%|██████████| 37/37 [00:00<00:00, 116.15it/s]\n"
     ]
    },
    {
     "name": "stdout",
     "output_type": "stream",
     "text": [
      "Resampling time series...\n",
      "Resampling time series...\n",
      "Computing features for R_resampled_no_weights...\n",
      "Resampling time series...\n",
      "Resampling time series...\n",
      "Computing features for CRSWIR_resampled_no_weights...\n",
      "Resampling time series...\n",
      "Resampling time series...\n",
      "Computing features for RCC_resampled_no_weights...\n",
      "Computing features for R_no_resample_no_weights...\n",
      "Computing features for CRSWIR_no_resample_no_weights...\n",
      "Computing features for RCC_no_resample_no_weights...\n",
      "Computing features for R_no_resample_cloud_weights...\n",
      "Computing features for CRSWIR_no_resample_cloud_weights...\n",
      "Computing features for RCC_no_resample_cloud_weights...\n",
      "Computing features for R_no_resample_cloud_disturbance_weights...\n",
      "Computing features for CRSWIR_no_resample_cloud_disturbance_weights...\n",
      "Computing features for RCC_no_resample_cloud_disturbance_weights...\n"
     ]
    },
    {
     "name": "stderr",
     "output_type": "stream",
     "text": [
      " 45%|████▌     | 36/80 [1:32:19<1:27:28, 119.28s/it]"
     ]
    },
    {
     "name": "stdout",
     "output_type": "stream",
     "text": [
      "Processing tile_10_20200102_20241230_Côtes_et_plateaux_de_la_Manche_training...\n"
     ]
    },
    {
     "name": "stderr",
     "output_type": "stream",
     "text": [
      "/var/folders/1c/h8t9_vd53gsgz_wm9kswm8wm0000gp/T/ipykernel_8570/617591763.py:74: UserWarning: Possible precision loss converting image of type float64 to uint8 as required by rank filters. Convert manually using skimage.util.img_as_ubyte to silence this warning.\n",
      "  frame_ = postprocess_cloud_mask(frame_, 5, 25)\n",
      "100%|██████████| 39/39 [00:05<00:00,  7.80it/s]\n",
      "100%|██████████| 39/39 [00:00<00:00, 104.67it/s]\n"
     ]
    },
    {
     "name": "stdout",
     "output_type": "stream",
     "text": [
      "Resampling time series...\n",
      "Resampling time series...\n",
      "Computing features for R_resampled_no_weights...\n",
      "Resampling time series...\n",
      "Resampling time series...\n",
      "Computing features for CRSWIR_resampled_no_weights...\n",
      "Resampling time series...\n",
      "Resampling time series...\n",
      "Computing features for RCC_resampled_no_weights...\n",
      "Computing features for R_no_resample_no_weights...\n",
      "Computing features for CRSWIR_no_resample_no_weights...\n",
      "Computing features for RCC_no_resample_no_weights...\n",
      "Computing features for R_no_resample_cloud_weights...\n",
      "Computing features for CRSWIR_no_resample_cloud_weights...\n",
      "Computing features for RCC_no_resample_cloud_weights...\n",
      "Computing features for R_no_resample_cloud_disturbance_weights...\n",
      "Computing features for CRSWIR_no_resample_cloud_disturbance_weights...\n",
      "Computing features for RCC_no_resample_cloud_disturbance_weights...\n"
     ]
    },
    {
     "name": "stderr",
     "output_type": "stream",
     "text": [
      " 46%|████▋     | 37/80 [1:34:13<1:24:24, 117.78s/it]"
     ]
    },
    {
     "name": "stdout",
     "output_type": "stream",
     "text": [
      "Processing tile_4_20200102_20241230_Ouest-Bretagne_et_Nord-Cotentin_validation...\n"
     ]
    },
    {
     "name": "stderr",
     "output_type": "stream",
     "text": [
      "/var/folders/1c/h8t9_vd53gsgz_wm9kswm8wm0000gp/T/ipykernel_8570/617591763.py:74: UserWarning: Possible precision loss converting image of type float64 to uint8 as required by rank filters. Convert manually using skimage.util.img_as_ubyte to silence this warning.\n",
      "  frame_ = postprocess_cloud_mask(frame_, 5, 25)\n",
      "100%|██████████| 41/41 [00:05<00:00,  6.99it/s]\n",
      "100%|██████████| 41/41 [00:00<00:00, 91.55it/s]\n"
     ]
    },
    {
     "name": "stdout",
     "output_type": "stream",
     "text": [
      "Resampling time series...\n",
      "Resampling time series...\n",
      "Computing features for R_resampled_no_weights...\n",
      "Resampling time series...\n",
      "Resampling time series...\n",
      "Computing features for CRSWIR_resampled_no_weights...\n",
      "Resampling time series...\n",
      "Resampling time series...\n",
      "Computing features for RCC_resampled_no_weights...\n",
      "Computing features for R_no_resample_no_weights...\n",
      "Computing features for CRSWIR_no_resample_no_weights...\n",
      "Computing features for RCC_no_resample_no_weights...\n",
      "Computing features for R_no_resample_cloud_weights...\n",
      "Computing features for CRSWIR_no_resample_cloud_weights...\n",
      "Computing features for RCC_no_resample_cloud_weights...\n",
      "Computing features for R_no_resample_cloud_disturbance_weights...\n",
      "Computing features for CRSWIR_no_resample_cloud_disturbance_weights...\n",
      "Computing features for RCC_no_resample_cloud_disturbance_weights...\n"
     ]
    },
    {
     "name": "stderr",
     "output_type": "stream",
     "text": [
      " 48%|████▊     | 38/80 [1:36:24<1:25:04, 121.53s/it]"
     ]
    },
    {
     "name": "stdout",
     "output_type": "stream",
     "text": [
      "Processing tile_28_20200102_20241230_Massif_vosgien_central_validation...\n"
     ]
    },
    {
     "name": "stderr",
     "output_type": "stream",
     "text": [
      "/var/folders/1c/h8t9_vd53gsgz_wm9kswm8wm0000gp/T/ipykernel_8570/617591763.py:74: UserWarning: Possible precision loss converting image of type float64 to uint8 as required by rank filters. Convert manually using skimage.util.img_as_ubyte to silence this warning.\n",
      "  frame_ = postprocess_cloud_mask(frame_, 5, 25)\n",
      "100%|██████████| 42/42 [00:05<00:00,  7.13it/s]\n",
      "100%|██████████| 42/42 [00:00<00:00, 92.47it/s]\n"
     ]
    },
    {
     "name": "stdout",
     "output_type": "stream",
     "text": [
      "Resampling time series...\n",
      "Resampling time series...\n",
      "Computing features for R_resampled_no_weights...\n",
      "Resampling time series...\n",
      "Resampling time series...\n",
      "Computing features for CRSWIR_resampled_no_weights...\n",
      "Resampling time series...\n",
      "Resampling time series...\n",
      "Computing features for RCC_resampled_no_weights...\n",
      "Computing features for R_no_resample_no_weights...\n",
      "Computing features for CRSWIR_no_resample_no_weights...\n",
      "Computing features for RCC_no_resample_no_weights...\n",
      "Computing features for R_no_resample_cloud_weights...\n",
      "Computing features for CRSWIR_no_resample_cloud_weights...\n",
      "Computing features for RCC_no_resample_cloud_weights...\n",
      "Computing features for R_no_resample_cloud_disturbance_weights...\n",
      "Computing features for CRSWIR_no_resample_cloud_disturbance_weights...\n",
      "Computing features for RCC_no_resample_cloud_disturbance_weights...\n"
     ]
    },
    {
     "name": "stderr",
     "output_type": "stream",
     "text": [
      " 49%|████▉     | 39/80 [1:38:34<1:24:47, 124.08s/it]"
     ]
    },
    {
     "name": "stdout",
     "output_type": "stream",
     "text": [
      "Processing tile_32_20200102_20241230_Premier_plateau_du_Jura_training...\n"
     ]
    },
    {
     "name": "stderr",
     "output_type": "stream",
     "text": [
      "/var/folders/1c/h8t9_vd53gsgz_wm9kswm8wm0000gp/T/ipykernel_8570/617591763.py:74: UserWarning: Possible precision loss converting image of type float64 to uint8 as required by rank filters. Convert manually using skimage.util.img_as_ubyte to silence this warning.\n",
      "  frame_ = postprocess_cloud_mask(frame_, 5, 25)\n",
      "100%|██████████| 38/38 [00:05<00:00,  7.26it/s]\n",
      "100%|██████████| 38/38 [00:00<00:00, 94.89it/s]\n"
     ]
    },
    {
     "name": "stdout",
     "output_type": "stream",
     "text": [
      "Resampling time series...\n",
      "Resampling time series...\n",
      "Computing features for R_resampled_no_weights...\n",
      "Resampling time series...\n",
      "Resampling time series...\n",
      "Computing features for CRSWIR_resampled_no_weights...\n",
      "Resampling time series...\n",
      "Resampling time series...\n",
      "Computing features for RCC_resampled_no_weights...\n",
      "Computing features for R_no_resample_no_weights...\n",
      "Computing features for CRSWIR_no_resample_no_weights...\n",
      "Computing features for RCC_no_resample_no_weights...\n",
      "Computing features for R_no_resample_cloud_weights...\n",
      "Computing features for CRSWIR_no_resample_cloud_weights...\n",
      "Computing features for RCC_no_resample_cloud_weights...\n",
      "Computing features for R_no_resample_cloud_disturbance_weights...\n",
      "Computing features for CRSWIR_no_resample_cloud_disturbance_weights...\n",
      "Computing features for RCC_no_resample_cloud_disturbance_weights...\n"
     ]
    },
    {
     "name": "stderr",
     "output_type": "stream",
     "text": [
      " 50%|█████     | 40/80 [1:40:41<1:23:17, 124.94s/it]"
     ]
    },
    {
     "name": "stdout",
     "output_type": "stream",
     "text": [
      "Processing tile_46_20200102_20241230_Terres_rouges_validation...\n"
     ]
    },
    {
     "name": "stderr",
     "output_type": "stream",
     "text": [
      "/var/folders/1c/h8t9_vd53gsgz_wm9kswm8wm0000gp/T/ipykernel_8570/617591763.py:74: UserWarning: Possible precision loss converting image of type float64 to uint8 as required by rank filters. Convert manually using skimage.util.img_as_ubyte to silence this warning.\n",
      "  frame_ = postprocess_cloud_mask(frame_, 5, 25)\n",
      "100%|██████████| 45/45 [00:06<00:00,  7.30it/s]\n",
      "100%|██████████| 45/45 [00:00<00:00, 93.12it/s]\n"
     ]
    },
    {
     "name": "stdout",
     "output_type": "stream",
     "text": [
      "Resampling time series...\n",
      "Resampling time series...\n",
      "Computing features for R_resampled_no_weights...\n",
      "Resampling time series...\n",
      "Resampling time series...\n",
      "Computing features for CRSWIR_resampled_no_weights...\n",
      "Resampling time series...\n",
      "Resampling time series...\n",
      "Computing features for RCC_resampled_no_weights...\n",
      "Computing features for R_no_resample_no_weights...\n",
      "Computing features for CRSWIR_no_resample_no_weights...\n",
      "Computing features for RCC_no_resample_no_weights...\n",
      "Computing features for R_no_resample_cloud_weights...\n",
      "Computing features for CRSWIR_no_resample_cloud_weights...\n",
      "Computing features for RCC_no_resample_cloud_weights...\n",
      "Computing features for R_no_resample_cloud_disturbance_weights...\n",
      "Computing features for CRSWIR_no_resample_cloud_disturbance_weights...\n",
      "Computing features for RCC_no_resample_cloud_disturbance_weights...\n"
     ]
    },
    {
     "name": "stderr",
     "output_type": "stream",
     "text": [
      " 51%|█████▏    | 41/80 [1:42:47<1:21:27, 125.31s/it]"
     ]
    },
    {
     "name": "stdout",
     "output_type": "stream",
     "text": [
      "Processing tile_12_20200102_20241230_Côtes_et_plateaux_de_la_Manche_validation...\n"
     ]
    },
    {
     "name": "stderr",
     "output_type": "stream",
     "text": [
      "/var/folders/1c/h8t9_vd53gsgz_wm9kswm8wm0000gp/T/ipykernel_8570/617591763.py:74: UserWarning: Possible precision loss converting image of type float64 to uint8 as required by rank filters. Convert manually using skimage.util.img_as_ubyte to silence this warning.\n",
      "  frame_ = postprocess_cloud_mask(frame_, 5, 25)\n",
      "100%|██████████| 33/33 [00:04<00:00,  8.08it/s]\n",
      "100%|██████████| 33/33 [00:00<00:00, 112.26it/s]\n"
     ]
    },
    {
     "name": "stdout",
     "output_type": "stream",
     "text": [
      "Resampling time series...\n",
      "Resampling time series...\n",
      "Computing features for R_resampled_no_weights...\n",
      "Resampling time series...\n",
      "Resampling time series...\n",
      "Computing features for CRSWIR_resampled_no_weights...\n",
      "Resampling time series...\n",
      "Resampling time series...\n",
      "Computing features for RCC_resampled_no_weights...\n",
      "Computing features for R_no_resample_no_weights...\n",
      "Computing features for CRSWIR_no_resample_no_weights...\n",
      "Computing features for RCC_no_resample_no_weights...\n",
      "Computing features for R_no_resample_cloud_weights...\n",
      "Computing features for CRSWIR_no_resample_cloud_weights...\n",
      "Computing features for RCC_no_resample_cloud_weights...\n",
      "Computing features for R_no_resample_cloud_disturbance_weights...\n",
      "Computing features for CRSWIR_no_resample_cloud_disturbance_weights...\n",
      "Computing features for RCC_no_resample_cloud_disturbance_weights...\n"
     ]
    },
    {
     "name": "stderr",
     "output_type": "stream",
     "text": [
      " 52%|█████▎    | 42/80 [1:44:38<1:16:40, 121.05s/it]"
     ]
    },
    {
     "name": "stdout",
     "output_type": "stream",
     "text": [
      "Processing tile_58_20200102_20241230_Préalpes_du_Nord_training...\n"
     ]
    },
    {
     "name": "stderr",
     "output_type": "stream",
     "text": [
      "/var/folders/1c/h8t9_vd53gsgz_wm9kswm8wm0000gp/T/ipykernel_8570/617591763.py:74: UserWarning: Possible precision loss converting image of type float64 to uint8 as required by rank filters. Convert manually using skimage.util.img_as_ubyte to silence this warning.\n",
      "  frame_ = postprocess_cloud_mask(frame_, 5, 25)\n",
      "100%|██████████| 41/41 [00:05<00:00,  6.89it/s]\n",
      "100%|██████████| 41/41 [00:00<00:00, 74.98it/s]\n"
     ]
    },
    {
     "name": "stdout",
     "output_type": "stream",
     "text": [
      "Resampling time series...\n",
      "Resampling time series...\n",
      "Computing features for R_resampled_no_weights...\n",
      "Resampling time series...\n",
      "Resampling time series...\n",
      "Computing features for CRSWIR_resampled_no_weights...\n",
      "Resampling time series...\n",
      "Resampling time series...\n",
      "Computing features for RCC_resampled_no_weights...\n",
      "Computing features for R_no_resample_no_weights...\n",
      "Computing features for CRSWIR_no_resample_no_weights...\n",
      "Computing features for RCC_no_resample_no_weights...\n",
      "Computing features for R_no_resample_cloud_weights...\n",
      "Computing features for CRSWIR_no_resample_cloud_weights...\n",
      "Computing features for RCC_no_resample_cloud_weights...\n",
      "Computing features for R_no_resample_cloud_disturbance_weights...\n",
      "Computing features for CRSWIR_no_resample_cloud_disturbance_weights...\n",
      "Computing features for RCC_no_resample_cloud_disturbance_weights...\n"
     ]
    },
    {
     "name": "stderr",
     "output_type": "stream",
     "text": [
      " 54%|█████▍    | 43/80 [1:46:51<1:16:55, 124.76s/it]"
     ]
    },
    {
     "name": "stdout",
     "output_type": "stream",
     "text": [
      "Processing tile_51_20200102_20241230_Châtaigneraie_du_Centre_et_de_l'Ouest_training...\n"
     ]
    },
    {
     "name": "stderr",
     "output_type": "stream",
     "text": [
      "/var/folders/1c/h8t9_vd53gsgz_wm9kswm8wm0000gp/T/ipykernel_8570/617591763.py:74: UserWarning: Possible precision loss converting image of type float64 to uint8 as required by rank filters. Convert manually using skimage.util.img_as_ubyte to silence this warning.\n",
      "  frame_ = postprocess_cloud_mask(frame_, 5, 25)\n",
      "100%|██████████| 32/32 [00:04<00:00,  7.88it/s]\n",
      "100%|██████████| 31/31 [00:00<00:00, 112.90it/s]\n",
      " 55%|█████▌    | 44/80 [1:46:57<53:24, 89.02s/it]   "
     ]
    },
    {
     "name": "stdout",
     "output_type": "stream",
     "text": [
      "Resampling time series...\n",
      "Error processing tile_51_20200102_20241230_Châtaigneraie_du_Centre_et_de_l'Ouest_training : Shape of passed values is (32, 257049), indices imply (31, 257049)\n",
      "resampled_no_weights True False False\n",
      "(32, 507, 507) (31, 507, 507) 31\n",
      "Processing tile_39_20140101_20181231_Premier_plateau_du_Jura_validation...\n"
     ]
    },
    {
     "name": "stderr",
     "output_type": "stream",
     "text": [
      "/var/folders/1c/h8t9_vd53gsgz_wm9kswm8wm0000gp/T/ipykernel_8570/617591763.py:74: UserWarning: Possible precision loss converting image of type float64 to uint8 as required by rank filters. Convert manually using skimage.util.img_as_ubyte to silence this warning.\n",
      "  frame_ = postprocess_cloud_mask(frame_, 5, 25)\n",
      "100%|██████████| 9/9 [00:00<00:00, 35.12it/s]\n",
      "100%|██████████| 9/9 [00:00<00:00, 548.17it/s]\n"
     ]
    },
    {
     "name": "stdout",
     "output_type": "stream",
     "text": [
      "Resampling time series...\n",
      "Resampling time series...\n",
      "Computing features for R_resampled_no_weights...\n",
      "Resampling time series...\n",
      "Resampling time series...\n",
      "Computing features for CRSWIR_resampled_no_weights...\n",
      "Resampling time series...\n",
      "Resampling time series...\n",
      "Computing features for RCC_resampled_no_weights...\n",
      "Computing features for R_no_resample_no_weights...\n",
      "Computing features for CRSWIR_no_resample_no_weights...\n",
      "Computing features for RCC_no_resample_no_weights...\n",
      "Computing features for R_no_resample_cloud_weights...\n",
      "Computing features for CRSWIR_no_resample_cloud_weights...\n",
      "Computing features for RCC_no_resample_cloud_weights...\n",
      "Computing features for R_no_resample_cloud_disturbance_weights...\n",
      "Computing features for CRSWIR_no_resample_cloud_disturbance_weights...\n",
      "Computing features for RCC_no_resample_cloud_disturbance_weights...\n"
     ]
    },
    {
     "name": "stderr",
     "output_type": "stream",
     "text": [
      " 56%|█████▋    | 45/80 [1:47:19<40:12, 68.92s/it]"
     ]
    },
    {
     "name": "stdout",
     "output_type": "stream",
     "text": [
      "Processing tile_1_20200102_20241230_Ouest-Bretagne_et_Nord-Cotentin_training...\n"
     ]
    },
    {
     "name": "stderr",
     "output_type": "stream",
     "text": [
      "/var/folders/1c/h8t9_vd53gsgz_wm9kswm8wm0000gp/T/ipykernel_8570/617591763.py:74: UserWarning: Possible precision loss converting image of type float64 to uint8 as required by rank filters. Convert manually using skimage.util.img_as_ubyte to silence this warning.\n",
      "  frame_ = postprocess_cloud_mask(frame_, 5, 25)\n",
      "100%|██████████| 32/32 [00:04<00:00,  6.92it/s]\n",
      "100%|██████████| 32/32 [00:00<00:00, 100.63it/s]\n"
     ]
    },
    {
     "name": "stdout",
     "output_type": "stream",
     "text": [
      "Resampling time series...\n",
      "Resampling time series...\n",
      "Computing features for R_resampled_no_weights...\n",
      "Resampling time series...\n",
      "Resampling time series...\n",
      "Computing features for CRSWIR_resampled_no_weights...\n",
      "Resampling time series...\n",
      "Resampling time series...\n",
      "Computing features for RCC_resampled_no_weights...\n",
      "Computing features for R_no_resample_no_weights...\n",
      "Computing features for CRSWIR_no_resample_no_weights...\n",
      "Computing features for RCC_no_resample_no_weights...\n",
      "Computing features for R_no_resample_cloud_weights...\n",
      "Computing features for CRSWIR_no_resample_cloud_weights...\n",
      "Computing features for RCC_no_resample_cloud_weights...\n",
      "Computing features for R_no_resample_cloud_disturbance_weights...\n",
      "Computing features for CRSWIR_no_resample_cloud_disturbance_weights...\n",
      "Computing features for RCC_no_resample_cloud_disturbance_weights...\n"
     ]
    },
    {
     "name": "stderr",
     "output_type": "stream",
     "text": [
      " 57%|█████▊    | 46/80 [1:49:23<48:29, 85.56s/it]"
     ]
    },
    {
     "name": "stdout",
     "output_type": "stream",
     "text": [
      "Processing tile_44_20200102_20241230_Terres_rouges_validation...\n"
     ]
    },
    {
     "name": "stderr",
     "output_type": "stream",
     "text": [
      "/var/folders/1c/h8t9_vd53gsgz_wm9kswm8wm0000gp/T/ipykernel_8570/617591763.py:74: UserWarning: Possible precision loss converting image of type float64 to uint8 as required by rank filters. Convert manually using skimage.util.img_as_ubyte to silence this warning.\n",
      "  frame_ = postprocess_cloud_mask(frame_, 5, 25)\n",
      "100%|██████████| 42/42 [00:05<00:00,  7.69it/s]\n",
      "100%|██████████| 42/42 [00:00<00:00, 83.62it/s]\n"
     ]
    },
    {
     "name": "stdout",
     "output_type": "stream",
     "text": [
      "Resampling time series...\n",
      "Resampling time series...\n",
      "Computing features for R_resampled_no_weights...\n",
      "Resampling time series...\n",
      "Resampling time series...\n",
      "Computing features for CRSWIR_resampled_no_weights...\n",
      "Resampling time series...\n",
      "Resampling time series...\n",
      "Computing features for RCC_resampled_no_weights...\n",
      "Computing features for R_no_resample_no_weights...\n",
      "Computing features for CRSWIR_no_resample_no_weights...\n",
      "Computing features for RCC_no_resample_no_weights...\n",
      "Computing features for R_no_resample_cloud_weights...\n",
      "Computing features for CRSWIR_no_resample_cloud_weights...\n",
      "Computing features for RCC_no_resample_cloud_weights...\n",
      "Computing features for R_no_resample_cloud_disturbance_weights...\n",
      "Computing features for CRSWIR_no_resample_cloud_disturbance_weights...\n",
      "Computing features for RCC_no_resample_cloud_disturbance_weights...\n"
     ]
    },
    {
     "name": "stderr",
     "output_type": "stream",
     "text": [
      " 59%|█████▉    | 47/80 [1:51:29<53:36, 97.48s/it]"
     ]
    },
    {
     "name": "stdout",
     "output_type": "stream",
     "text": [
      "Processing tile_7_20200102_20241230_Ouest-Bretagne_et_Nord-Cotentin_validation...\n"
     ]
    },
    {
     "name": "stderr",
     "output_type": "stream",
     "text": [
      "/var/folders/1c/h8t9_vd53gsgz_wm9kswm8wm0000gp/T/ipykernel_8570/617591763.py:74: UserWarning: Possible precision loss converting image of type float64 to uint8 as required by rank filters. Convert manually using skimage.util.img_as_ubyte to silence this warning.\n",
      "  frame_ = postprocess_cloud_mask(frame_, 5, 25)\n",
      "100%|██████████| 38/38 [00:05<00:00,  6.87it/s]\n",
      "100%|██████████| 38/38 [00:00<00:00, 71.74it/s]\n"
     ]
    },
    {
     "name": "stdout",
     "output_type": "stream",
     "text": [
      "Resampling time series...\n",
      "Resampling time series...\n",
      "Computing features for R_resampled_no_weights...\n",
      "Resampling time series...\n",
      "Resampling time series...\n",
      "Computing features for CRSWIR_resampled_no_weights...\n",
      "Resampling time series...\n",
      "Resampling time series...\n",
      "Computing features for RCC_resampled_no_weights...\n",
      "Computing features for R_no_resample_no_weights...\n",
      "Computing features for CRSWIR_no_resample_no_weights...\n",
      "Computing features for RCC_no_resample_no_weights...\n",
      "Computing features for R_no_resample_cloud_weights...\n",
      "Computing features for CRSWIR_no_resample_cloud_weights...\n",
      "Computing features for RCC_no_resample_cloud_weights...\n",
      "Computing features for R_no_resample_cloud_disturbance_weights...\n",
      "Computing features for CRSWIR_no_resample_cloud_disturbance_weights...\n",
      "Computing features for RCC_no_resample_cloud_disturbance_weights...\n"
     ]
    },
    {
     "name": "stderr",
     "output_type": "stream",
     "text": [
      " 60%|██████    | 48/80 [1:53:37<56:54, 106.71s/it]"
     ]
    },
    {
     "name": "stdout",
     "output_type": "stream",
     "text": [
      "Processing tile_22_20200102_20241230_Ardenne_primaire_validation...\n"
     ]
    },
    {
     "name": "stderr",
     "output_type": "stream",
     "text": [
      "/var/folders/1c/h8t9_vd53gsgz_wm9kswm8wm0000gp/T/ipykernel_8570/617591763.py:74: UserWarning: Possible precision loss converting image of type float64 to uint8 as required by rank filters. Convert manually using skimage.util.img_as_ubyte to silence this warning.\n",
      "  frame_ = postprocess_cloud_mask(frame_, 5, 25)\n",
      "100%|██████████| 41/41 [00:05<00:00,  7.05it/s]\n",
      "100%|██████████| 41/41 [00:00<00:00, 90.10it/s]\n"
     ]
    },
    {
     "name": "stdout",
     "output_type": "stream",
     "text": [
      "Resampling time series...\n",
      "Resampling time series...\n",
      "Computing features for R_resampled_no_weights...\n",
      "Resampling time series...\n",
      "Resampling time series...\n",
      "Computing features for CRSWIR_resampled_no_weights...\n",
      "Resampling time series...\n",
      "Resampling time series...\n",
      "Computing features for RCC_resampled_no_weights...\n",
      "Computing features for R_no_resample_no_weights...\n",
      "Computing features for CRSWIR_no_resample_no_weights...\n",
      "Computing features for RCC_no_resample_no_weights...\n",
      "Computing features for R_no_resample_cloud_weights...\n",
      "Computing features for CRSWIR_no_resample_cloud_weights...\n",
      "Computing features for RCC_no_resample_cloud_weights...\n",
      "Computing features for R_no_resample_cloud_disturbance_weights...\n",
      "Computing features for CRSWIR_no_resample_cloud_disturbance_weights...\n",
      "Computing features for RCC_no_resample_cloud_disturbance_weights...\n"
     ]
    },
    {
     "name": "stderr",
     "output_type": "stream",
     "text": [
      " 61%|██████▏   | 49/80 [1:56:01<1:01:00, 118.08s/it]"
     ]
    },
    {
     "name": "stdout",
     "output_type": "stream",
     "text": [
      "Processing tile_9_20200102_20241230_Côtes_et_plateaux_de_la_Manche_training...\n"
     ]
    },
    {
     "name": "stderr",
     "output_type": "stream",
     "text": [
      "/var/folders/1c/h8t9_vd53gsgz_wm9kswm8wm0000gp/T/ipykernel_8570/617591763.py:74: UserWarning: Possible precision loss converting image of type float64 to uint8 as required by rank filters. Convert manually using skimage.util.img_as_ubyte to silence this warning.\n",
      "  frame_ = postprocess_cloud_mask(frame_, 5, 25)\n",
      "100%|██████████| 39/39 [00:05<00:00,  7.15it/s]\n",
      "100%|██████████| 39/39 [00:00<00:00, 96.47it/s]\n"
     ]
    },
    {
     "name": "stdout",
     "output_type": "stream",
     "text": [
      "Resampling time series...\n",
      "Resampling time series...\n",
      "Computing features for R_resampled_no_weights...\n",
      "Resampling time series...\n",
      "Resampling time series...\n",
      "Computing features for CRSWIR_resampled_no_weights...\n",
      "Resampling time series...\n",
      "Resampling time series...\n",
      "Computing features for RCC_resampled_no_weights...\n",
      "Computing features for R_no_resample_no_weights...\n",
      "Computing features for CRSWIR_no_resample_no_weights...\n",
      "Computing features for RCC_no_resample_no_weights...\n",
      "Computing features for R_no_resample_cloud_weights...\n",
      "Computing features for CRSWIR_no_resample_cloud_weights...\n",
      "Computing features for RCC_no_resample_cloud_weights...\n",
      "Computing features for R_no_resample_cloud_disturbance_weights...\n",
      "Computing features for CRSWIR_no_resample_cloud_disturbance_weights...\n",
      "Computing features for RCC_no_resample_cloud_disturbance_weights...\n"
     ]
    },
    {
     "name": "stderr",
     "output_type": "stream",
     "text": [
      " 62%|██████▎   | 50/80 [1:58:11<1:00:46, 121.56s/it]"
     ]
    },
    {
     "name": "stdout",
     "output_type": "stream",
     "text": [
      "Processing tile_76_20200102_20241230_Garrigues_validation...\n"
     ]
    },
    {
     "name": "stderr",
     "output_type": "stream",
     "text": [
      "/var/folders/1c/h8t9_vd53gsgz_wm9kswm8wm0000gp/T/ipykernel_8570/617591763.py:74: UserWarning: Possible precision loss converting image of type float64 to uint8 as required by rank filters. Convert manually using skimage.util.img_as_ubyte to silence this warning.\n",
      "  frame_ = postprocess_cloud_mask(frame_, 5, 25)\n",
      "100%|██████████| 48/48 [00:06<00:00,  7.10it/s]\n",
      "100%|██████████| 48/48 [00:00<00:00, 87.11it/s]\n"
     ]
    },
    {
     "name": "stdout",
     "output_type": "stream",
     "text": [
      "Resampling time series...\n",
      "Resampling time series...\n",
      "Computing features for R_resampled_no_weights...\n",
      "Resampling time series...\n",
      "Resampling time series...\n",
      "Computing features for CRSWIR_resampled_no_weights...\n",
      "Resampling time series...\n",
      "Resampling time series...\n",
      "Computing features for RCC_resampled_no_weights...\n",
      "Computing features for R_no_resample_no_weights...\n",
      "Computing features for CRSWIR_no_resample_no_weights...\n",
      "Computing features for RCC_no_resample_no_weights...\n",
      "Computing features for R_no_resample_cloud_weights...\n",
      "Computing features for CRSWIR_no_resample_cloud_weights...\n",
      "Computing features for RCC_no_resample_cloud_weights...\n",
      "Computing features for R_no_resample_cloud_disturbance_weights...\n",
      "Computing features for CRSWIR_no_resample_cloud_disturbance_weights...\n",
      "Computing features for RCC_no_resample_cloud_disturbance_weights...\n"
     ]
    },
    {
     "name": "stderr",
     "output_type": "stream",
     "text": [
      " 64%|██████▍   | 51/80 [2:00:22<1:00:09, 124.48s/it]"
     ]
    },
    {
     "name": "stdout",
     "output_type": "stream",
     "text": [
      "Processing tile_65_20200102_20241230_Piémont_pyrénéen_training...\n"
     ]
    },
    {
     "name": "stderr",
     "output_type": "stream",
     "text": [
      "/var/folders/1c/h8t9_vd53gsgz_wm9kswm8wm0000gp/T/ipykernel_8570/617591763.py:74: UserWarning: Possible precision loss converting image of type float64 to uint8 as required by rank filters. Convert manually using skimage.util.img_as_ubyte to silence this warning.\n",
      "  frame_ = postprocess_cloud_mask(frame_, 5, 25)\n",
      "100%|██████████| 49/49 [00:05<00:00,  8.78it/s]\n",
      "100%|██████████| 49/49 [00:00<00:00, 87.27it/s]\n"
     ]
    },
    {
     "name": "stdout",
     "output_type": "stream",
     "text": [
      "Resampling time series...\n",
      "Resampling time series...\n",
      "Computing features for R_resampled_no_weights...\n",
      "Resampling time series...\n",
      "Resampling time series...\n",
      "Computing features for CRSWIR_resampled_no_weights...\n",
      "Resampling time series...\n",
      "Resampling time series...\n",
      "Computing features for RCC_resampled_no_weights...\n",
      "Computing features for R_no_resample_no_weights...\n",
      "Computing features for CRSWIR_no_resample_no_weights...\n",
      "Computing features for RCC_no_resample_no_weights...\n",
      "Computing features for R_no_resample_cloud_weights...\n",
      "Computing features for CRSWIR_no_resample_cloud_weights...\n",
      "Computing features for RCC_no_resample_cloud_weights...\n",
      "Computing features for R_no_resample_cloud_disturbance_weights...\n",
      "Computing features for CRSWIR_no_resample_cloud_disturbance_weights...\n",
      "Computing features for RCC_no_resample_cloud_disturbance_weights...\n"
     ]
    },
    {
     "name": "stderr",
     "output_type": "stream",
     "text": [
      " 65%|██████▌   | 52/80 [2:02:12<56:03, 120.11s/it]  "
     ]
    },
    {
     "name": "stdout",
     "output_type": "stream",
     "text": [
      "Processing tile_2_20200102_20241230_Ouest-Bretagne_et_Nord-Cotentin_training...\n"
     ]
    },
    {
     "name": "stderr",
     "output_type": "stream",
     "text": [
      "/var/folders/1c/h8t9_vd53gsgz_wm9kswm8wm0000gp/T/ipykernel_8570/617591763.py:74: UserWarning: Possible precision loss converting image of type float64 to uint8 as required by rank filters. Convert manually using skimage.util.img_as_ubyte to silence this warning.\n",
      "  frame_ = postprocess_cloud_mask(frame_, 5, 25)\n",
      "100%|██████████| 42/42 [00:06<00:00,  6.33it/s]\n",
      "100%|██████████| 42/42 [00:00<00:00, 54.85it/s]\n"
     ]
    },
    {
     "name": "stdout",
     "output_type": "stream",
     "text": [
      "Resampling time series...\n",
      "Resampling time series...\n",
      "Computing features for R_resampled_no_weights...\n",
      "Resampling time series...\n",
      "Resampling time series...\n",
      "Computing features for CRSWIR_resampled_no_weights...\n",
      "Resampling time series...\n",
      "Resampling time series...\n",
      "Computing features for RCC_resampled_no_weights...\n",
      "Computing features for R_no_resample_no_weights...\n",
      "Computing features for CRSWIR_no_resample_no_weights...\n",
      "Computing features for RCC_no_resample_no_weights...\n",
      "Computing features for R_no_resample_cloud_weights...\n",
      "Computing features for CRSWIR_no_resample_cloud_weights...\n",
      "Computing features for RCC_no_resample_cloud_weights...\n",
      "Computing features for R_no_resample_cloud_disturbance_weights...\n",
      "Computing features for CRSWIR_no_resample_cloud_disturbance_weights...\n",
      "Computing features for RCC_no_resample_cloud_disturbance_weights...\n"
     ]
    },
    {
     "name": "stderr",
     "output_type": "stream",
     "text": [
      " 66%|██████▋   | 53/80 [2:04:47<58:45, 130.56s/it]"
     ]
    },
    {
     "name": "stdout",
     "output_type": "stream",
     "text": [
      "Processing tile_86_20200102_20241230_Corse_occidentale_validation...\n"
     ]
    },
    {
     "name": "stderr",
     "output_type": "stream",
     "text": [
      "/var/folders/1c/h8t9_vd53gsgz_wm9kswm8wm0000gp/T/ipykernel_8570/617591763.py:74: UserWarning: Possible precision loss converting image of type float64 to uint8 as required by rank filters. Convert manually using skimage.util.img_as_ubyte to silence this warning.\n",
      "  frame_ = postprocess_cloud_mask(frame_, 5, 25)\n",
      "100%|██████████| 49/49 [00:07<00:00,  6.96it/s]\n",
      "100%|██████████| 49/49 [00:00<00:00, 73.55it/s]\n"
     ]
    },
    {
     "name": "stdout",
     "output_type": "stream",
     "text": [
      "Resampling time series...\n",
      "Resampling time series...\n",
      "Computing features for R_resampled_no_weights...\n",
      "Resampling time series...\n",
      "Resampling time series...\n",
      "Computing features for CRSWIR_resampled_no_weights...\n",
      "Resampling time series...\n",
      "Resampling time series...\n",
      "Computing features for RCC_resampled_no_weights...\n",
      "Computing features for R_no_resample_no_weights...\n",
      "Computing features for CRSWIR_no_resample_no_weights...\n",
      "Computing features for RCC_no_resample_no_weights...\n",
      "Computing features for R_no_resample_cloud_weights...\n",
      "Computing features for CRSWIR_no_resample_cloud_weights...\n",
      "Computing features for RCC_no_resample_cloud_weights...\n",
      "Computing features for R_no_resample_cloud_disturbance_weights...\n",
      "Computing features for CRSWIR_no_resample_cloud_disturbance_weights...\n",
      "Computing features for RCC_no_resample_cloud_disturbance_weights...\n"
     ]
    },
    {
     "name": "stderr",
     "output_type": "stream",
     "text": [
      " 68%|██████▊   | 54/80 [2:07:00<56:52, 131.23s/it]"
     ]
    },
    {
     "name": "stdout",
     "output_type": "stream",
     "text": [
      "Processing tile_72_20200102_20241230_Garrigues_training...\n"
     ]
    },
    {
     "name": "stderr",
     "output_type": "stream",
     "text": [
      "/var/folders/1c/h8t9_vd53gsgz_wm9kswm8wm0000gp/T/ipykernel_8570/617591763.py:74: UserWarning: Possible precision loss converting image of type float64 to uint8 as required by rank filters. Convert manually using skimage.util.img_as_ubyte to silence this warning.\n",
      "  frame_ = postprocess_cloud_mask(frame_, 5, 25)\n",
      "100%|██████████| 52/52 [00:07<00:00,  6.92it/s]\n",
      "100%|██████████| 52/52 [00:00<00:00, 84.11it/s]\n"
     ]
    },
    {
     "name": "stdout",
     "output_type": "stream",
     "text": [
      "Resampling time series...\n",
      "Resampling time series...\n",
      "Computing features for R_resampled_no_weights...\n",
      "Resampling time series...\n",
      "Resampling time series...\n",
      "Computing features for CRSWIR_resampled_no_weights...\n",
      "Resampling time series...\n",
      "Resampling time series...\n",
      "Computing features for RCC_resampled_no_weights...\n",
      "Computing features for R_no_resample_no_weights...\n",
      "Computing features for CRSWIR_no_resample_no_weights...\n",
      "Computing features for RCC_no_resample_no_weights...\n",
      "Computing features for R_no_resample_cloud_weights...\n",
      "Computing features for CRSWIR_no_resample_cloud_weights...\n",
      "Computing features for RCC_no_resample_cloud_weights...\n",
      "Computing features for R_no_resample_cloud_disturbance_weights...\n",
      "Computing features for CRSWIR_no_resample_cloud_disturbance_weights...\n",
      "Computing features for RCC_no_resample_cloud_disturbance_weights...\n"
     ]
    },
    {
     "name": "stderr",
     "output_type": "stream",
     "text": [
      " 69%|██████▉   | 55/80 [2:09:15<55:08, 132.32s/it]"
     ]
    },
    {
     "name": "stdout",
     "output_type": "stream",
     "text": [
      "Processing tile_61_20200102_20241230_Préalpes_du_Nord_validation...\n"
     ]
    },
    {
     "name": "stderr",
     "output_type": "stream",
     "text": [
      "/var/folders/1c/h8t9_vd53gsgz_wm9kswm8wm0000gp/T/ipykernel_8570/617591763.py:74: UserWarning: Possible precision loss converting image of type float64 to uint8 as required by rank filters. Convert manually using skimage.util.img_as_ubyte to silence this warning.\n",
      "  frame_ = postprocess_cloud_mask(frame_, 5, 25)\n",
      "100%|██████████| 15/15 [00:02<00:00,  6.73it/s]\n",
      "100%|██████████| 14/14 [00:00<00:00, 76.66it/s]\n",
      " 70%|███████   | 56/80 [2:09:18<37:25, 93.55s/it] "
     ]
    },
    {
     "name": "stdout",
     "output_type": "stream",
     "text": [
      "Resampling time series...\n",
      "Error processing tile_61_20200102_20241230_Préalpes_du_Nord_validation : Shape of passed values is (15, 289444), indices imply (14, 289444)\n",
      "resampled_no_weights True False False\n",
      "(15, 538, 538) (14, 538, 538) 14\n",
      "Processing tile_49_20200102_20241230_Châtaigneraie_du_Centre_et_de_l'Ouest_training...\n"
     ]
    },
    {
     "name": "stderr",
     "output_type": "stream",
     "text": [
      "/var/folders/1c/h8t9_vd53gsgz_wm9kswm8wm0000gp/T/ipykernel_8570/617591763.py:74: UserWarning: Possible precision loss converting image of type float64 to uint8 as required by rank filters. Convert manually using skimage.util.img_as_ubyte to silence this warning.\n",
      "  frame_ = postprocess_cloud_mask(frame_, 5, 25)\n",
      "100%|██████████| 45/45 [00:05<00:00,  7.53it/s]\n",
      "100%|██████████| 45/45 [00:00<00:00, 94.12it/s]\n"
     ]
    },
    {
     "name": "stdout",
     "output_type": "stream",
     "text": [
      "Resampling time series...\n",
      "Resampling time series...\n",
      "Computing features for R_resampled_no_weights...\n",
      "Resampling time series...\n",
      "Resampling time series...\n",
      "Computing features for CRSWIR_resampled_no_weights...\n",
      "Resampling time series...\n",
      "Resampling time series...\n",
      "Computing features for RCC_resampled_no_weights...\n",
      "Computing features for R_no_resample_no_weights...\n",
      "Computing features for CRSWIR_no_resample_no_weights...\n",
      "Computing features for RCC_no_resample_no_weights...\n",
      "Computing features for R_no_resample_cloud_weights...\n",
      "Computing features for CRSWIR_no_resample_cloud_weights...\n",
      "Computing features for RCC_no_resample_cloud_weights...\n",
      "Computing features for R_no_resample_cloud_disturbance_weights...\n",
      "Computing features for CRSWIR_no_resample_cloud_disturbance_weights...\n",
      "Computing features for RCC_no_resample_cloud_disturbance_weights...\n"
     ]
    },
    {
     "name": "stderr",
     "output_type": "stream",
     "text": [
      " 71%|███████▏  | 57/80 [2:11:20<39:09, 102.17s/it]"
     ]
    },
    {
     "name": "stdout",
     "output_type": "stream",
     "text": [
      "Processing tile_75_20200102_20241230_Garrigues_training...\n"
     ]
    },
    {
     "name": "stderr",
     "output_type": "stream",
     "text": [
      "/var/folders/1c/h8t9_vd53gsgz_wm9kswm8wm0000gp/T/ipykernel_8570/617591763.py:74: UserWarning: Possible precision loss converting image of type float64 to uint8 as required by rank filters. Convert manually using skimage.util.img_as_ubyte to silence this warning.\n",
      "  frame_ = postprocess_cloud_mask(frame_, 5, 25)\n",
      "100%|██████████| 47/47 [00:06<00:00,  7.50it/s]\n",
      "100%|██████████| 47/47 [00:00<00:00, 96.40it/s]\n"
     ]
    },
    {
     "name": "stdout",
     "output_type": "stream",
     "text": [
      "Resampling time series...\n",
      "Resampling time series...\n",
      "Computing features for R_resampled_no_weights...\n",
      "Resampling time series...\n",
      "Resampling time series...\n",
      "Computing features for CRSWIR_resampled_no_weights...\n",
      "Resampling time series...\n",
      "Resampling time series...\n",
      "Computing features for RCC_resampled_no_weights...\n",
      "Computing features for R_no_resample_no_weights...\n",
      "Computing features for CRSWIR_no_resample_no_weights...\n",
      "Computing features for RCC_no_resample_no_weights...\n",
      "Computing features for R_no_resample_cloud_weights...\n",
      "Computing features for CRSWIR_no_resample_cloud_weights...\n",
      "Computing features for RCC_no_resample_cloud_weights...\n",
      "Computing features for R_no_resample_cloud_disturbance_weights...\n",
      "Computing features for CRSWIR_no_resample_cloud_disturbance_weights...\n",
      "Computing features for RCC_no_resample_cloud_disturbance_weights...\n"
     ]
    },
    {
     "name": "stderr",
     "output_type": "stream",
     "text": [
      " 72%|███████▎  | 58/80 [2:13:20<39:26, 107.57s/it]"
     ]
    },
    {
     "name": "stdout",
     "output_type": "stream",
     "text": [
      "Processing tile_21_20200102_20241230_Ardenne_primaire_validation...\n"
     ]
    },
    {
     "name": "stderr",
     "output_type": "stream",
     "text": [
      "/var/folders/1c/h8t9_vd53gsgz_wm9kswm8wm0000gp/T/ipykernel_8570/617591763.py:74: UserWarning: Possible precision loss converting image of type float64 to uint8 as required by rank filters. Convert manually using skimage.util.img_as_ubyte to silence this warning.\n",
      "  frame_ = postprocess_cloud_mask(frame_, 5, 25)\n",
      "100%|██████████| 44/44 [00:06<00:00,  7.15it/s]\n",
      "100%|██████████| 44/44 [00:00<00:00, 90.98it/s]\n"
     ]
    },
    {
     "name": "stdout",
     "output_type": "stream",
     "text": [
      "Resampling time series...\n",
      "Resampling time series...\n",
      "Computing features for R_resampled_no_weights...\n",
      "Resampling time series...\n",
      "Resampling time series...\n",
      "Computing features for CRSWIR_resampled_no_weights...\n",
      "Resampling time series...\n",
      "Resampling time series...\n",
      "Computing features for RCC_resampled_no_weights...\n",
      "Computing features for R_no_resample_no_weights...\n",
      "Computing features for CRSWIR_no_resample_no_weights...\n",
      "Computing features for RCC_no_resample_no_weights...\n",
      "Computing features for R_no_resample_cloud_weights...\n",
      "Computing features for CRSWIR_no_resample_cloud_weights...\n",
      "Computing features for RCC_no_resample_cloud_weights...\n",
      "Computing features for R_no_resample_cloud_disturbance_weights...\n",
      "Computing features for CRSWIR_no_resample_cloud_disturbance_weights...\n",
      "Computing features for RCC_no_resample_cloud_disturbance_weights...\n"
     ]
    },
    {
     "name": "stderr",
     "output_type": "stream",
     "text": [
      " 74%|███████▍  | 59/80 [2:15:39<40:51, 116.75s/it]"
     ]
    },
    {
     "name": "stdout",
     "output_type": "stream",
     "text": [
      "Processing tile_79_20200102_20241230_Garrigues_validation...\n"
     ]
    },
    {
     "name": "stderr",
     "output_type": "stream",
     "text": [
      "/var/folders/1c/h8t9_vd53gsgz_wm9kswm8wm0000gp/T/ipykernel_8570/617591763.py:74: UserWarning: Possible precision loss converting image of type float64 to uint8 as required by rank filters. Convert manually using skimage.util.img_as_ubyte to silence this warning.\n",
      "  frame_ = postprocess_cloud_mask(frame_, 5, 25)\n",
      "100%|██████████| 50/50 [00:07<00:00,  7.08it/s]\n",
      "100%|██████████| 50/50 [00:00<00:00, 86.38it/s]\n"
     ]
    },
    {
     "name": "stdout",
     "output_type": "stream",
     "text": [
      "Resampling time series...\n",
      "Resampling time series...\n",
      "Computing features for R_resampled_no_weights...\n",
      "Resampling time series...\n",
      "Resampling time series...\n",
      "Computing features for CRSWIR_resampled_no_weights...\n",
      "Resampling time series...\n",
      "Resampling time series...\n",
      "Computing features for RCC_resampled_no_weights...\n",
      "Computing features for R_no_resample_no_weights...\n",
      "Computing features for CRSWIR_no_resample_no_weights...\n",
      "Computing features for RCC_no_resample_no_weights...\n",
      "Computing features for R_no_resample_cloud_weights...\n",
      "Computing features for CRSWIR_no_resample_cloud_weights...\n",
      "Computing features for RCC_no_resample_cloud_weights...\n",
      "Computing features for R_no_resample_cloud_disturbance_weights...\n",
      "Computing features for CRSWIR_no_resample_cloud_disturbance_weights...\n",
      "Computing features for RCC_no_resample_cloud_disturbance_weights...\n"
     ]
    },
    {
     "name": "stderr",
     "output_type": "stream",
     "text": [
      " 75%|███████▌  | 60/80 [2:17:57<41:06, 123.31s/it]"
     ]
    },
    {
     "name": "stdout",
     "output_type": "stream",
     "text": [
      "Processing tile_57_20200102_20241230_Préalpes_du_Nord_training...\n"
     ]
    },
    {
     "name": "stderr",
     "output_type": "stream",
     "text": [
      "/var/folders/1c/h8t9_vd53gsgz_wm9kswm8wm0000gp/T/ipykernel_8570/617591763.py:74: UserWarning: Possible precision loss converting image of type float64 to uint8 as required by rank filters. Convert manually using skimage.util.img_as_ubyte to silence this warning.\n",
      "  frame_ = postprocess_cloud_mask(frame_, 5, 25)\n",
      "100%|██████████| 38/38 [00:05<00:00,  6.60it/s]\n",
      "100%|██████████| 38/38 [00:00<00:00, 67.20it/s]\n"
     ]
    },
    {
     "name": "stdout",
     "output_type": "stream",
     "text": [
      "Resampling time series...\n",
      "Resampling time series...\n",
      "Computing features for R_resampled_no_weights...\n",
      "Resampling time series...\n",
      "Resampling time series...\n",
      "Computing features for CRSWIR_resampled_no_weights...\n",
      "Resampling time series...\n",
      "Resampling time series...\n",
      "Computing features for RCC_resampled_no_weights...\n",
      "Computing features for R_no_resample_no_weights...\n",
      "Computing features for CRSWIR_no_resample_no_weights...\n",
      "Computing features for RCC_no_resample_no_weights...\n",
      "Computing features for R_no_resample_cloud_weights...\n",
      "Computing features for CRSWIR_no_resample_cloud_weights...\n",
      "Computing features for RCC_no_resample_cloud_weights...\n",
      "Computing features for R_no_resample_cloud_disturbance_weights...\n",
      "Computing features for CRSWIR_no_resample_cloud_disturbance_weights...\n",
      "Computing features for RCC_no_resample_cloud_disturbance_weights...\n"
     ]
    },
    {
     "name": "stderr",
     "output_type": "stream",
     "text": [
      " 76%|███████▋  | 61/80 [2:20:31<41:57, 132.50s/it]"
     ]
    },
    {
     "name": "stdout",
     "output_type": "stream",
     "text": [
      "Processing tile_31_20200102_20241230_Massif_vosgien_central_validation...\n"
     ]
    },
    {
     "name": "stderr",
     "output_type": "stream",
     "text": [
      "/var/folders/1c/h8t9_vd53gsgz_wm9kswm8wm0000gp/T/ipykernel_8570/617591763.py:74: UserWarning: Possible precision loss converting image of type float64 to uint8 as required by rank filters. Convert manually using skimage.util.img_as_ubyte to silence this warning.\n",
      "  frame_ = postprocess_cloud_mask(frame_, 5, 25)\n",
      "100%|██████████| 43/43 [00:06<00:00,  6.53it/s]\n",
      "100%|██████████| 43/43 [00:00<00:00, 77.10it/s]\n"
     ]
    },
    {
     "name": "stdout",
     "output_type": "stream",
     "text": [
      "Resampling time series...\n",
      "Resampling time series...\n",
      "Computing features for R_resampled_no_weights...\n",
      "Resampling time series...\n",
      "Resampling time series...\n",
      "Computing features for CRSWIR_resampled_no_weights...\n",
      "Resampling time series...\n",
      "Resampling time series...\n",
      "Computing features for RCC_resampled_no_weights...\n",
      "Computing features for R_no_resample_no_weights...\n",
      "Computing features for CRSWIR_no_resample_no_weights...\n",
      "Computing features for RCC_no_resample_no_weights...\n",
      "Computing features for R_no_resample_cloud_weights...\n",
      "Computing features for CRSWIR_no_resample_cloud_weights...\n",
      "Computing features for RCC_no_resample_cloud_weights...\n",
      "Computing features for R_no_resample_cloud_disturbance_weights...\n",
      "Computing features for CRSWIR_no_resample_cloud_disturbance_weights...\n",
      "Computing features for RCC_no_resample_cloud_disturbance_weights...\n"
     ]
    },
    {
     "name": "stderr",
     "output_type": "stream",
     "text": [
      " 78%|███████▊  | 62/80 [2:22:52<40:29, 134.96s/it]"
     ]
    },
    {
     "name": "stdout",
     "output_type": "stream",
     "text": [
      "Processing tile_8_20200102_20241230_Côtes_et_plateaux_de_la_Manche_training...\n"
     ]
    },
    {
     "name": "stderr",
     "output_type": "stream",
     "text": [
      "/var/folders/1c/h8t9_vd53gsgz_wm9kswm8wm0000gp/T/ipykernel_8570/617591763.py:74: UserWarning: Possible precision loss converting image of type float64 to uint8 as required by rank filters. Convert manually using skimage.util.img_as_ubyte to silence this warning.\n",
      "  frame_ = postprocess_cloud_mask(frame_, 5, 25)\n",
      "100%|██████████| 39/39 [00:05<00:00,  7.29it/s]\n",
      "100%|██████████| 39/39 [00:00<00:00, 74.43it/s]\n"
     ]
    },
    {
     "name": "stdout",
     "output_type": "stream",
     "text": [
      "Resampling time series...\n",
      "Resampling time series...\n",
      "Computing features for R_resampled_no_weights...\n",
      "Resampling time series...\n",
      "Resampling time series...\n",
      "Computing features for CRSWIR_resampled_no_weights...\n",
      "Resampling time series...\n",
      "Resampling time series...\n",
      "Computing features for RCC_resampled_no_weights...\n",
      "Computing features for R_no_resample_no_weights...\n",
      "Computing features for CRSWIR_no_resample_no_weights...\n",
      "Computing features for RCC_no_resample_no_weights...\n",
      "Computing features for R_no_resample_cloud_weights...\n",
      "Computing features for CRSWIR_no_resample_cloud_weights...\n",
      "Computing features for RCC_no_resample_cloud_weights...\n",
      "Computing features for R_no_resample_cloud_disturbance_weights...\n",
      "Computing features for CRSWIR_no_resample_cloud_disturbance_weights...\n",
      "Computing features for RCC_no_resample_cloud_disturbance_weights...\n"
     ]
    },
    {
     "name": "stderr",
     "output_type": "stream",
     "text": [
      " 79%|███████▉  | 63/80 [2:25:06<38:08, 134.61s/it]"
     ]
    },
    {
     "name": "stdout",
     "output_type": "stream",
     "text": [
      "Processing tile_17_20200102_20241230_Ardenne_primaire_training...\n"
     ]
    },
    {
     "name": "stderr",
     "output_type": "stream",
     "text": [
      "/var/folders/1c/h8t9_vd53gsgz_wm9kswm8wm0000gp/T/ipykernel_8570/617591763.py:74: UserWarning: Possible precision loss converting image of type float64 to uint8 as required by rank filters. Convert manually using skimage.util.img_as_ubyte to silence this warning.\n",
      "  frame_ = postprocess_cloud_mask(frame_, 5, 25)\n",
      "100%|██████████| 38/38 [00:06<00:00,  6.13it/s]\n",
      "100%|██████████| 38/38 [00:00<00:00, 77.72it/s]\n"
     ]
    },
    {
     "name": "stdout",
     "output_type": "stream",
     "text": [
      "Resampling time series...\n",
      "Resampling time series...\n",
      "Computing features for R_resampled_no_weights...\n",
      "Resampling time series...\n",
      "Resampling time series...\n",
      "Computing features for CRSWIR_resampled_no_weights...\n",
      "Resampling time series...\n",
      "Resampling time series...\n",
      "Computing features for RCC_resampled_no_weights...\n",
      "Computing features for R_no_resample_no_weights...\n",
      "Computing features for CRSWIR_no_resample_no_weights...\n",
      "Computing features for RCC_no_resample_no_weights...\n",
      "Computing features for R_no_resample_cloud_weights...\n",
      "Computing features for CRSWIR_no_resample_cloud_weights...\n",
      "Computing features for RCC_no_resample_cloud_weights...\n",
      "Computing features for R_no_resample_cloud_disturbance_weights...\n",
      "Computing features for CRSWIR_no_resample_cloud_disturbance_weights...\n",
      "Computing features for RCC_no_resample_cloud_disturbance_weights...\n"
     ]
    },
    {
     "name": "stderr",
     "output_type": "stream",
     "text": [
      " 80%|████████  | 64/80 [2:27:29<36:35, 137.19s/it]"
     ]
    },
    {
     "name": "stdout",
     "output_type": "stream",
     "text": [
      "Processing tile_84_20200102_20241230_Corse_occidentale_validation...\n"
     ]
    },
    {
     "name": "stderr",
     "output_type": "stream",
     "text": [
      "/var/folders/1c/h8t9_vd53gsgz_wm9kswm8wm0000gp/T/ipykernel_8570/617591763.py:74: UserWarning: Possible precision loss converting image of type float64 to uint8 as required by rank filters. Convert manually using skimage.util.img_as_ubyte to silence this warning.\n",
      "  frame_ = postprocess_cloud_mask(frame_, 5, 25)\n",
      "100%|██████████| 43/43 [00:06<00:00,  6.60it/s]\n",
      "100%|██████████| 43/43 [00:00<00:00, 84.02it/s]\n"
     ]
    },
    {
     "name": "stdout",
     "output_type": "stream",
     "text": [
      "Resampling time series...\n",
      "Resampling time series...\n",
      "Computing features for R_resampled_no_weights...\n",
      "Resampling time series...\n",
      "Resampling time series...\n",
      "Computing features for CRSWIR_resampled_no_weights...\n",
      "Resampling time series...\n",
      "Resampling time series...\n",
      "Computing features for RCC_resampled_no_weights...\n",
      "Computing features for R_no_resample_no_weights...\n",
      "Computing features for CRSWIR_no_resample_no_weights...\n",
      "Computing features for RCC_no_resample_no_weights...\n",
      "Computing features for R_no_resample_cloud_weights...\n",
      "Computing features for CRSWIR_no_resample_cloud_weights...\n",
      "Computing features for RCC_no_resample_cloud_weights...\n",
      "Computing features for R_no_resample_cloud_disturbance_weights...\n",
      "Computing features for CRSWIR_no_resample_cloud_disturbance_weights...\n",
      "Computing features for RCC_no_resample_cloud_disturbance_weights...\n"
     ]
    },
    {
     "name": "stderr",
     "output_type": "stream",
     "text": [
      " 81%|████████▏ | 65/80 [2:29:52<34:42, 138.87s/it]"
     ]
    },
    {
     "name": "stdout",
     "output_type": "stream",
     "text": [
      "Processing tile_47_20200102_20241230_Terres_rouges_validation...\n"
     ]
    },
    {
     "name": "stderr",
     "output_type": "stream",
     "text": [
      "/var/folders/1c/h8t9_vd53gsgz_wm9kswm8wm0000gp/T/ipykernel_8570/617591763.py:74: UserWarning: Possible precision loss converting image of type float64 to uint8 as required by rank filters. Convert manually using skimage.util.img_as_ubyte to silence this warning.\n",
      "  frame_ = postprocess_cloud_mask(frame_, 5, 25)\n",
      "100%|██████████| 42/42 [00:05<00:00,  7.14it/s]\n",
      "100%|██████████| 42/42 [00:00<00:00, 89.63it/s]\n"
     ]
    },
    {
     "name": "stdout",
     "output_type": "stream",
     "text": [
      "Resampling time series...\n",
      "Resampling time series...\n",
      "Computing features for R_resampled_no_weights...\n",
      "Resampling time series...\n",
      "Resampling time series...\n",
      "Computing features for CRSWIR_resampled_no_weights...\n",
      "Resampling time series...\n",
      "Resampling time series...\n",
      "Computing features for RCC_resampled_no_weights...\n",
      "Computing features for R_no_resample_no_weights...\n",
      "Computing features for CRSWIR_no_resample_no_weights...\n",
      "Computing features for RCC_no_resample_no_weights...\n",
      "Computing features for R_no_resample_cloud_weights...\n",
      "Computing features for CRSWIR_no_resample_cloud_weights...\n",
      "Computing features for RCC_no_resample_cloud_weights...\n",
      "Computing features for R_no_resample_cloud_disturbance_weights...\n",
      "Computing features for CRSWIR_no_resample_cloud_disturbance_weights...\n",
      "Computing features for RCC_no_resample_cloud_disturbance_weights...\n"
     ]
    },
    {
     "name": "stderr",
     "output_type": "stream",
     "text": [
      " 82%|████████▎ | 66/80 [2:32:10<32:21, 138.65s/it]"
     ]
    },
    {
     "name": "stdout",
     "output_type": "stream",
     "text": [
      "Processing tile_30_20200102_20241230_Massif_vosgien_central_validation...\n"
     ]
    },
    {
     "name": "stderr",
     "output_type": "stream",
     "text": [
      "/var/folders/1c/h8t9_vd53gsgz_wm9kswm8wm0000gp/T/ipykernel_8570/617591763.py:74: UserWarning: Possible precision loss converting image of type float64 to uint8 as required by rank filters. Convert manually using skimage.util.img_as_ubyte to silence this warning.\n",
      "  frame_ = postprocess_cloud_mask(frame_, 5, 25)\n",
      "100%|██████████| 35/35 [00:05<00:00,  6.08it/s]\n",
      "100%|██████████| 35/35 [00:00<00:00, 80.35it/s]\n"
     ]
    },
    {
     "name": "stdout",
     "output_type": "stream",
     "text": [
      "Resampling time series...\n",
      "Resampling time series...\n",
      "Computing features for R_resampled_no_weights...\n",
      "Resampling time series...\n",
      "Resampling time series...\n",
      "Computing features for CRSWIR_resampled_no_weights...\n",
      "Resampling time series...\n",
      "Resampling time series...\n",
      "Computing features for RCC_resampled_no_weights...\n",
      "Computing features for R_no_resample_no_weights...\n",
      "Computing features for CRSWIR_no_resample_no_weights...\n",
      "Computing features for RCC_no_resample_no_weights...\n",
      "Computing features for R_no_resample_cloud_weights...\n",
      "Computing features for CRSWIR_no_resample_cloud_weights...\n",
      "Computing features for RCC_no_resample_cloud_weights...\n",
      "Computing features for R_no_resample_cloud_disturbance_weights...\n",
      "Computing features for CRSWIR_no_resample_cloud_disturbance_weights...\n",
      "Computing features for RCC_no_resample_cloud_disturbance_weights...\n"
     ]
    },
    {
     "name": "stderr",
     "output_type": "stream",
     "text": [
      " 84%|████████▍ | 67/80 [2:34:43<30:58, 143.00s/it]"
     ]
    },
    {
     "name": "stdout",
     "output_type": "stream",
     "text": [
      "Processing tile_20_20200102_20241230_Ardenne_primaire_validation...\n"
     ]
    },
    {
     "name": "stderr",
     "output_type": "stream",
     "text": [
      "/var/folders/1c/h8t9_vd53gsgz_wm9kswm8wm0000gp/T/ipykernel_8570/617591763.py:74: UserWarning: Possible precision loss converting image of type float64 to uint8 as required by rank filters. Convert manually using skimage.util.img_as_ubyte to silence this warning.\n",
      "  frame_ = postprocess_cloud_mask(frame_, 5, 25)\n",
      "100%|██████████| 44/44 [00:06<00:00,  6.78it/s]\n",
      "100%|██████████| 44/44 [00:00<00:00, 84.79it/s]\n"
     ]
    },
    {
     "name": "stdout",
     "output_type": "stream",
     "text": [
      "Resampling time series...\n",
      "Resampling time series...\n",
      "Computing features for R_resampled_no_weights...\n",
      "Resampling time series...\n",
      "Resampling time series...\n",
      "Computing features for CRSWIR_resampled_no_weights...\n",
      "Resampling time series...\n",
      "Resampling time series...\n",
      "Computing features for RCC_resampled_no_weights...\n",
      "Computing features for R_no_resample_no_weights...\n",
      "Computing features for CRSWIR_no_resample_no_weights...\n",
      "Computing features for RCC_no_resample_no_weights...\n",
      "Computing features for R_no_resample_cloud_weights...\n",
      "Computing features for CRSWIR_no_resample_cloud_weights...\n",
      "Computing features for RCC_no_resample_cloud_weights...\n",
      "Computing features for R_no_resample_cloud_disturbance_weights...\n",
      "Computing features for CRSWIR_no_resample_cloud_disturbance_weights...\n",
      "Computing features for RCC_no_resample_cloud_disturbance_weights...\n"
     ]
    },
    {
     "name": "stderr",
     "output_type": "stream",
     "text": [
      " 85%|████████▌ | 68/80 [2:37:11<28:54, 144.55s/it]"
     ]
    },
    {
     "name": "stdout",
     "output_type": "stream",
     "text": [
      "Processing tile_42_20200102_20241230_Terres_rouges_training...\n"
     ]
    },
    {
     "name": "stderr",
     "output_type": "stream",
     "text": [
      "/var/folders/1c/h8t9_vd53gsgz_wm9kswm8wm0000gp/T/ipykernel_8570/617591763.py:74: UserWarning: Possible precision loss converting image of type float64 to uint8 as required by rank filters. Convert manually using skimage.util.img_as_ubyte to silence this warning.\n",
      "  frame_ = postprocess_cloud_mask(frame_, 5, 25)\n",
      "100%|██████████| 74/74 [00:09<00:00,  7.47it/s]\n",
      "100%|██████████| 74/74 [00:00<00:00, 91.55it/s] \n"
     ]
    },
    {
     "name": "stdout",
     "output_type": "stream",
     "text": [
      "Resampling time series...\n",
      "Resampling time series...\n",
      "Computing features for R_resampled_no_weights...\n",
      "Resampling time series...\n",
      "Resampling time series...\n",
      "Computing features for CRSWIR_resampled_no_weights...\n",
      "Resampling time series...\n",
      "Resampling time series...\n",
      "Computing features for RCC_resampled_no_weights...\n",
      "Computing features for R_no_resample_no_weights...\n",
      "Computing features for CRSWIR_no_resample_no_weights...\n",
      "Computing features for RCC_no_resample_no_weights...\n",
      "Computing features for R_no_resample_cloud_weights...\n",
      "Computing features for CRSWIR_no_resample_cloud_weights...\n",
      "Computing features for RCC_no_resample_cloud_weights...\n",
      "Computing features for R_no_resample_cloud_disturbance_weights...\n",
      "Computing features for CRSWIR_no_resample_cloud_disturbance_weights...\n",
      "Computing features for RCC_no_resample_cloud_disturbance_weights...\n"
     ]
    },
    {
     "name": "stderr",
     "output_type": "stream",
     "text": [
      " 86%|████████▋ | 69/80 [2:39:20<25:38, 139.89s/it]"
     ]
    },
    {
     "name": "stdout",
     "output_type": "stream",
     "text": [
      "Processing tile_67_20180101_20221231_Piémont_pyrénéen_training...\n"
     ]
    },
    {
     "name": "stderr",
     "output_type": "stream",
     "text": [
      "/var/folders/1c/h8t9_vd53gsgz_wm9kswm8wm0000gp/T/ipykernel_8570/617591763.py:74: UserWarning: Possible precision loss converting image of type float64 to uint8 as required by rank filters. Convert manually using skimage.util.img_as_ubyte to silence this warning.\n",
      "  frame_ = postprocess_cloud_mask(frame_, 5, 25)\n",
      "100%|██████████| 51/51 [00:06<00:00,  7.64it/s]\n",
      "100%|██████████| 51/51 [00:00<00:00, 94.08it/s]\n"
     ]
    },
    {
     "name": "stdout",
     "output_type": "stream",
     "text": [
      "Resampling time series...\n",
      "Resampling time series...\n",
      "Computing features for R_resampled_no_weights...\n",
      "Resampling time series...\n",
      "Resampling time series...\n",
      "Computing features for CRSWIR_resampled_no_weights...\n",
      "Resampling time series...\n",
      "Resampling time series...\n",
      "Computing features for RCC_resampled_no_weights...\n",
      "Computing features for R_no_resample_no_weights...\n",
      "Computing features for CRSWIR_no_resample_no_weights...\n",
      "Computing features for RCC_no_resample_no_weights...\n",
      "Computing features for R_no_resample_cloud_weights...\n",
      "Computing features for CRSWIR_no_resample_cloud_weights...\n",
      "Computing features for RCC_no_resample_cloud_weights...\n",
      "Computing features for R_no_resample_cloud_disturbance_weights...\n",
      "Computing features for CRSWIR_no_resample_cloud_disturbance_weights...\n",
      "Computing features for RCC_no_resample_cloud_disturbance_weights...\n"
     ]
    },
    {
     "name": "stderr",
     "output_type": "stream",
     "text": [
      " 88%|████████▊ | 70/80 [2:41:41<23:20, 140.07s/it]"
     ]
    },
    {
     "name": "stdout",
     "output_type": "stream",
     "text": [
      "Processing tile_55_20200102_20241230_Châtaigneraie_du_Centre_et_de_l'Ouest_validation...\n"
     ]
    },
    {
     "name": "stderr",
     "output_type": "stream",
     "text": [
      "/var/folders/1c/h8t9_vd53gsgz_wm9kswm8wm0000gp/T/ipykernel_8570/617591763.py:74: UserWarning: Possible precision loss converting image of type float64 to uint8 as required by rank filters. Convert manually using skimage.util.img_as_ubyte to silence this warning.\n",
      "  frame_ = postprocess_cloud_mask(frame_, 5, 25)\n",
      "100%|██████████| 43/43 [00:06<00:00,  7.14it/s]\n",
      "100%|██████████| 43/43 [00:00<00:00, 69.35it/s]\n"
     ]
    },
    {
     "name": "stdout",
     "output_type": "stream",
     "text": [
      "Resampling time series...\n",
      "Resampling time series...\n",
      "Computing features for R_resampled_no_weights...\n",
      "Resampling time series...\n",
      "Resampling time series...\n",
      "Computing features for CRSWIR_resampled_no_weights...\n",
      "Resampling time series...\n",
      "Resampling time series...\n",
      "Computing features for RCC_resampled_no_weights...\n",
      "Computing features for R_no_resample_no_weights...\n",
      "Computing features for CRSWIR_no_resample_no_weights...\n",
      "Computing features for RCC_no_resample_no_weights...\n",
      "Computing features for R_no_resample_cloud_weights...\n",
      "Computing features for CRSWIR_no_resample_cloud_weights...\n",
      "Computing features for RCC_no_resample_cloud_weights...\n",
      "Computing features for R_no_resample_cloud_disturbance_weights...\n",
      "Computing features for CRSWIR_no_resample_cloud_disturbance_weights...\n",
      "Computing features for RCC_no_resample_cloud_disturbance_weights...\n"
     ]
    },
    {
     "name": "stderr",
     "output_type": "stream",
     "text": [
      " 89%|████████▉ | 71/80 [2:43:46<20:21, 135.74s/it]"
     ]
    },
    {
     "name": "stdout",
     "output_type": "stream",
     "text": [
      "Processing tile_45_20200102_20241230_Terres_rouges_validation...\n"
     ]
    },
    {
     "name": "stderr",
     "output_type": "stream",
     "text": [
      "/var/folders/1c/h8t9_vd53gsgz_wm9kswm8wm0000gp/T/ipykernel_8570/617591763.py:74: UserWarning: Possible precision loss converting image of type float64 to uint8 as required by rank filters. Convert manually using skimage.util.img_as_ubyte to silence this warning.\n",
      "  frame_ = postprocess_cloud_mask(frame_, 5, 25)\n",
      "100%|██████████| 43/43 [00:05<00:00,  7.48it/s]\n",
      "100%|██████████| 43/43 [00:00<00:00, 89.92it/s]\n"
     ]
    },
    {
     "name": "stdout",
     "output_type": "stream",
     "text": [
      "Resampling time series...\n",
      "Resampling time series...\n",
      "Computing features for R_resampled_no_weights...\n",
      "Resampling time series...\n",
      "Resampling time series...\n",
      "Computing features for CRSWIR_resampled_no_weights...\n",
      "Resampling time series...\n",
      "Resampling time series...\n",
      "Computing features for RCC_resampled_no_weights...\n",
      "Computing features for R_no_resample_no_weights...\n",
      "Computing features for CRSWIR_no_resample_no_weights...\n",
      "Computing features for RCC_no_resample_no_weights...\n",
      "Computing features for R_no_resample_cloud_weights...\n",
      "Computing features for CRSWIR_no_resample_cloud_weights...\n",
      "Computing features for RCC_no_resample_cloud_weights...\n",
      "Computing features for R_no_resample_cloud_disturbance_weights...\n",
      "Computing features for CRSWIR_no_resample_cloud_disturbance_weights...\n",
      "Computing features for RCC_no_resample_cloud_disturbance_weights...\n"
     ]
    },
    {
     "name": "stderr",
     "output_type": "stream",
     "text": [
      " 90%|█████████ | 72/80 [2:45:59<17:59, 134.88s/it]"
     ]
    },
    {
     "name": "stdout",
     "output_type": "stream",
     "text": [
      "Processing tile_50_20200102_20241230_Châtaigneraie_du_Centre_et_de_l'Ouest_training...\n"
     ]
    },
    {
     "name": "stderr",
     "output_type": "stream",
     "text": [
      "/var/folders/1c/h8t9_vd53gsgz_wm9kswm8wm0000gp/T/ipykernel_8570/617591763.py:74: UserWarning: Possible precision loss converting image of type float64 to uint8 as required by rank filters. Convert manually using skimage.util.img_as_ubyte to silence this warning.\n",
      "  frame_ = postprocess_cloud_mask(frame_, 5, 25)\n",
      "100%|██████████| 42/42 [00:05<00:00,  7.53it/s]\n",
      "100%|██████████| 42/42 [00:00<00:00, 113.67it/s]\n"
     ]
    },
    {
     "name": "stdout",
     "output_type": "stream",
     "text": [
      "Resampling time series...\n",
      "Resampling time series...\n",
      "Computing features for R_resampled_no_weights...\n",
      "Resampling time series...\n",
      "Resampling time series...\n",
      "Computing features for CRSWIR_resampled_no_weights...\n",
      "Resampling time series...\n",
      "Resampling time series...\n",
      "Computing features for RCC_resampled_no_weights...\n",
      "Computing features for R_no_resample_no_weights...\n",
      "Computing features for CRSWIR_no_resample_no_weights...\n",
      "Computing features for RCC_no_resample_no_weights...\n",
      "Computing features for R_no_resample_cloud_weights...\n",
      "Computing features for CRSWIR_no_resample_cloud_weights...\n",
      "Computing features for RCC_no_resample_cloud_weights...\n",
      "Computing features for R_no_resample_cloud_disturbance_weights...\n",
      "Computing features for CRSWIR_no_resample_cloud_disturbance_weights...\n",
      "Computing features for RCC_no_resample_cloud_disturbance_weights...\n"
     ]
    },
    {
     "name": "stderr",
     "output_type": "stream",
     "text": [
      " 91%|█████████▏| 73/80 [2:48:08<15:30, 132.92s/it]"
     ]
    },
    {
     "name": "stdout",
     "output_type": "stream",
     "text": [
      "Processing tile_73_20200102_20241230_Garrigues_training...\n"
     ]
    },
    {
     "name": "stderr",
     "output_type": "stream",
     "text": [
      "/var/folders/1c/h8t9_vd53gsgz_wm9kswm8wm0000gp/T/ipykernel_8570/617591763.py:74: UserWarning: Possible precision loss converting image of type float64 to uint8 as required by rank filters. Convert manually using skimage.util.img_as_ubyte to silence this warning.\n",
      "  frame_ = postprocess_cloud_mask(frame_, 5, 25)\n",
      "100%|██████████| 47/47 [00:06<00:00,  7.11it/s]\n",
      "100%|██████████| 47/47 [00:00<00:00, 84.48it/s]\n"
     ]
    },
    {
     "name": "stdout",
     "output_type": "stream",
     "text": [
      "Resampling time series...\n",
      "Resampling time series...\n",
      "Computing features for R_resampled_no_weights...\n",
      "Resampling time series...\n",
      "Resampling time series...\n",
      "Computing features for CRSWIR_resampled_no_weights...\n",
      "Resampling time series...\n",
      "Resampling time series...\n",
      "Computing features for RCC_resampled_no_weights...\n",
      "Computing features for R_no_resample_no_weights...\n",
      "Computing features for CRSWIR_no_resample_no_weights...\n",
      "Computing features for RCC_no_resample_no_weights...\n",
      "Computing features for R_no_resample_cloud_weights...\n",
      "Computing features for CRSWIR_no_resample_cloud_weights...\n",
      "Computing features for RCC_no_resample_cloud_weights...\n",
      "Computing features for R_no_resample_cloud_disturbance_weights...\n",
      "Computing features for CRSWIR_no_resample_cloud_disturbance_weights...\n",
      "Computing features for RCC_no_resample_cloud_disturbance_weights...\n"
     ]
    },
    {
     "name": "stderr",
     "output_type": "stream",
     "text": [
      " 92%|█████████▎| 74/80 [2:50:32<13:38, 136.45s/it]"
     ]
    },
    {
     "name": "stdout",
     "output_type": "stream",
     "text": [
      "Processing tile_80_20200102_20241230_Corse_occidentale_training...\n"
     ]
    },
    {
     "name": "stderr",
     "output_type": "stream",
     "text": [
      "/var/folders/1c/h8t9_vd53gsgz_wm9kswm8wm0000gp/T/ipykernel_8570/617591763.py:74: UserWarning: Possible precision loss converting image of type float64 to uint8 as required by rank filters. Convert manually using skimage.util.img_as_ubyte to silence this warning.\n",
      "  frame_ = postprocess_cloud_mask(frame_, 5, 25)\n",
      "100%|██████████| 48/48 [00:06<00:00,  6.91it/s]\n",
      "100%|██████████| 48/48 [00:00<00:00, 94.06it/s]\n"
     ]
    },
    {
     "name": "stdout",
     "output_type": "stream",
     "text": [
      "Resampling time series...\n",
      "Resampling time series...\n",
      "Computing features for R_resampled_no_weights...\n",
      "Resampling time series...\n",
      "Resampling time series...\n",
      "Computing features for CRSWIR_resampled_no_weights...\n",
      "Resampling time series...\n",
      "Resampling time series...\n",
      "Computing features for RCC_resampled_no_weights...\n",
      "Computing features for R_no_resample_no_weights...\n",
      "Computing features for CRSWIR_no_resample_no_weights...\n",
      "Computing features for RCC_no_resample_no_weights...\n",
      "Computing features for R_no_resample_cloud_weights...\n",
      "Computing features for CRSWIR_no_resample_cloud_weights...\n",
      "Computing features for RCC_no_resample_cloud_weights...\n",
      "Computing features for R_no_resample_cloud_disturbance_weights...\n",
      "Computing features for CRSWIR_no_resample_cloud_disturbance_weights...\n",
      "Computing features for RCC_no_resample_cloud_disturbance_weights...\n"
     ]
    },
    {
     "name": "stderr",
     "output_type": "stream",
     "text": [
      " 94%|█████████▍| 75/80 [2:53:02<11:42, 140.59s/it]"
     ]
    },
    {
     "name": "stdout",
     "output_type": "stream",
     "text": [
      "Processing tile_74_20200102_20241230_Garrigues_training...\n"
     ]
    },
    {
     "name": "stderr",
     "output_type": "stream",
     "text": [
      "/var/folders/1c/h8t9_vd53gsgz_wm9kswm8wm0000gp/T/ipykernel_8570/617591763.py:74: UserWarning: Possible precision loss converting image of type float64 to uint8 as required by rank filters. Convert manually using skimage.util.img_as_ubyte to silence this warning.\n",
      "  frame_ = postprocess_cloud_mask(frame_, 5, 25)\n",
      "100%|██████████| 46/46 [00:06<00:00,  7.05it/s]\n",
      "100%|██████████| 46/46 [00:00<00:00, 94.77it/s]\n"
     ]
    },
    {
     "name": "stdout",
     "output_type": "stream",
     "text": [
      "Resampling time series...\n",
      "Resampling time series...\n",
      "Computing features for R_resampled_no_weights...\n",
      "Resampling time series...\n",
      "Resampling time series...\n",
      "Computing features for CRSWIR_resampled_no_weights...\n",
      "Resampling time series...\n",
      "Resampling time series...\n",
      "Computing features for RCC_resampled_no_weights...\n",
      "Computing features for R_no_resample_no_weights...\n",
      "Computing features for CRSWIR_no_resample_no_weights...\n",
      "Computing features for RCC_no_resample_no_weights...\n",
      "Computing features for R_no_resample_cloud_weights...\n",
      "Computing features for CRSWIR_no_resample_cloud_weights...\n",
      "Computing features for RCC_no_resample_cloud_weights...\n",
      "Computing features for R_no_resample_cloud_disturbance_weights...\n",
      "Computing features for CRSWIR_no_resample_cloud_disturbance_weights...\n",
      "Computing features for RCC_no_resample_cloud_disturbance_weights...\n"
     ]
    },
    {
     "name": "stderr",
     "output_type": "stream",
     "text": [
      " 95%|█████████▌| 76/80 [2:55:18<09:15, 138.97s/it]"
     ]
    },
    {
     "name": "stdout",
     "output_type": "stream",
     "text": [
      "Processing tile_15_20200102_20241230_Côtes_et_plateaux_de_la_Manche_validation...\n"
     ]
    },
    {
     "name": "stderr",
     "output_type": "stream",
     "text": [
      "/var/folders/1c/h8t9_vd53gsgz_wm9kswm8wm0000gp/T/ipykernel_8570/617591763.py:74: UserWarning: Possible precision loss converting image of type float64 to uint8 as required by rank filters. Convert manually using skimage.util.img_as_ubyte to silence this warning.\n",
      "  frame_ = postprocess_cloud_mask(frame_, 5, 25)\n",
      "100%|██████████| 36/36 [00:04<00:00,  7.49it/s]\n",
      "100%|██████████| 36/36 [00:00<00:00, 104.37it/s]\n"
     ]
    },
    {
     "name": "stdout",
     "output_type": "stream",
     "text": [
      "Resampling time series...\n",
      "Resampling time series...\n",
      "Computing features for R_resampled_no_weights...\n",
      "Resampling time series...\n",
      "Resampling time series...\n",
      "Computing features for CRSWIR_resampled_no_weights...\n",
      "Resampling time series...\n",
      "Resampling time series...\n",
      "Computing features for RCC_resampled_no_weights...\n",
      "Computing features for R_no_resample_no_weights...\n",
      "Computing features for CRSWIR_no_resample_no_weights...\n",
      "Computing features for RCC_no_resample_no_weights...\n",
      "Computing features for R_no_resample_cloud_weights...\n",
      "Computing features for CRSWIR_no_resample_cloud_weights...\n",
      "Computing features for RCC_no_resample_cloud_weights...\n",
      "Computing features for R_no_resample_cloud_disturbance_weights...\n",
      "Computing features for CRSWIR_no_resample_cloud_disturbance_weights...\n",
      "Computing features for RCC_no_resample_cloud_disturbance_weights...\n"
     ]
    },
    {
     "name": "stderr",
     "output_type": "stream",
     "text": [
      " 96%|█████████▋| 77/80 [2:57:14<06:36, 132.22s/it]"
     ]
    },
    {
     "name": "stdout",
     "output_type": "stream",
     "text": [
      "Processing tile_18_20200102_20241230_Ardenne_primaire_training...\n"
     ]
    },
    {
     "name": "stderr",
     "output_type": "stream",
     "text": [
      "/var/folders/1c/h8t9_vd53gsgz_wm9kswm8wm0000gp/T/ipykernel_8570/617591763.py:74: UserWarning: Possible precision loss converting image of type float64 to uint8 as required by rank filters. Convert manually using skimage.util.img_as_ubyte to silence this warning.\n",
      "  frame_ = postprocess_cloud_mask(frame_, 5, 25)\n",
      "100%|██████████| 39/39 [00:05<00:00,  7.20it/s]\n",
      "100%|██████████| 39/39 [00:00<00:00, 93.78it/s]\n"
     ]
    },
    {
     "name": "stdout",
     "output_type": "stream",
     "text": [
      "Resampling time series...\n",
      "Resampling time series...\n",
      "Computing features for R_resampled_no_weights...\n",
      "Resampling time series...\n",
      "Resampling time series...\n",
      "Computing features for CRSWIR_resampled_no_weights...\n",
      "Resampling time series...\n",
      "Resampling time series...\n",
      "Computing features for RCC_resampled_no_weights...\n",
      "Computing features for R_no_resample_no_weights...\n",
      "Computing features for CRSWIR_no_resample_no_weights...\n",
      "Computing features for RCC_no_resample_no_weights...\n",
      "Computing features for R_no_resample_cloud_weights...\n",
      "Computing features for CRSWIR_no_resample_cloud_weights...\n",
      "Computing features for RCC_no_resample_cloud_weights...\n",
      "Computing features for R_no_resample_cloud_disturbance_weights...\n",
      "Computing features for CRSWIR_no_resample_cloud_disturbance_weights...\n",
      "Computing features for RCC_no_resample_cloud_disturbance_weights...\n"
     ]
    },
    {
     "name": "stderr",
     "output_type": "stream",
     "text": [
      " 98%|█████████▊| 78/80 [2:59:22<04:21, 130.93s/it]"
     ]
    },
    {
     "name": "stdout",
     "output_type": "stream",
     "text": [
      "Processing tile_11_20200102_20241230_Côtes_et_plateaux_de_la_Manche_training...\n"
     ]
    },
    {
     "name": "stderr",
     "output_type": "stream",
     "text": [
      "/var/folders/1c/h8t9_vd53gsgz_wm9kswm8wm0000gp/T/ipykernel_8570/617591763.py:74: UserWarning: Possible precision loss converting image of type float64 to uint8 as required by rank filters. Convert manually using skimage.util.img_as_ubyte to silence this warning.\n",
      "  frame_ = postprocess_cloud_mask(frame_, 5, 25)\n",
      "100%|██████████| 44/44 [00:06<00:00,  7.13it/s]\n",
      "100%|██████████| 44/44 [00:00<00:00, 86.16it/s]\n"
     ]
    },
    {
     "name": "stdout",
     "output_type": "stream",
     "text": [
      "Resampling time series...\n",
      "Resampling time series...\n",
      "Computing features for R_resampled_no_weights...\n",
      "Resampling time series...\n",
      "Resampling time series...\n",
      "Computing features for CRSWIR_resampled_no_weights...\n",
      "Resampling time series...\n",
      "Resampling time series...\n",
      "Computing features for RCC_resampled_no_weights...\n",
      "Computing features for R_no_resample_no_weights...\n",
      "Computing features for CRSWIR_no_resample_no_weights...\n",
      "Computing features for RCC_no_resample_no_weights...\n",
      "Computing features for R_no_resample_cloud_weights...\n",
      "Computing features for CRSWIR_no_resample_cloud_weights...\n",
      "Computing features for RCC_no_resample_cloud_weights...\n",
      "Computing features for R_no_resample_cloud_disturbance_weights...\n",
      "Computing features for CRSWIR_no_resample_cloud_disturbance_weights...\n",
      "Computing features for RCC_no_resample_cloud_disturbance_weights...\n"
     ]
    },
    {
     "name": "stderr",
     "output_type": "stream",
     "text": [
      " 99%|█████████▉| 79/80 [3:01:31<02:10, 130.44s/it]"
     ]
    },
    {
     "name": "stdout",
     "output_type": "stream",
     "text": [
      "Processing tile_35_20200102_20241230_Premier_plateau_du_Jura_training...\n"
     ]
    },
    {
     "name": "stderr",
     "output_type": "stream",
     "text": [
      "/var/folders/1c/h8t9_vd53gsgz_wm9kswm8wm0000gp/T/ipykernel_8570/617591763.py:74: UserWarning: Possible precision loss converting image of type float64 to uint8 as required by rank filters. Convert manually using skimage.util.img_as_ubyte to silence this warning.\n",
      "  frame_ = postprocess_cloud_mask(frame_, 5, 25)\n",
      "100%|██████████| 17/17 [00:02<00:00,  7.01it/s]\n",
      "100%|██████████| 17/17 [00:00<00:00, 55.66it/s]\n"
     ]
    },
    {
     "name": "stdout",
     "output_type": "stream",
     "text": [
      "Resampling time series...\n",
      "Resampling time series...\n",
      "Computing features for R_resampled_no_weights...\n",
      "Resampling time series...\n",
      "Resampling time series...\n",
      "Computing features for CRSWIR_resampled_no_weights...\n",
      "Resampling time series...\n",
      "Resampling time series...\n",
      "Computing features for RCC_resampled_no_weights...\n",
      "Computing features for R_no_resample_no_weights...\n",
      "Computing features for CRSWIR_no_resample_no_weights...\n",
      "Computing features for RCC_no_resample_no_weights...\n",
      "Computing features for R_no_resample_cloud_weights...\n",
      "Computing features for CRSWIR_no_resample_cloud_weights...\n",
      "Computing features for RCC_no_resample_cloud_weights...\n",
      "Computing features for R_no_resample_cloud_disturbance_weights...\n",
      "Computing features for CRSWIR_no_resample_cloud_disturbance_weights...\n",
      "Computing features for RCC_no_resample_cloud_disturbance_weights...\n"
     ]
    },
    {
     "name": "stderr",
     "output_type": "stream",
     "text": [
      "100%|██████████| 80/80 [3:03:36<00:00, 137.70s/it]"
     ]
    },
    {
     "name": "stdout",
     "output_type": "stream",
     "text": [
      "Errors occurred in the following files: [\"tile_51_20200102_20241230_Châtaigneraie_du_Centre_et_de_l'Ouest_training\", 'tile_61_20200102_20241230_Préalpes_du_Nord_validation']\n"
     ]
    },
    {
     "name": "stderr",
     "output_type": "stream",
     "text": [
      "\n"
     ]
    }
   ],
   "source": [
    "import os\n",
    "from datetime import datetime, timedelta\n",
    "import numpy as np\n",
    "import rasterio\n",
    "from tqdm import tqdm\n",
    "from scipy.interpolate import interp1d\n",
    "from utils import load_folder, fit_periodic_function, get_aspect, postprocess_cloud_mask, calculate_slope_with_dates\n",
    "\n",
    "import numpy as np\n",
    "import pandas as pd\n",
    "from datetime import datetime, timedelta\n",
    "\n",
    "def resample_time_series(data: np.ndarray, dates: list[datetime], resample_step_days: int = 28) -> tuple[np.ndarray, list[datetime]]:\n",
    "    \"\"\"Resample time series to a fixed time step using pandas.\"\"\"\n",
    "    print('Resampling time series...')\n",
    "    start_date = dates[0]\n",
    "    end_date = dates[-1]\n",
    "    new_dates = pd.date_range(start=start_date, end=end_date, freq=f'{resample_step_days}D')\n",
    "    \n",
    "    # Flatten the data for easier handling with pandas\n",
    "    n_samples, height, width = data.shape\n",
    "    flat_data = data.reshape(n_samples, -1)\n",
    "    \n",
    "    # Create a pandas DataFrame for the time series\n",
    "    df = pd.DataFrame(flat_data, index=pd.to_datetime(dates))\n",
    "    \n",
    "    # Resample the DataFrame\n",
    "    df_resampled = df.reindex(pd.to_datetime(new_dates)).interpolate(method='linear', limit_direction='both').values\n",
    "    \n",
    "    # Reshape back to the original dimensions\n",
    "    resampled_data = df_resampled.reshape(len(new_dates), height, width)\n",
    "    \n",
    "    return resampled_data, new_dates\n",
    "\n",
    "# Example usage:\n",
    "# resampled_data, new_dates = resample_time_series(data, dates)\n",
    "\n",
    "\n",
    "def compute_features(folder_path: str, data, mask, dates, suffix: str, profile):\n",
    "    \"\"\"Compute and save amplitude, phase, and offset features.\"\"\"\n",
    "    print(f'Computing features for {suffix}...')\n",
    "    amplitude_map, phase_map, offset_map = fit_periodic_function(data, mask, dates)\n",
    "\n",
    "    profile.update(count=3, dtype=amplitude_map.dtype)\n",
    "    with rasterio.open(os.path.join(folder_path, f'APO_{suffix}.tif'), 'w', **profile) as dst:\n",
    "        dst.write(np.stack([amplitude_map, phase_map, offset_map], axis=0))\n",
    "\n",
    "def process_folder(folder: str, dir_: str, force: bool):\n",
    "    \"\"\"Process a single folder to compute features under different conditions.\"\"\"\n",
    "    path = os.path.join(dir_, folder)\n",
    "    if os.path.isdir(path):\n",
    "        if os.path.exists(os.path.join(path, 'features')) and not force:\n",
    "            return\n",
    "        \n",
    "        try:\n",
    "        # if True:\n",
    "            print(f'Processing {folder}...')\n",
    "            dates = [datetime.strptime(filename.split('_')[0], '%Y-%m-%d') for filename in os.listdir(os.path.join(path, 'rgb'))]\n",
    "            dates.sort()\n",
    "            rgb = load_folder(os.path.join(path, 'rgb'))\n",
    "            crswir = load_folder(os.path.join(path, 'crswir'))\n",
    "            qa = load_folder(os.path.join(path, 'qa'))\n",
    "\n",
    "            dir_dem = os.path.join(path, 'dl_lc', 'dem.tif')\n",
    "            dem = rasterio.open(dir_dem).read(1)\n",
    "            aspect = get_aspect(dem)\n",
    "\n",
    "            # Process QA mask\n",
    "            new_qa = []\n",
    "            for frame in tqdm(qa):\n",
    "                frame_ = np.zeros_like(frame)\n",
    "                mask = (frame == 1) | (frame == 3) | (frame == 6) | (frame == 8) | (frame == 9) | (frame == 10) | (frame == 11)\n",
    "                frame_[mask] = 1\n",
    "                frame_ = postprocess_cloud_mask(frame_, 5, 25)\n",
    "                new_qa.append(frame_)\n",
    "            qa_mask = np.array(new_qa)\n",
    "            qa_mask = 1 - qa_mask\n",
    "\n",
    "            # Calculate slopes for disturbance detection\n",
    "            K = 6\n",
    "            slopes = [calculate_slope_with_dates(rgb[:, 0], dates, i, K) for i in tqdm(range(rgb.shape[0]))]\n",
    "            slopes = np.array(slopes)\n",
    "            zero_mask = np.zeros_like(qa_mask[0], dtype=int)\n",
    "            expanded_mask_with_disturbances = qa_mask.copy()\n",
    "            for i in range(12, len(dates)):\n",
    "                zero_mask[abs(slopes[i]) > 10] = 1\n",
    "                expanded_mask_with_disturbances[i, zero_mask.astype(bool)] = 0.001\n",
    "\n",
    "            # Folder for features\n",
    "            folder_path = os.path.join(path, 'features')\n",
    "            os.makedirs(folder_path, exist_ok=True)\n",
    "\n",
    "            with rasterio.open(dir_dem) as src:\n",
    "                profile = src.profile\n",
    "\n",
    "\n",
    "            conditions = [\n",
    "                (\"resampled_no_weights\", True, False, False),\n",
    "                (\"no_resample_no_weights\", False, False, False),\n",
    "                (\"no_resample_cloud_weights\", False, True, False),\n",
    "                (\"no_resample_cloud_disturbance_weights\", False, True, True)\n",
    "            ]\n",
    "\n",
    "            for suffix, resample, use_cloud_mask, use_disturbance_mask in conditions:\n",
    "\n",
    "                for index in ['R', 'CRSWIR', 'RCC']:\n",
    "                    data = rgb[:, 0, :, :] if index.startswith('R') else crswir\n",
    "                    if index == 'RCC':\n",
    "                        epsilon = 1e-10\n",
    "                        # Perform the division while preventing division by zero\n",
    "                        denominator = rgb[:, 0, :, :] + rgb[:, 1, :, :] + rgb[:, 2, :, :]\n",
    "                        data = rgb[:, 0, :, :] / (denominator + epsilon)\n",
    "\n",
    "                    if use_disturbance_mask:\n",
    "                        mask = expanded_mask_with_disturbances\n",
    "                    elif use_cloud_mask:\n",
    "                        mask = qa_mask\n",
    "                    else:\n",
    "                        mask = np.ones_like(qa_mask)\n",
    "\n",
    "                    if resample:\n",
    "                        mask_, _ = resample_time_series(mask, dates)\n",
    "                        data_, dates_ = resample_time_series(data, dates)\n",
    "                    else : \n",
    "                        mask_ = mask\n",
    "                        data_ = data\n",
    "                        dates_ = dates\n",
    "\n",
    "                    compute_features(folder_path, data_, mask_, dates_, f'{index}_{suffix}', profile)\n",
    "          \n",
    "\n",
    "        except Exception as e:\n",
    "            print(f'Error processing {folder} : {e}')\n",
    "            print(suffix, resample, use_cloud_mask, use_disturbance_mask)\n",
    "            print(mask.shape, data.shape, len(dates))\n",
    "            error_files.append(folder)\n",
    "\n",
    "dir_ = '/Users/arthurcalvi/Data/species/validation/tiles'\n",
    "error_files = []\n",
    "force = True\n",
    "for folder in tqdm(os.listdir(dir_)):\n",
    "    process_folder(folder, dir_, force)\n",
    "\n",
    "if error_files:\n",
    "    print(f\"Errors occurred in the following files: {error_files}\")\n"
   ]
  },
  {
   "cell_type": "code",
   "execution_count": 5,
   "metadata": {},
   "outputs": [
    {
     "ename": "NameError",
     "evalue": "name 'mask' is not defined",
     "output_type": "error",
     "traceback": [
      "\u001b[0;31m---------------------------------------------------------------------------\u001b[0m",
      "\u001b[0;31mNameError\u001b[0m                                 Traceback (most recent call last)",
      "Cell \u001b[0;32mIn [5], line 1\u001b[0m\n\u001b[0;32m----> 1\u001b[0m \u001b[43mmask\u001b[49m\u001b[38;5;241m.\u001b[39mshape\n",
      "\u001b[0;31mNameError\u001b[0m: name 'mask' is not defined"
     ]
    }
   ],
   "source": []
  }
 ],
 "metadata": {
  "kernelspec": {
   "display_name": "Kayrros-default",
   "language": "python",
   "name": "python3"
  },
  "language_info": {
   "codemirror_mode": {
    "name": "ipython",
    "version": 3
   },
   "file_extension": ".py",
   "mimetype": "text/x-python",
   "name": "python",
   "nbconvert_exporter": "python",
   "pygments_lexer": "ipython3",
   "version": "3.9.6"
  }
 },
 "nbformat": 4,
 "nbformat_minor": 2
}
