{
 "cells": [
  {
   "cell_type": "markdown",
   "metadata": {},
   "source": [
    "This notebook processes Sentinel-2 time series data to extract relevant features and saves the entire dataset in Parquet format for each configuration. The configurations vary by feature extraction methods and time spans. The data includes features such as amplitude, phase, offset, elevation, and aspect, along with target variables for classification (deciduous or evergreen). This approach facilitates efficient storage and subsequent cross-validation for feature selection and model evaluation."
   ]
  },
  {
   "cell_type": "code",
   "execution_count": null,
   "metadata": {},
   "outputs": [],
   "source": [
    "import os\n",
    "from tqdm import tqdm\n",
    "from utils import load_data\n",
    "\n",
    "# Remove warnings\n",
    "import warnings\n",
    "warnings.filterwarnings(\"ignore\")\n",
    "\n",
    "# Define methods and years\n",
    "methods = [\"resampled_no_weights\",\n",
    "           \"no_resample_no_weights\", \n",
    "           \"no_resample_cloud_weights\",\n",
    "           \"no_resample_cloud_disturbance_weights\"]\n",
    "\n",
    "years = [1, 2, 3]\n",
    "configs = [f\"{method}_{year}Y\" for method in methods for year in years]\n",
    "\n",
    "data_dir = '/Users/arthurcalvi/Data/species/validation/tiles'\n",
    "os.makedirs('data', exist_ok=True)\n",
    "for config in tqdm(configs): \n",
    "    print(f'Processing config: {config}')\n",
    "    data, all_weights, tile_to_greco = load_data(data_dir, config)\n",
    "    data['greco_region'] = data['tile_id'].map(tile_to_greco)\n",
    "    \n",
    "    # Save the entire dataset to a Parquet file\n",
    "    data.to_parquet(f'data/entire_dataset_{config}.parquet')\n",
    "\n",
    "print(\"All configurations processed and saved.\")\n"
   ]
  }
 ],
 "metadata": {
  "kernelspec": {
   "display_name": "Kayrros-default",
   "language": "python",
   "name": "python3"
  },
  "language_info": {
   "codemirror_mode": {
    "name": "ipython",
    "version": 3
   },
   "file_extension": ".py",
   "mimetype": "text/x-python",
   "name": "python",
   "nbconvert_exporter": "python",
   "pygments_lexer": "ipython3",
   "version": "3.9.6"
  }
 },
 "nbformat": 4,
 "nbformat_minor": 2
}
