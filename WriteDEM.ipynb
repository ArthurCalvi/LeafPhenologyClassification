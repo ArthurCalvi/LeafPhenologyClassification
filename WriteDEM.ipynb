{
 "cells": [
  {
   "cell_type": "code",
   "execution_count": null,
   "metadata": {},
   "outputs": [],
   "source": [
    "import os \n",
    "\n",
    "dir_ = '/Users/arthurcalvi/Data/species/validation/tiles_2_5_km'\n",
    "paths = []\n",
    "for subfolder in os.listdir(dir_):\n",
    "    if not os.path.isdir(os.path.join(dir_, subfolder)):\n",
    "        continue\n",
    "    path_rgb = os.path.join(dir_, subfolder, 'rgb')\n",
    "    filename = [x for x in os.listdir(path_rgb) if x.endswith('.tif')][0]\n",
    "    paths.append(os.path.join(path_rgb, filename))"
   ]
  },
  {
   "cell_type": "code",
   "execution_count": null,
   "metadata": {},
   "outputs": [],
   "source": [
    "paths[0]\n",
    "from utils import write_dem_features\n",
    "\n",
    "write_dem_features(paths[0])"
   ]
  },
  {
   "cell_type": "code",
   "execution_count": null,
   "metadata": {},
   "outputs": [],
   "source": [
    "\n",
    "from joblib import Parallel, delayed\n",
    "\n",
    "\n",
    "counts = \\\n",
    "        Parallel(n_jobs=6, prefer=\"threads\", verbose=5)(delayed(write_dem_features)(path) for path in paths)\n",
    "\n",
    "print(f'coverage : {sum(counts) / len(counts) :.2%}')"
   ]
  }
 ],
 "metadata": {
  "kernelspec": {
   "display_name": "Kayrros-default",
   "language": "python",
   "name": "python3"
  },
  "language_info": {
   "codemirror_mode": {
    "name": "ipython",
    "version": 3
   },
   "file_extension": ".py",
   "mimetype": "text/x-python",
   "name": "python",
   "nbconvert_exporter": "python",
   "pygments_lexer": "ipython3",
   "version": "3.9.6"
  }
 },
 "nbformat": 4,
 "nbformat_minor": 2
}
