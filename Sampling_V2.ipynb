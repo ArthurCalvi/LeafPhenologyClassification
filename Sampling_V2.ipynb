{
 "cells": [
  {
   "cell_type": "markdown",
   "metadata": {},
   "source": [
    "# Loading 5 and 2.5 gridcells"
   ]
  },
  {
   "cell_type": "code",
   "execution_count": null,
   "metadata": {},
   "outputs": [],
   "source": [
    "import geopandas as gpd \n",
    "tiles_5 = gpd.read_parquet('/Users/arthurcalvi/Data/species/validation/val_train_tiles.parquet')\n",
    "tiles_2c5 = gpd.read_parquet('/Users/arthurcalvi/Data/species/validation/val_train_tiles_2_5_km.parquet')"
   ]
  },
  {
   "cell_type": "code",
   "execution_count": null,
   "metadata": {},
   "outputs": [],
   "source": [
    "import matplotlib.pyplot as plt \n",
    "fig, (ax1, ax2) = plt.subplots(1, 2, figsize=(20, 10))\n",
    "tiles_5.plot(ax=ax1, column='perc', cmap='viridis', legend=True)\n",
    "tiles_2c5.plot(ax=ax2, column='perc', cmap='viridis', legend=True)"
   ]
  },
  {
   "cell_type": "markdown",
   "metadata": {},
   "source": [
    "# Sampling 2.5km gridcells"
   ]
  },
  {
   "cell_type": "code",
   "execution_count": null,
   "metadata": {},
   "outputs": [],
   "source": [
    "import geopandas as gpd\n",
    "import pandas as pd\n",
    "from tqdm import tqdm \n",
    "from shapely.geometry import box\n",
    "import numpy as np\n",
    "\n",
    "# Load the dataset\n",
    "gdf = tiles_2c5\n",
    "\n",
    "# Ensure that the 'perc' column is interpreted as a percentage\n",
    "gdf['effective_pixels'] = (gdf['perc'] / 100) * (250 * 250)  # Assuming each cell is 2.5x2.5 km\n",
    "\n",
    "\n",
    "# Sort by the number of effective pixels in descending order\n",
    "gdf_sorted = gdf.sort_values(by='effective_pixels', ascending=False)\n",
    "\n",
    "# Initialize an empty list to hold the selected rows\n",
    "selected_rows = []\n",
    "cumulative_pixels = 0\n",
    "\n",
    "# Select cells to reach at least 2 million pixels\n",
    "for row in tqdm(gdf_sorted.itertuples(index=False)):\n",
    "    if cumulative_pixels >= 2_000_000:\n",
    "        break\n",
    "    if row.perc > 10 : \n",
    "        selected_rows.append(row)\n",
    "        cumulative_pixels += row.effective_pixels\n",
    "\n",
    "# Convert the selected rows into a GeoDataFrame\n",
    "selected_gdf = gpd.GeoDataFrame(selected_rows, columns=gdf.columns)\n",
    "\n",
    "# Ensure at least 50k pixels per eco-region\n",
    "region_pixels = selected_gdf.groupby('NomSER')['effective_pixels'].sum()\n",
    "\n",
    "for region in gdf['NomSER'].unique():\n",
    "    c = selected_gdf[selected_gdf['NomSER'] == region].shape[0]\n",
    "    if region_pixels.get(region, 0) < 50_000 or c < 10:\n",
    "        additional_cells = gdf_sorted[(gdf_sorted['NomSER'] == region) & (~gdf_sorted.index.isin(selected_gdf.index))]\n",
    "\n",
    "        for row in additional_cells.itertuples(index=False):\n",
    "            if c > 10:\n",
    "                break\n",
    "\n",
    "            selected_rows.append(row)\n",
    "            c+=1\n",
    "\n",
    "# Recreate the selected GeoDataFrame after adding necessary rows\n",
    "selected_gdf = gpd.GeoDataFrame(selected_rows, columns=gdf.columns, crs=gdf.crs)\n",
    "\n",
    "# Optimize spatial coverage by minimizing spatial correlation\n",
    "# Remove cells that are too close to others, keeping only those that enhance spatial coverage\n",
    "def spatial_filter(df, min_distance=100):  # Adjust distance threshold as necessary\n",
    "    remaining = []\n",
    "    for row in df.itertuples():\n",
    "        if all([row.geometry.distance(df.loc[i].geometry) > min_distance for i in remaining]):\n",
    "            remaining.append(row.Index)\n",
    "    return df.loc[remaining]\n",
    "\n",
    "# selected_gdf = spatial_filter(selected_gdf)\n",
    "total_pixels_deicudous = (selected_gdf.perc_deciduous * selected_gdf.effective_pixels).sum()\n",
    "total_pixels_evergreen = (selected_gdf.perc_evergreen * selected_gdf.effective_pixels).sum()\n",
    "total_pixels = selected_gdf['effective_pixels'].sum()\n",
    "\n",
    "print(f\"Total pixels: {total_pixels :.0f}\")\n",
    "print(f\"Total deciduous pixels: {total_pixels_deicudous :.0f}\")\n",
    "print(f\"Total evergreen pixels: {total_pixels_evergreen :.0f}\")\n",
    "\n",
    "selected_gdf\n"
   ]
  },
  {
   "cell_type": "code",
   "execution_count": null,
   "metadata": {},
   "outputs": [],
   "source": [
    "import matplotlib.pyplot as plt\n",
    "dep = gpd.read_file('/Users/arthurcalvi/Data/Disturbances_maps/BDForet/contour-des-departements.geojson')\n",
    "\n",
    "fig, ax = plt.subplots(figsize=(10, 10))\n",
    "selected_gdf.plot(ax=ax, column='perc', cmap='viridis', legend=True)\n",
    "dep.to_crs(selected_gdf.crs).boundary.plot(ax=ax, color='black', linewidth=0.05)"
   ]
  },
  {
   "cell_type": "code",
   "execution_count": null,
   "metadata": {},
   "outputs": [],
   "source": [
    "greco_groups = selected_gdf.groupby('NomSER')\n",
    "a = greco_groups['effective_pixels'].sum()\n",
    "#add all NomSER of gdf to a even the ones not in selected_gdf\n",
    "for i in gdf['NomSER'].unique():\n",
    "    if i not in a.index:\n",
    "        a[i] = 0\n",
    "greco_low = a[a < 50_000].index.values\n",
    "\n",
    "from utils import mapping_real_greco\n",
    "inv_map = {v: k for k, v in mapping_real_greco.items()}\n",
    "greco_low_names = [inv_map[i].replace('_', ' ') for i in greco_low]\n",
    "greco_low_names\n",
    "\n",
    "greco = gpd.read_file('/Users/arthurcalvi/Data/eco-regions/France/ser_l93_new/ser_l93_new.dbf')\n",
    "greco['greco'] = greco.codeser.apply(lambda x:x[0])\n",
    "greco = greco.dissolve(by='greco', aggfunc='first')\n",
    "greco = greco.reset_index().iloc[1:].to_crs('EPSG:2154')\n",
    "greco_under_50k = greco[greco.NomSER.isin(greco_low_names)]\n",
    "\n",
    "print('Eco-regions with less than 50k pixels:')\n",
    "greco_under_50k\n"
   ]
  },
  {
   "cell_type": "markdown",
   "metadata": {},
   "source": [
    "# Adding BDForet"
   ]
  },
  {
   "cell_type": "code",
   "execution_count": null,
   "metadata": {},
   "outputs": [],
   "source": [
    "import pandas as pd\n",
    "bdforet_year = pd.read_csv('/Users/arthurcalvi/Data/Disturbances_maps/BDForet/Année_reference_BDForet.csv', sep=';')\n",
    "dep = gpd.read_file('/Users/arthurcalvi/Data/Disturbances_maps/BDForet/contour-des-departements.geojson')"
   ]
  },
  {
   "cell_type": "code",
   "execution_count": null,
   "metadata": {},
   "outputs": [],
   "source": [
    "year = 2010\n",
    "num_dep = bdforet_year[bdforet_year['Année de référence (PVA)'] >= year]['N° Dep'].to_list()\n",
    "\n",
    "print('Visualisation of the regions with less than 50k pixels and the departments with BDForet after {}.'.format(year))\n",
    "\n",
    "fig, ax = plt.subplots(figsize=(7, 7))\n",
    "dep[ dep['code'].isin(num_dep) ].plot(ax=ax)\n",
    "dep.plot(alpha=0.1, ax=ax)\n",
    "greco_under_50k.to_crs('EPSG:4326').plot(ax=ax, edgecolor='black', facecolor='none')\n",
    "ax.set_axis_off()\n",
    "#add legend : blue patches for bdforet after 2014 and black edge for greco under 50k\n",
    "from matplotlib.patches import Patch\n",
    "from matplotlib.lines import Line2D\n",
    "legend_elements = [Patch(facecolor='blue', edgecolor='white', label=f'Département avec BDForet après {year}'),\n",
    "                   Line2D([0], [0], color='black', lw=2, label='Eco-région avec moins de 50k pixels')]\n",
    "ax.legend(handles=legend_elements, loc='upper left', fontsize=8)\n",
    "plt.show()\n"
   ]
  },
  {
   "cell_type": "markdown",
   "metadata": {},
   "source": [
    "Conclusion : We could used the BDforet data to better balance the dataset."
   ]
  },
  {
   "cell_type": "code",
   "execution_count": null,
   "metadata": {},
   "outputs": [],
   "source": [
    "selected_gdf"
   ]
  },
  {
   "cell_type": "code",
   "execution_count": null,
   "metadata": {},
   "outputs": [],
   "source": [
    "#count number of row per nomSER\n",
    "selected_gdf['NomSER'].value_counts()"
   ]
  },
  {
   "cell_type": "markdown",
   "metadata": {},
   "source": [
    "\n",
    "To improve the spatial distribution of your sampled tiles, you can add new tiles by selecting those that are closest to underrepresented areas in France. Here’s a strategy to do this:\n",
    "\n",
    "Compute the coverage density: Calculate the spatial density or coverage of your already selected tiles across the entire grid. This will help identify areas with lower tile density.\n",
    "Identify underrepresented areas: Find the centroids of grid cells that have less coverage or are farthest from already selected tiles.\n",
    "Select additional tiles: Add the tiles closest to these underrepresented areas until you've added the desired number of tiles."
   ]
  },
  {
   "cell_type": "code",
   "execution_count": null,
   "metadata": {},
   "outputs": [],
   "source": [
    "import geopandas as gpd\n",
    "from shapely.geometry import Point\n",
    "import pandas as pd\n",
    "\n",
    "def add_tiles_to_improve_coverage(gdf: gpd.GeoDataFrame, selected_gdf: gpd.GeoDataFrame, x: int, min_distance: float = 25000) -> gpd.GeoDataFrame:\n",
    "    \"\"\"\n",
    "    Add X tiles to the selected_gdf to improve spatial coverage across France.\n",
    "    \n",
    "    Args:\n",
    "    gdf (gpd.GeoDataFrame): GeoDataFrame containing all available tiles.\n",
    "    selected_gdf (gpd.GeoDataFrame): GeoDataFrame containing already selected tiles.\n",
    "    x (int): Number of additional tiles to select.\n",
    "    min_distance (float): Minimum distance in meters that a tile must be from the selected tiles to be considered.\n",
    "\n",
    "    Returns:\n",
    "    gpd.GeoDataFrame: GeoDataFrame with additional tiles selected.\n",
    "    \"\"\"\n",
    "    # Compute centroids of all grid cells\n",
    "    gdf['centroid'] = gdf.geometry.centroid\n",
    "\n",
    "    # Compute centroids of already selected tiles\n",
    "    selected_gdf['centroid'] = selected_gdf.geometry.centroid\n",
    "\n",
    "    # Filter out tiles that are within the minimum distance from any selected tile\n",
    "    def min_distance_to_selected(centroid, selected_centroids):\n",
    "        return selected_centroids.geometry.distance(centroid).min()\n",
    "    \n",
    "    gdf['min_dist_to_selected'] = gdf['centroid'].apply(min_distance_to_selected, selected_centroids=selected_gdf)\n",
    "    gdf = gdf[gdf['min_dist_to_selected'] > min_distance]\n",
    "\n",
    "    # Initialize the GeoDataFrame to store the additional selected tiles\n",
    "    additional_tiles = gpd.GeoDataFrame(columns=gdf.columns, crs=gdf.crs)\n",
    "\n",
    "    for _ in tqdm(range(x)):\n",
    "        # Select the tile with the maximum distance\n",
    "        next_tile = gdf.loc[gdf['min_dist_to_selected'].idxmax()]\n",
    "        \n",
    "        # Add this tile to the selected list and remove it from available options\n",
    "        additional_tiles = pd.concat([additional_tiles, next_tile.to_frame().T], ignore_index=True)\n",
    "        gdf = gdf.drop(next_tile.name)\n",
    "\n",
    "        # Update distances only for tiles within the radius of the last selected tile\n",
    "        buffer_radius = next_tile['min_dist_to_selected']\n",
    "        nearby_tiles = gdf[gdf.geometry.distance(next_tile.geometry) <= buffer_radius]\n",
    "        \n",
    "        if not nearby_tiles.empty:\n",
    "            gdf.loc[nearby_tiles.index, 'min_dist_to_selected'] = nearby_tiles['centroid'].apply(\n",
    "                min_distance_to_selected, selected_centroids=additional_tiles\n",
    "            )\n",
    "\n",
    "        gdf = gdf[gdf['min_dist_to_selected'] > min_distance]\n",
    "\n",
    "    # Combine the already selected tiles with the new tiles\n",
    "    final_selected_gdf = pd.concat([selected_gdf, additional_tiles], ignore_index=True)\n",
    "\n",
    "    return final_selected_gdf\n",
    "\n",
    "# Usage:\n",
    "final_selected_gdf = add_tiles_to_improve_coverage(gdf, selected_gdf, x=50)\n"
   ]
  },
  {
   "cell_type": "code",
   "execution_count": null,
   "metadata": {},
   "outputs": [],
   "source": [
    "fig, ax = plt.subplots(figsize=(7, 7))\n",
    "final_selected_gdf.plot(ax=ax, column='perc', cmap='viridis', legend=False, edgecolor='black', linewidth=0.5)\n",
    "dep.to_crs(selected_gdf.crs).boundary.plot(ax=ax, color='black', linewidth=0.05)\n",
    "ax.set_axis_off()"
   ]
  },
  {
   "cell_type": "code",
   "execution_count": null,
   "metadata": {},
   "outputs": [],
   "source": [
    "0.1 * 250 * 250"
   ]
  },
  {
   "cell_type": "code",
   "execution_count": null,
   "metadata": {},
   "outputs": [],
   "source": [
    "(final_selected_gdf.perc < 10).sum()"
   ]
  },
  {
   "cell_type": "code",
   "execution_count": null,
   "metadata": {},
   "outputs": [],
   "source": [
    "# final_selected_gdf.drop(columns=['centroid', 'min_dist_to_selected'], inplace=True)\n",
    "final_selected_gdf.rename(columns={'perc': 'perc_sarah'}, inplace=True)\n",
    "final_selected_gdf.to_parquet('/Users/arthurcalvi/Data/species/validation/tiles_2_5_km_final.parquet')"
   ]
  }
 ],
 "metadata": {
  "kernelspec": {
   "display_name": "Kayrros-default",
   "language": "python",
   "name": "python3"
  },
  "language_info": {
   "codemirror_mode": {
    "name": "ipython",
    "version": 3
   },
   "file_extension": ".py",
   "mimetype": "text/x-python",
   "name": "python",
   "nbconvert_exporter": "python",
   "pygments_lexer": "ipython3",
   "version": "3.9.6"
  }
 },
 "nbformat": 4,
 "nbformat_minor": 2
}
