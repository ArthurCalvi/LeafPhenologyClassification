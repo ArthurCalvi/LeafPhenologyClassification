{
 "cells": [
  {
   "cell_type": "code",
   "execution_count": 2,
   "metadata": {},
   "outputs": [
    {
     "name": "stdout",
     "output_type": "stream",
     "text": [
      "{\"$schema\": \"https://proj.org/schemas/v0.5/projjson.schema.json\", \"type\": \"ProjectedCRS\", \"name\": \"WGS 84 / UTM zone 31N\", \"base_crs\": {\"name\": \"WGS 84\", \"datum_ensemble\": {\"name\": \"World Geodetic System 1984 ensemble\", \"members\": [{\"name\": \"World Geodetic System 1984 (Transit)\"}, {\"name\": \"World Geodetic System 1984 (G730)\"}, {\"name\": \"World Geodetic System 1984 (G873)\"}, {\"name\": \"World Geodetic System 1984 (G1150)\"}, {\"name\": \"World Geodetic System 1984 (G1674)\"}, {\"name\": \"World Geodetic System 1984 (G1762)\"}, {\"name\": \"World Geodetic System 1984 (G2139)\"}], \"ellipsoid\": {\"name\": \"WGS 84\", \"semi_major_axis\": 6378137, \"inverse_flattening\": 298.257223563}, \"accuracy\": \"2.0\", \"id\": {\"authority\": \"EPSG\", \"code\": 6326}}, \"coordinate_system\": {\"subtype\": \"ellipsoidal\", \"axis\": [{\"name\": \"Geodetic latitude\", \"abbreviation\": \"Lat\", \"direction\": \"north\", \"unit\": \"degree\"}, {\"name\": \"Geodetic longitude\", \"abbreviation\": \"Lon\", \"direction\": \"east\", \"unit\": \"degree\"}]}, \"id\": {\"authority\": \"EPSG\", \"code\": 4326}}, \"conversion\": {\"name\": \"UTM zone 31N\", \"method\": {\"name\": \"Transverse Mercator\", \"id\": {\"authority\": \"EPSG\", \"code\": 9807}}, \"parameters\": [{\"name\": \"Latitude of natural origin\", \"value\": 0, \"unit\": \"degree\", \"id\": {\"authority\": \"EPSG\", \"code\": 8801}}, {\"name\": \"Longitude of natural origin\", \"value\": 3, \"unit\": \"degree\", \"id\": {\"authority\": \"EPSG\", \"code\": 8802}}, {\"name\": \"Scale factor at natural origin\", \"value\": 0.9996, \"unit\": \"unity\", \"id\": {\"authority\": \"EPSG\", \"code\": 8805}}, {\"name\": \"False easting\", \"value\": 500000, \"unit\": \"metre\", \"id\": {\"authority\": \"EPSG\", \"code\": 8806}}, {\"name\": \"False northing\", \"value\": 0, \"unit\": \"metre\", \"id\": {\"authority\": \"EPSG\", \"code\": 8807}}]}, \"coordinate_system\": {\"subtype\": \"Cartesian\", \"axis\": [{\"name\": \"Easting\", \"abbreviation\": \"E\", \"direction\": \"east\", \"unit\": \"metre\"}, {\"name\": \"Northing\", \"abbreviation\": \"N\", \"direction\": \"north\", \"unit\": \"metre\"}]}, \"scope\": \"Engineering survey, topographic mapping.\", \"area\": \"Between 0\\u00b0E and 6\\u00b0E, northern hemisphere between equator and 84\\u00b0N, onshore and offshore. Algeria. Andorra. Belgium. Benin. Burkina Faso. Denmark - North Sea. France. Germany - North Sea. Ghana. Luxembourg. Mali. Netherlands. Niger. Nigeria. Norway. Spain. Togo. United Kingdom (UK) - North Sea.\", \"bbox\": {\"south_latitude\": 0, \"west_longitude\": 0, \"north_latitude\": 84, \"east_longitude\": 6}, \"id\": {\"authority\": \"EPSG\", \"code\": 32631}}\n"
     ]
    },
    {
     "data": {
      "text/html": [
       "<div>\n",
       "<style scoped>\n",
       "    .dataframe tbody tr th:only-of-type {\n",
       "        vertical-align: middle;\n",
       "    }\n",
       "\n",
       "    .dataframe tbody tr th {\n",
       "        vertical-align: top;\n",
       "    }\n",
       "\n",
       "    .dataframe thead th {\n",
       "        text-align: right;\n",
       "    }\n",
       "</style>\n",
       "<table border=\"1\" class=\"dataframe\">\n",
       "  <thead>\n",
       "    <tr style=\"text-align: right;\">\n",
       "      <th></th>\n",
       "      <th>perc</th>\n",
       "      <th>set</th>\n",
       "      <th>NomSER</th>\n",
       "      <th>geometry</th>\n",
       "      <th>color</th>\n",
       "      <th>year</th>\n",
       "      <th>perc_year</th>\n",
       "    </tr>\n",
       "  </thead>\n",
       "  <tbody>\n",
       "    <tr>\n",
       "      <th>0</th>\n",
       "      <td>0.025600</td>\n",
       "      <td>training</td>\n",
       "      <td>Ouest-Bretagne et Nord-Cotentin</td>\n",
       "      <td>POLYGON ((135901.068 5271036.264, 135901.068 5...</td>\n",
       "      <td>blue</td>\n",
       "      <td>2020.0</td>\n",
       "      <td>0.250000</td>\n",
       "    </tr>\n",
       "    <tr>\n",
       "      <th>1</th>\n",
       "      <td>0.023959</td>\n",
       "      <td>training</td>\n",
       "      <td>Ouest-Bretagne et Nord-Cotentin</td>\n",
       "      <td>POLYGON ((160901.068 5346036.264, 160901.068 5...</td>\n",
       "      <td>blue</td>\n",
       "      <td>2022.0</td>\n",
       "      <td>0.996756</td>\n",
       "    </tr>\n",
       "    <tr>\n",
       "      <th>2</th>\n",
       "      <td>0.020800</td>\n",
       "      <td>training</td>\n",
       "      <td>Ouest-Bretagne et Nord-Cotentin</td>\n",
       "      <td>POLYGON ((245901.068 5381036.264, 245901.068 5...</td>\n",
       "      <td>blue</td>\n",
       "      <td>2022.0</td>\n",
       "      <td>0.999344</td>\n",
       "    </tr>\n",
       "    <tr>\n",
       "      <th>3</th>\n",
       "      <td>0.019061</td>\n",
       "      <td>training</td>\n",
       "      <td>Ouest-Bretagne et Nord-Cotentin</td>\n",
       "      <td>POLYGON ((-59098.932 5386036.264, -59098.932 5...</td>\n",
       "      <td>blue</td>\n",
       "      <td>NaN</td>\n",
       "      <td>0.000000</td>\n",
       "    </tr>\n",
       "    <tr>\n",
       "      <th>4</th>\n",
       "      <td>0.028800</td>\n",
       "      <td>validation</td>\n",
       "      <td>Ouest-Bretagne et Nord-Cotentin</td>\n",
       "      <td>POLYGON ((245901.068 5436036.264, 245901.068 5...</td>\n",
       "      <td>yellow</td>\n",
       "      <td>2022.0</td>\n",
       "      <td>0.999463</td>\n",
       "    </tr>\n",
       "  </tbody>\n",
       "</table>\n",
       "</div>"
      ],
      "text/plain": [
       "       perc         set                           NomSER  \\\n",
       "0  0.025600    training  Ouest-Bretagne et Nord-Cotentin   \n",
       "1  0.023959    training  Ouest-Bretagne et Nord-Cotentin   \n",
       "2  0.020800    training  Ouest-Bretagne et Nord-Cotentin   \n",
       "3  0.019061    training  Ouest-Bretagne et Nord-Cotentin   \n",
       "4  0.028800  validation  Ouest-Bretagne et Nord-Cotentin   \n",
       "\n",
       "                                            geometry   color    year  \\\n",
       "0  POLYGON ((135901.068 5271036.264, 135901.068 5...    blue  2020.0   \n",
       "1  POLYGON ((160901.068 5346036.264, 160901.068 5...    blue  2022.0   \n",
       "2  POLYGON ((245901.068 5381036.264, 245901.068 5...    blue  2022.0   \n",
       "3  POLYGON ((-59098.932 5386036.264, -59098.932 5...    blue     NaN   \n",
       "4  POLYGON ((245901.068 5436036.264, 245901.068 5...  yellow  2022.0   \n",
       "\n",
       "   perc_year  \n",
       "0   0.250000  \n",
       "1   0.996756  \n",
       "2   0.999344  \n",
       "3   0.000000  \n",
       "4   0.999463  "
      ]
     },
     "execution_count": 2,
     "metadata": {},
     "output_type": "execute_result"
    }
   ],
   "source": [
    "import geopandas as gpd\n",
    "\n",
    "\n",
    "\n",
    "#Directory CHM france 2018, 2019, 2020\n",
    "chm_2020 = '/Users/arthurcalvi/Data/Disturbances_maps/FORMS/2020_l93.tif'\n",
    "\n",
    "#Directory folder with the tiles\n",
    "tiles = '/Users/arthurcalvi/Data/species/validation/tiles'\n",
    "\n",
    "# Load the data\n",
    "result_gdf = gpd.read_parquet(\"/Users/arthurcalvi/Data/species/validation/val_train_tiles.parquet\")\n",
    "print(result_gdf.crs)\n",
    "\n"
   ]
  },
  {
   "cell_type": "code",
   "execution_count": 19,
   "metadata": {},
   "outputs": [
    {
     "name": "stdout",
     "output_type": "stream",
     "text": [
      "{\"$schema\": \"https://proj.org/schemas/v0.5/projjson.schema.json\", \"type\": \"ProjectedCRS\", \"name\": \"WGS 84 / UTM zone 31N\", \"base_crs\": {\"name\": \"WGS 84\", \"datum_ensemble\": {\"name\": \"World Geodetic System 1984 ensemble\", \"members\": [{\"name\": \"World Geodetic System 1984 (Transit)\"}, {\"name\": \"World Geodetic System 1984 (G730)\"}, {\"name\": \"World Geodetic System 1984 (G873)\"}, {\"name\": \"World Geodetic System 1984 (G1150)\"}, {\"name\": \"World Geodetic System 1984 (G1674)\"}, {\"name\": \"World Geodetic System 1984 (G1762)\"}, {\"name\": \"World Geodetic System 1984 (G2139)\"}], \"ellipsoid\": {\"name\": \"WGS 84\", \"semi_major_axis\": 6378137, \"inverse_flattening\": 298.257223563}, \"accuracy\": \"2.0\", \"id\": {\"authority\": \"EPSG\", \"code\": 6326}}, \"coordinate_system\": {\"subtype\": \"ellipsoidal\", \"axis\": [{\"name\": \"Geodetic latitude\", \"abbreviation\": \"Lat\", \"direction\": \"north\", \"unit\": \"degree\"}, {\"name\": \"Geodetic longitude\", \"abbreviation\": \"Lon\", \"direction\": \"east\", \"unit\": \"degree\"}]}, \"id\": {\"authority\": \"EPSG\", \"code\": 4326}}, \"conversion\": {\"name\": \"UTM zone 31N\", \"method\": {\"name\": \"Transverse Mercator\", \"id\": {\"authority\": \"EPSG\", \"code\": 9807}}, \"parameters\": [{\"name\": \"Latitude of natural origin\", \"value\": 0, \"unit\": \"degree\", \"id\": {\"authority\": \"EPSG\", \"code\": 8801}}, {\"name\": \"Longitude of natural origin\", \"value\": 3, \"unit\": \"degree\", \"id\": {\"authority\": \"EPSG\", \"code\": 8802}}, {\"name\": \"Scale factor at natural origin\", \"value\": 0.9996, \"unit\": \"unity\", \"id\": {\"authority\": \"EPSG\", \"code\": 8805}}, {\"name\": \"False easting\", \"value\": 500000, \"unit\": \"metre\", \"id\": {\"authority\": \"EPSG\", \"code\": 8806}}, {\"name\": \"False northing\", \"value\": 0, \"unit\": \"metre\", \"id\": {\"authority\": \"EPSG\", \"code\": 8807}}]}, \"coordinate_system\": {\"subtype\": \"Cartesian\", \"axis\": [{\"name\": \"Easting\", \"abbreviation\": \"E\", \"direction\": \"east\", \"unit\": \"metre\"}, {\"name\": \"Northing\", \"abbreviation\": \"N\", \"direction\": \"north\", \"unit\": \"metre\"}]}, \"scope\": \"Engineering survey, topographic mapping.\", \"area\": \"Between 0\\u00b0E and 6\\u00b0E, northern hemisphere between equator and 84\\u00b0N, onshore and offshore. Algeria. Andorra. Belgium. Benin. Burkina Faso. Denmark - North Sea. France. Germany - North Sea. Ghana. Luxembourg. Mali. Netherlands. Niger. Nigeria. Norway. Spain. Togo. United Kingdom (UK) - North Sea.\", \"bbox\": {\"south_latitude\": 0, \"west_longitude\": 0, \"north_latitude\": 84, \"east_longitude\": 6}, \"id\": {\"authority\": \"EPSG\", \"code\": 32631}}\n"
     ]
    },
    {
     "name": "stderr",
     "output_type": "stream",
     "text": [
      "1it [00:00,  8.51it/s]"
     ]
    },
    {
     "name": "stdout",
     "output_type": "stream",
     "text": [
      "writing /Users/arthurcalvi/Data/species/validation/tiles/tile_0_20180101_20221231_Ouest-Bretagne_et_Nord-Cotentin_training/tree_map/CHM2020.tif for index 0\n",
      "writing /Users/arthurcalvi/Data/species/validation/tiles/tile_1_20200102_20241230_Ouest-Bretagne_et_Nord-Cotentin_training/tree_map/CHM2020.tif for index 1\n"
     ]
    },
    {
     "name": "stderr",
     "output_type": "stream",
     "text": [
      "3it [00:00,  8.86it/s]"
     ]
    },
    {
     "name": "stdout",
     "output_type": "stream",
     "text": [
      "writing /Users/arthurcalvi/Data/species/validation/tiles/tile_2_20200102_20241230_Ouest-Bretagne_et_Nord-Cotentin_training/tree_map/CHM2020.tif for index 2\n",
      "writing /Users/arthurcalvi/Data/species/validation/tiles/tile_4_20200102_20241230_Ouest-Bretagne_et_Nord-Cotentin_validation/tree_map/CHM2020.tif for index 4\n"
     ]
    },
    {
     "name": "stderr",
     "output_type": "stream",
     "text": [
      "7it [00:00, 13.79it/s]"
     ]
    },
    {
     "name": "stdout",
     "output_type": "stream",
     "text": [
      "writing /Users/arthurcalvi/Data/species/validation/tiles/tile_6_20200102_20241230_Ouest-Bretagne_et_Nord-Cotentin_validation/tree_map/CHM2020.tif for index 6\n",
      "writing /Users/arthurcalvi/Data/species/validation/tiles/tile_7_20200102_20241230_Ouest-Bretagne_et_Nord-Cotentin_validation/tree_map/CHM2020.tif for index 7\n"
     ]
    },
    {
     "name": "stderr",
     "output_type": "stream",
     "text": [
      "9it [00:00, 13.13it/s]"
     ]
    },
    {
     "name": "stdout",
     "output_type": "stream",
     "text": [
      "writing /Users/arthurcalvi/Data/species/validation/tiles/tile_8_20200102_20241230_Côtes_et_plateaux_de_la_Manche_training/tree_map/CHM2020.tif for index 8\n",
      "writing /Users/arthurcalvi/Data/species/validation/tiles/tile_9_20200102_20241230_Côtes_et_plateaux_de_la_Manche_training/tree_map/CHM2020.tif for index 9\n",
      "writing /Users/arthurcalvi/Data/species/validation/tiles/tile_10_20200102_20241230_Côtes_et_plateaux_de_la_Manche_training/tree_map/CHM2020.tif for index 10\n",
      "writing /Users/arthurcalvi/Data/species/validation/tiles/tile_11_20200102_20241230_Côtes_et_plateaux_de_la_Manche_training/tree_map/CHM2020.tif for index 11\n"
     ]
    },
    {
     "name": "stderr",
     "output_type": "stream",
     "text": [
      "14it [00:01, 13.98it/s]"
     ]
    },
    {
     "name": "stdout",
     "output_type": "stream",
     "text": [
      "writing /Users/arthurcalvi/Data/species/validation/tiles/tile_12_20200102_20241230_Côtes_et_plateaux_de_la_Manche_validation/tree_map/CHM2020.tif for index 12\n",
      "writing /Users/arthurcalvi/Data/species/validation/tiles/tile_13_20200102_20241230_Côtes_et_plateaux_de_la_Manche_validation/tree_map/CHM2020.tif for index 13\n",
      "writing /Users/arthurcalvi/Data/species/validation/tiles/tile_14_20200102_20241230_Côtes_et_plateaux_de_la_Manche_validation/tree_map/CHM2020.tif for index 14\n"
     ]
    },
    {
     "name": "stderr",
     "output_type": "stream",
     "text": [
      "17it [00:01, 15.71it/s]"
     ]
    },
    {
     "name": "stdout",
     "output_type": "stream",
     "text": [
      "writing /Users/arthurcalvi/Data/species/validation/tiles/tile_15_20200102_20241230_Côtes_et_plateaux_de_la_Manche_validation/tree_map/CHM2020.tif for index 15\n",
      "writing /Users/arthurcalvi/Data/species/validation/tiles/tile_16_20200102_20241230_Ardenne_primaire_training/tree_map/CHM2020.tif for index 16\n",
      "writing /Users/arthurcalvi/Data/species/validation/tiles/tile_17_20200102_20241230_Ardenne_primaire_training/tree_map/CHM2020.tif for index 17\n",
      "writing /Users/arthurcalvi/Data/species/validation/tiles/tile_18_20200102_20241230_Ardenne_primaire_training/tree_map/CHM2020.tif for index 18\n"
     ]
    },
    {
     "name": "stderr",
     "output_type": "stream",
     "text": [
      "21it [00:01, 16.64it/s]"
     ]
    },
    {
     "name": "stdout",
     "output_type": "stream",
     "text": [
      "writing /Users/arthurcalvi/Data/species/validation/tiles/tile_19_20200102_20241230_Ardenne_primaire_training/tree_map/CHM2020.tif for index 19\n",
      "writing /Users/arthurcalvi/Data/species/validation/tiles/tile_20_20200102_20241230_Ardenne_primaire_validation/tree_map/CHM2020.tif for index 20\n",
      "writing /Users/arthurcalvi/Data/species/validation/tiles/tile_21_20200102_20241230_Ardenne_primaire_validation/tree_map/CHM2020.tif for index 21\n",
      "writing /Users/arthurcalvi/Data/species/validation/tiles/tile_22_20200102_20241230_Ardenne_primaire_validation/tree_map/CHM2020.tif for index 22\n"
     ]
    },
    {
     "name": "stderr",
     "output_type": "stream",
     "text": [
      "25it [00:01, 16.11it/s]"
     ]
    },
    {
     "name": "stdout",
     "output_type": "stream",
     "text": [
      "writing /Users/arthurcalvi/Data/species/validation/tiles/tile_23_20200102_20241230_Ardenne_primaire_validation/tree_map/CHM2020.tif for index 23\n",
      "writing /Users/arthurcalvi/Data/species/validation/tiles/tile_24_20200102_20241230_Massif_vosgien_central_training/tree_map/CHM2020.tif for index 24\n",
      "writing /Users/arthurcalvi/Data/species/validation/tiles/tile_25_20200102_20241230_Massif_vosgien_central_training/tree_map/CHM2020.tif for index 25\n"
     ]
    },
    {
     "name": "stderr",
     "output_type": "stream",
     "text": [
      "27it [00:01, 14.54it/s]"
     ]
    },
    {
     "name": "stdout",
     "output_type": "stream",
     "text": [
      "writing /Users/arthurcalvi/Data/species/validation/tiles/tile_26_20200102_20241230_Massif_vosgien_central_training/tree_map/CHM2020.tif for index 26\n",
      "writing /Users/arthurcalvi/Data/species/validation/tiles/tile_27_20200102_20241230_Massif_vosgien_central_training/tree_map/CHM2020.tif for index 27\n",
      "writing /Users/arthurcalvi/Data/species/validation/tiles/tile_28_20200102_20241230_Massif_vosgien_central_validation/tree_map/CHM2020.tif for index 28\n"
     ]
    },
    {
     "name": "stderr",
     "output_type": "stream",
     "text": [
      "31it [00:02, 14.75it/s]"
     ]
    },
    {
     "name": "stdout",
     "output_type": "stream",
     "text": [
      "writing /Users/arthurcalvi/Data/species/validation/tiles/tile_29_20200102_20241230_Massif_vosgien_central_validation/tree_map/CHM2020.tif for index 29\n",
      "writing /Users/arthurcalvi/Data/species/validation/tiles/tile_30_20200102_20241230_Massif_vosgien_central_validation/tree_map/CHM2020.tif for index 30\n",
      "writing /Users/arthurcalvi/Data/species/validation/tiles/tile_31_20200102_20241230_Massif_vosgien_central_validation/tree_map/CHM2020.tif for index 31\n",
      "writing /Users/arthurcalvi/Data/species/validation/tiles/tile_32_20200102_20241230_Premier_plateau_du_Jura_training/tree_map/CHM2020.tif for index 32\n"
     ]
    },
    {
     "name": "stderr",
     "output_type": "stream",
     "text": [
      "36it [00:02, 16.06it/s]"
     ]
    },
    {
     "name": "stdout",
     "output_type": "stream",
     "text": [
      "writing /Users/arthurcalvi/Data/species/validation/tiles/tile_33_20200102_20241230_Premier_plateau_du_Jura_training/tree_map/CHM2020.tif for index 33\n",
      "writing /Users/arthurcalvi/Data/species/validation/tiles/tile_34_20200102_20241230_Premier_plateau_du_Jura_training/tree_map/CHM2020.tif for index 34\n",
      "writing /Users/arthurcalvi/Data/species/validation/tiles/tile_35_20200102_20241230_Premier_plateau_du_Jura_training/tree_map/CHM2020.tif for index 35\n",
      "writing /Users/arthurcalvi/Data/species/validation/tiles/tile_37_20200102_20241230_Premier_plateau_du_Jura_validation/tree_map/CHM2020.tif for index 37\n"
     ]
    },
    {
     "name": "stderr",
     "output_type": "stream",
     "text": [
      "41it [00:02, 17.60it/s]"
     ]
    },
    {
     "name": "stdout",
     "output_type": "stream",
     "text": [
      "writing /Users/arthurcalvi/Data/species/validation/tiles/tile_38_20200102_20241230_Premier_plateau_du_Jura_validation/tree_map/CHM2020.tif for index 38\n",
      "writing /Users/arthurcalvi/Data/species/validation/tiles/tile_39_20140101_20181231_Premier_plateau_du_Jura_validation/tree_map/CHM2020.tif for index 39\n",
      "writing /Users/arthurcalvi/Data/species/validation/tiles/tile_40_20200102_20241230_Terres_rouges_training/tree_map/CHM2020.tif for index 40\n",
      "writing /Users/arthurcalvi/Data/species/validation/tiles/tile_41_20200102_20241230_Terres_rouges_training/tree_map/CHM2020.tif for index 41\n"
     ]
    },
    {
     "name": "stderr",
     "output_type": "stream",
     "text": [
      "45it [00:03, 15.78it/s]"
     ]
    },
    {
     "name": "stdout",
     "output_type": "stream",
     "text": [
      "writing /Users/arthurcalvi/Data/species/validation/tiles/tile_42_20200102_20241230_Terres_rouges_training/tree_map/CHM2020.tif for index 42\n",
      "writing /Users/arthurcalvi/Data/species/validation/tiles/tile_43_20200102_20241230_Terres_rouges_training/tree_map/CHM2020.tif for index 43\n",
      "writing /Users/arthurcalvi/Data/species/validation/tiles/tile_44_20200102_20241230_Terres_rouges_validation/tree_map/CHM2020.tif for index 44\n",
      "writing /Users/arthurcalvi/Data/species/validation/tiles/tile_45_20200102_20241230_Terres_rouges_validation/tree_map/CHM2020.tif for index 45\n"
     ]
    },
    {
     "name": "stderr",
     "output_type": "stream",
     "text": [
      "49it [00:03, 16.76it/s]"
     ]
    },
    {
     "name": "stdout",
     "output_type": "stream",
     "text": [
      "writing /Users/arthurcalvi/Data/species/validation/tiles/tile_46_20200102_20241230_Terres_rouges_validation/tree_map/CHM2020.tif for index 46\n",
      "writing /Users/arthurcalvi/Data/species/validation/tiles/tile_47_20200102_20241230_Terres_rouges_validation/tree_map/CHM2020.tif for index 47\n",
      "writing /Users/arthurcalvi/Data/species/validation/tiles/tile_48_20200102_20241230_Châtaigneraie_du_Centre_et_de_l'Ouest_training/tree_map/CHM2020.tif for index 48\n",
      "writing /Users/arthurcalvi/Data/species/validation/tiles/tile_49_20200102_20241230_Châtaigneraie_du_Centre_et_de_l'Ouest_training/tree_map/CHM2020.tif for index 49\n"
     ]
    },
    {
     "name": "stderr",
     "output_type": "stream",
     "text": [
      "54it [00:03, 19.34it/s]"
     ]
    },
    {
     "name": "stdout",
     "output_type": "stream",
     "text": [
      "writing /Users/arthurcalvi/Data/species/validation/tiles/tile_50_20200102_20241230_Châtaigneraie_du_Centre_et_de_l'Ouest_training/tree_map/CHM2020.tif for index 50\n",
      "writing /Users/arthurcalvi/Data/species/validation/tiles/tile_51_20200102_20241230_Châtaigneraie_du_Centre_et_de_l'Ouest_training/tree_map/CHM2020.tif for index 51\n",
      "writing /Users/arthurcalvi/Data/species/validation/tiles/tile_53_20200102_20241230_Châtaigneraie_du_Centre_et_de_l'Ouest_validation/tree_map/CHM2020.tif for index 53\n",
      "writing /Users/arthurcalvi/Data/species/validation/tiles/tile_54_20200102_20241230_Châtaigneraie_du_Centre_et_de_l'Ouest_validation/tree_map/CHM2020.tif for index 54\n"
     ]
    },
    {
     "name": "stderr",
     "output_type": "stream",
     "text": [
      "56it [00:03, 19.01it/s]"
     ]
    },
    {
     "name": "stdout",
     "output_type": "stream",
     "text": [
      "writing /Users/arthurcalvi/Data/species/validation/tiles/tile_55_20200102_20241230_Châtaigneraie_du_Centre_et_de_l'Ouest_validation/tree_map/CHM2020.tif for index 55\n",
      "writing /Users/arthurcalvi/Data/species/validation/tiles/tile_56_20200102_20241230_Préalpes_du_Nord_training/tree_map/CHM2020.tif for index 56\n",
      "writing /Users/arthurcalvi/Data/species/validation/tiles/tile_57_20200102_20241230_Préalpes_du_Nord_training/tree_map/CHM2020.tif for index 57\n"
     ]
    },
    {
     "name": "stderr",
     "output_type": "stream",
     "text": [
      "61it [00:03, 18.78it/s]"
     ]
    },
    {
     "name": "stdout",
     "output_type": "stream",
     "text": [
      "writing /Users/arthurcalvi/Data/species/validation/tiles/tile_58_20200102_20241230_Préalpes_du_Nord_training/tree_map/CHM2020.tif for index 58\n",
      "writing /Users/arthurcalvi/Data/species/validation/tiles/tile_60_20200102_20241230_Préalpes_du_Nord_validation/tree_map/CHM2020.tif for index 60\n",
      "writing /Users/arthurcalvi/Data/species/validation/tiles/tile_61_20200102_20241230_Préalpes_du_Nord_validation/tree_map/CHM2020.tif for index 61\n"
     ]
    },
    {
     "name": "stderr",
     "output_type": "stream",
     "text": [
      "65it [00:04, 19.46it/s]"
     ]
    },
    {
     "name": "stdout",
     "output_type": "stream",
     "text": [
      "writing /Users/arthurcalvi/Data/species/validation/tiles/tile_64_20200102_20241230_Piémont_pyrénéen_training/tree_map/CHM2020.tif for index 64\n",
      "writing /Users/arthurcalvi/Data/species/validation/tiles/tile_65_20200102_20241230_Piémont_pyrénéen_training/tree_map/CHM2020.tif for index 65\n"
     ]
    },
    {
     "name": "stderr",
     "output_type": "stream",
     "text": [
      "67it [00:04, 16.38it/s]"
     ]
    },
    {
     "name": "stdout",
     "output_type": "stream",
     "text": [
      "writing /Users/arthurcalvi/Data/species/validation/tiles/tile_66_20200102_20241230_Piémont_pyrénéen_training/tree_map/CHM2020.tif for index 66\n",
      "writing /Users/arthurcalvi/Data/species/validation/tiles/tile_67_20180101_20221231_Piémont_pyrénéen_training/tree_map/CHM2020.tif for index 67\n",
      "writing /Users/arthurcalvi/Data/species/validation/tiles/tile_68_20200102_20241230_Piémont_pyrénéen_validation/tree_map/CHM2020.tif for index 68\n"
     ]
    },
    {
     "name": "stderr",
     "output_type": "stream",
     "text": [
      "73it [00:04, 19.79it/s]"
     ]
    },
    {
     "name": "stdout",
     "output_type": "stream",
     "text": [
      "writing /Users/arthurcalvi/Data/species/validation/tiles/tile_71_20190102_20231231_Piémont_pyrénéen_validation/tree_map/CHM2020.tif for index 71\n",
      "writing /Users/arthurcalvi/Data/species/validation/tiles/tile_72_20200102_20241230_Garrigues_training/tree_map/CHM2020.tif for index 72\n",
      "writing /Users/arthurcalvi/Data/species/validation/tiles/tile_73_20200102_20241230_Garrigues_training/tree_map/CHM2020.tif for index 73\n",
      "writing /Users/arthurcalvi/Data/species/validation/tiles/tile_74_20200102_20241230_Garrigues_training/tree_map/CHM2020.tif for index 74\n"
     ]
    },
    {
     "name": "stderr",
     "output_type": "stream",
     "text": [
      "79it [00:04, 21.57it/s]"
     ]
    },
    {
     "name": "stdout",
     "output_type": "stream",
     "text": [
      "writing /Users/arthurcalvi/Data/species/validation/tiles/tile_75_20200102_20241230_Garrigues_training/tree_map/CHM2020.tif for index 75\n",
      "writing /Users/arthurcalvi/Data/species/validation/tiles/tile_76_20200102_20241230_Garrigues_validation/tree_map/CHM2020.tif for index 76\n",
      "writing /Users/arthurcalvi/Data/species/validation/tiles/tile_78_20200102_20241230_Garrigues_validation/tree_map/CHM2020.tif for index 78\n",
      "writing /Users/arthurcalvi/Data/species/validation/tiles/tile_79_20200102_20241230_Garrigues_validation/tree_map/CHM2020.tif for index 79\n"
     ]
    },
    {
     "name": "stderr",
     "output_type": "stream",
     "text": [
      "82it [00:04, 18.75it/s]"
     ]
    },
    {
     "name": "stdout",
     "output_type": "stream",
     "text": [
      "writing /Users/arthurcalvi/Data/species/validation/tiles/tile_80_20200102_20241230_Corse_occidentale_training/tree_map/CHM2020.tif for index 80\n",
      "writing /Users/arthurcalvi/Data/species/validation/tiles/tile_81_20200102_20241230_Corse_occidentale_training/tree_map/CHM2020.tif for index 81\n",
      "writing /Users/arthurcalvi/Data/species/validation/tiles/tile_82_20200102_20241230_Corse_occidentale_training/tree_map/CHM2020.tif for index 82\n"
     ]
    },
    {
     "name": "stderr",
     "output_type": "stream",
     "text": [
      "85it [00:05, 15.78it/s]"
     ]
    },
    {
     "name": "stdout",
     "output_type": "stream",
     "text": [
      "writing /Users/arthurcalvi/Data/species/validation/tiles/tile_83_20200102_20241230_Corse_occidentale_training/tree_map/CHM2020.tif for index 83\n",
      "writing /Users/arthurcalvi/Data/species/validation/tiles/tile_84_20200102_20241230_Corse_occidentale_validation/tree_map/CHM2020.tif for index 84\n",
      "writing /Users/arthurcalvi/Data/species/validation/tiles/tile_85_20200102_20241230_Corse_occidentale_validation/tree_map/CHM2020.tif for index 85\n"
     ]
    },
    {
     "name": "stderr",
     "output_type": "stream",
     "text": [
      "88it [00:05, 15.99it/s]"
     ]
    },
    {
     "name": "stdout",
     "output_type": "stream",
     "text": [
      "writing /Users/arthurcalvi/Data/species/validation/tiles/tile_86_20200102_20241230_Corse_occidentale_validation/tree_map/CHM2020.tif for index 86\n",
      "writing /Users/arthurcalvi/Data/species/validation/tiles/tile_87_20200102_20241230_Corse_occidentale_validation/tree_map/CHM2020.tif for index 87\n"
     ]
    },
    {
     "name": "stderr",
     "output_type": "stream",
     "text": [
      "\n"
     ]
    }
   ],
   "source": [
    "import geopandas as gpd\n",
    "import rasterio\n",
    "from rasterio.mask import mask\n",
    "from rasterio.warp import calculate_default_transform, reproject, Resampling, transform_geom\n",
    "import os\n",
    "import numpy as np\n",
    "from shapely.geometry import box, mapping\n",
    "from tqdm import tqdm\n",
    "\n",
    "def crop_and_save_chm(chm_path: str, tiles_path: str, gdf: gpd.GeoDataFrame):\n",
    "    \"\"\"\n",
    "    Crop the CHM for each tile using the geometry of the corresponding RGB file and save it in the corresponding folder.\n",
    "\n",
    "    Args:\n",
    "        chm_path (str): Path to the CHM .tif file.\n",
    "        tiles_path (str): Path to the directory containing the tile folders.\n",
    "        gdf (gpd.GeoDataFrame): GeoDataFrame containing the AOIs.\n",
    "    \"\"\"\n",
    "    with rasterio.open(chm_path) as src:\n",
    "        chm_crs = src.crs\n",
    "        # Reproject gdf to match the CRS of the CHM\n",
    "        gdf = gdf.to_crs(chm_crs)\n",
    "\n",
    "        for idx, row in tqdm(gdf.iterrows()):\n",
    "            # Match the correct folder\n",
    "            tile_folders = sorted([f for f in os.listdir(tiles_path) if f.startswith(f'tile_') and f.split('_')[1].isdigit()], key=lambda x: int(x.split('_')[1]))\n",
    "            matching_tile_folder = next((f for f in tile_folders if int(f.split('_')[1]) == idx), None)\n",
    "            if matching_tile_folder:\n",
    "                tile_folder = os.path.join(tiles_path, matching_tile_folder, 'tree_map')\n",
    "                os.makedirs(tile_folder, exist_ok=True)\n",
    "                output_path = os.path.join(tile_folder, 'CHM2020.tif')\n",
    "\n",
    "                print(f\"writing {output_path} for index {idx}\")\n",
    "                \n",
    "                # Use the geometry of the RGB file for cropping\n",
    "                rgb_folder = os.path.join(tiles_path, matching_tile_folder, 'rgb')\n",
    "                for file in os.listdir(rgb_folder):\n",
    "                    if file.endswith(\".tif\"):\n",
    "                        with rasterio.open(os.path.join(rgb_folder, file)) as rgb_src:\n",
    "                            target_crs = rgb_src.crs\n",
    "                            target_bounds = rgb_src.bounds\n",
    "                            target_geometry = box(target_bounds.left, target_bounds.bottom, target_bounds.right, target_bounds.top)\n",
    "                            target_geometry = mapping(target_geometry)\n",
    "                            target_transform = rgb_src.transform\n",
    "                            target_width = rgb_src.width\n",
    "                            target_height = rgb_src.height\n",
    "                            # Transform the geometry to the CRS of the CHM\n",
    "                            if target_crs != chm_crs:\n",
    "                                target_geometry = transform_geom(target_crs, chm_crs, target_geometry)\n",
    "                            break\n",
    "                \n",
    "                # Crop using the target geometry\n",
    "                out_image, out_transform = mask(src, [target_geometry], crop=True)\n",
    "                out_meta = src.meta.copy()\n",
    "                out_meta.update({\n",
    "                    \"driver\": \"GTiff\",\n",
    "                    \"height\": out_image.shape[1],\n",
    "                    \"width\": out_image.shape[2],\n",
    "                    \"transform\": out_transform,\n",
    "                    \"crs\": chm_crs,\n",
    "                    \"count\": 1,\n",
    "                    \"nodata\": src.nodata\n",
    "                })\n",
    "                \n",
    "                if chm_crs != target_crs:\n",
    "\n",
    "                    out_meta.update({\n",
    "                        \"crs\": target_crs,\n",
    "                        \"transform\": target_transform,\n",
    "                        \"width\": target_width,\n",
    "                        \"height\": target_height,\n",
    "                        \"nodata\": src.nodata\n",
    "                    })\n",
    "                    with rasterio.open(output_path, \"w\", **out_meta) as dst:\n",
    "                        reproject(\n",
    "                            source=out_image,\n",
    "                            destination=rasterio.band(dst, 1),\n",
    "                            src_transform=out_transform,\n",
    "                            src_crs=chm_crs,\n",
    "                            dst_transform=target_transform,\n",
    "                            dst_crs=target_crs,\n",
    "                            resampling=Resampling.bilinear\n",
    "                        )\n",
    "                else:\n",
    "                    with rasterio.open(output_path, \"w\", **out_meta) as dst:\n",
    "                        dst.write(out_image[0], 1)\n",
    "\n",
    "\n",
    "# Directory CHM France 2020\n",
    "chm_2020 = '/Users/arthurcalvi/Data/Disturbances_maps/FORMS/2020_l93.tif'\n",
    "\n",
    "# Directory folder with the tiles\n",
    "tiles = '/Users/arthurcalvi/Data/species/validation/tiles'\n",
    "\n",
    "# Load the data\n",
    "result_gdf = gpd.read_parquet(\"/Users/arthurcalvi/Data/species/validation/val_train_tiles.parquet\")\n",
    "print(result_gdf.crs)\n",
    "\n",
    "crop_and_save_chm(chm_2020, tiles, result_gdf)\n"
   ]
  }
 ],
 "metadata": {
  "kernelspec": {
   "display_name": "Kayrros-default",
   "language": "python",
   "name": "python3"
  },
  "language_info": {
   "codemirror_mode": {
    "name": "ipython",
    "version": 3
   },
   "file_extension": ".py",
   "mimetype": "text/x-python",
   "name": "python",
   "nbconvert_exporter": "python",
   "pygments_lexer": "ipython3",
   "version": "3.9.6"
  }
 },
 "nbformat": 4,
 "nbformat_minor": 2
}
